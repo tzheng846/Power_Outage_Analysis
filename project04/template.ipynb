{
 "cells": [
  {
   "cell_type": "markdown",
   "metadata": {},
   "source": [
    "# Your Title Here\n",
    "\n",
    "**Name(s)**: (your name(s) here)\n",
    "\n",
    "**Website Link**: (your website link)"
   ]
  },
  {
   "cell_type": "code",
   "execution_count": 14,
   "metadata": {
    "ExecuteTime": {
     "end_time": "2019-10-31T23:36:28.652554Z",
     "start_time": "2019-10-31T23:36:27.180520Z"
    }
   },
   "outputs": [],
   "source": [
    "import pandas as pd\n",
    "import numpy as np\n",
    "from pathlib import Path\n",
    "import matplotlib.pyplot as plt\n",
    "import seaborn as sns\n",
    "import plotly.express as px\n",
    "pd.options.plotting.backend = 'plotly'\n",
    "\n",
    "\n",
    "# from dsc80_utils import * # Feel free to uncomment and use this."
   ]
  },
  {
   "cell_type": "code",
   "execution_count": 15,
   "metadata": {},
   "outputs": [],
   "source": [
    "import plotly.io as pio\n",
    "pio.renderers.default = 'jupyterlab'"
   ]
  },
  {
   "cell_type": "markdown",
   "metadata": {},
   "source": [
    "## Step 1: Introduction"
   ]
  },
  {
   "cell_type": "markdown",
   "metadata": {},
   "source": [
    "1. We picked outage dataset because it is rich in information as well as something we have a bit of knowledge in. Also because it is interesting to see the result and analyze what causes power outages\n",
    "2. plotly vis\n",
    "3. hypotheses\n",
    "4. prediction?"
   ]
  },
  {
   "cell_type": "markdown",
   "metadata": {},
   "source": [
    "We will be answering the following question:  \n",
    "what characteristic of power outages causes the most economic loss?"
   ]
  },
  {
   "cell_type": "markdown",
   "metadata": {},
   "source": [
    "## Step 2: Data Cleaning and Exploratory Data Analysis"
   ]
  },
  {
   "cell_type": "code",
   "execution_count": 16,
   "metadata": {},
   "outputs": [
    {
     "data": {
      "text/plain": [
       "Index(['OBS', 'YEAR', 'MONTH', 'U.S._STATE', 'POSTAL.CODE', 'NERC.REGION',\n",
       "       'CLIMATE.REGION', 'ANOMALY.LEVEL', 'CLIMATE.CATEGORY',\n",
       "       'OUTAGE.START.DATE', 'OUTAGE.START.TIME', 'OUTAGE.RESTORATION.DATE',\n",
       "       'OUTAGE.RESTORATION.TIME', 'CAUSE.CATEGORY', 'CAUSE.CATEGORY.DETAIL',\n",
       "       'HURRICANE.NAMES', 'OUTAGE.DURATION', 'DEMAND.LOSS.MW',\n",
       "       'CUSTOMERS.AFFECTED', 'RES.PRICE', 'COM.PRICE', 'IND.PRICE',\n",
       "       'TOTAL.PRICE', 'RES.SALES', 'COM.SALES', 'IND.SALES', 'TOTAL.SALES',\n",
       "       'RES.PERCEN', 'COM.PERCEN', 'IND.PERCEN', 'RES.CUSTOMERS',\n",
       "       'COM.CUSTOMERS', 'IND.CUSTOMERS', 'TOTAL.CUSTOMERS', 'RES.CUST.PCT',\n",
       "       'COM.CUST.PCT', 'IND.CUST.PCT', 'PC.REALGSP.STATE', 'PC.REALGSP.USA',\n",
       "       'PC.REALGSP.REL', 'PC.REALGSP.CHANGE', 'UTIL.REALGSP', 'TOTAL.REALGSP',\n",
       "       'UTIL.CONTRI', 'PI.UTIL.OFUSA', 'POPULATION', 'POPPCT_URBAN',\n",
       "       'POPPCT_UC', 'POPDEN_URBAN', 'POPDEN_UC', 'POPDEN_RURAL',\n",
       "       'AREAPCT_URBAN', 'AREAPCT_UC', 'PCT_LAND', 'PCT_WATER_TOT',\n",
       "       'PCT_WATER_INLAND'],\n",
       "      dtype='object')"
      ]
     },
     "execution_count": 16,
     "metadata": {},
     "output_type": "execute_result"
    }
   ],
   "source": [
    "outage = pd.read_csv('data/power_outage.csv')\n",
    "outage.columns"
   ]
  },
  {
   "cell_type": "code",
   "execution_count": 17,
   "metadata": {
    "ExecuteTime": {
     "end_time": "2019-10-31T23:36:28.657068Z",
     "start_time": "2019-10-31T23:36:28.654650Z"
    }
   },
   "outputs": [],
   "source": [
    "\n",
    "pd.set_option('display.max_columns', None)\n",
    "outage = outage[['U.S._STATE', 'POSTAL.CODE',\n",
    "       'NERC.REGION', 'CLIMATE.REGION', 'ANOMALY.LEVEL', 'CLIMATE.CATEGORY',\n",
    "       'OUTAGE.START.DATE', 'OUTAGE.START.TIME', 'OUTAGE.RESTORATION.DATE',\n",
    "       'OUTAGE.RESTORATION.TIME', 'CAUSE.CATEGORY', 'CAUSE.CATEGORY.DETAIL',\n",
    "       'HURRICANE.NAMES', 'OUTAGE.DURATION', 'DEMAND.LOSS.MW',\n",
    "       'CUSTOMERS.AFFECTED', 'RES.PRICE', 'COM.PRICE', 'IND.PRICE',\n",
    "       'TOTAL.PRICE','POPULATION']]"
   ]
  },
  {
   "cell_type": "markdown",
   "metadata": {},
   "source": [
    "In the following section we deal with missing data"
   ]
  },
  {
   "cell_type": "code",
   "execution_count": 18,
   "metadata": {},
   "outputs": [],
   "source": [
    "# outage.dropna(inplace = True, how='any',subset=['OUTAGE.RESTORATION.DATE','RES.PRICE','CLIMATE.REGION'])"
   ]
  },
  {
   "cell_type": "markdown",
   "metadata": {},
   "source": [
    "In the following we edit specific columns like data to make it easier to answer the main question:  \n",
    "combining outage date and time"
   ]
  },
  {
   "cell_type": "code",
   "execution_count": 19,
   "metadata": {},
   "outputs": [
    {
     "name": "stderr",
     "output_type": "stream",
     "text": [
      "/var/folders/s9/b35x2lvd0zl66546s25wwsjc0000gn/T/ipykernel_37700/4024656936.py:1: UserWarning:\n",
      "\n",
      "Could not infer format, so each element will be parsed individually, falling back to `dateutil`. To ensure parsing is consistent and as-expected, please specify a format.\n",
      "\n",
      "/var/folders/s9/b35x2lvd0zl66546s25wwsjc0000gn/T/ipykernel_37700/4024656936.py:2: UserWarning:\n",
      "\n",
      "Could not infer format, so each element will be parsed individually, falling back to `dateutil`. To ensure parsing is consistent and as-expected, please specify a format.\n",
      "\n"
     ]
    }
   ],
   "source": [
    "\n",
    "outage['OUTAGE_START']=pd.to_datetime(outage['OUTAGE.START.DATE']+' '+outage['OUTAGE.START.TIME'])\n",
    "outage['OUTAGE_END']=pd.to_datetime(outage['OUTAGE.RESTORATION.DATE']+' '+outage['OUTAGE.RESTORATION.TIME'])\n",
    "outage.drop(inplace=True,columns=['OUTAGE.START.DATE','OUTAGE.RESTORATION.DATE','OUTAGE.START.TIME','OUTAGE.RESTORATION.TIME'])"
   ]
  },
  {
   "cell_type": "code",
   "execution_count": 20,
   "metadata": {},
   "outputs": [
    {
     "data": {
      "text/plain": [
       "U.S._STATE                  0\n",
       "POSTAL.CODE                 0\n",
       "NERC.REGION                 0\n",
       "CLIMATE.REGION              6\n",
       "ANOMALY.LEVEL               9\n",
       "CLIMATE.CATEGORY            9\n",
       "CAUSE.CATEGORY              0\n",
       "CAUSE.CATEGORY.DETAIL     471\n",
       "HURRICANE.NAMES          1462\n",
       "OUTAGE.DURATION            58\n",
       "DEMAND.LOSS.MW            705\n",
       "CUSTOMERS.AFFECTED        443\n",
       "RES.PRICE                  22\n",
       "COM.PRICE                  22\n",
       "IND.PRICE                  22\n",
       "TOTAL.PRICE                22\n",
       "POPULATION                  0\n",
       "OUTAGE_START                9\n",
       "OUTAGE_END                 58\n",
       "dtype: int64"
      ]
     },
     "execution_count": 20,
     "metadata": {},
     "output_type": "execute_result"
    }
   ],
   "source": [
    "outage.isna().sum()"
   ]
  },
  {
   "cell_type": "markdown",
   "metadata": {},
   "source": [
    "UNIVARIATE ANALYSIS"
   ]
  },
  {
   "cell_type": "code",
   "execution_count": 21,
   "metadata": {},
   "outputs": [
    {
     "data": {
      "application/vnd.plotly.v1+json": {
       "config": {
        "plotlyServerURL": "https://plot.ly"
       },
       "data": [
        {
         "bingroup": "x",
         "hovertemplate": "POPULATION=%{x}<br>count=%{y}<extra></extra>",
         "legendgroup": "",
         "marker": {
          "color": "#636efa",
          "pattern": {
           "shape": ""
          }
         },
         "name": "",
         "orientation": "v",
         "showlegend": false,
         "type": "histogram",
         "x": {
          "bdata": "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",
          "dtype": "i4"
         },
         "xaxis": "x",
         "yaxis": "y"
        }
       ],
       "layout": {
        "barmode": "relative",
        "legend": {
         "tracegroupgap": 0
        },
        "margin": {
         "t": 60
        },
        "template": {
         "data": {
          "bar": [
           {
            "error_x": {
             "color": "#2a3f5f"
            },
            "error_y": {
             "color": "#2a3f5f"
            },
            "marker": {
             "line": {
              "color": "#E5ECF6",
              "width": 0.5
             },
             "pattern": {
              "fillmode": "overlay",
              "size": 10,
              "solidity": 0.2
             }
            },
            "type": "bar"
           }
          ],
          "barpolar": [
           {
            "marker": {
             "line": {
              "color": "#E5ECF6",
              "width": 0.5
             },
             "pattern": {
              "fillmode": "overlay",
              "size": 10,
              "solidity": 0.2
             }
            },
            "type": "barpolar"
           }
          ],
          "carpet": [
           {
            "aaxis": {
             "endlinecolor": "#2a3f5f",
             "gridcolor": "white",
             "linecolor": "white",
             "minorgridcolor": "white",
             "startlinecolor": "#2a3f5f"
            },
            "baxis": {
             "endlinecolor": "#2a3f5f",
             "gridcolor": "white",
             "linecolor": "white",
             "minorgridcolor": "white",
             "startlinecolor": "#2a3f5f"
            },
            "type": "carpet"
           }
          ],
          "choropleth": [
           {
            "colorbar": {
             "outlinewidth": 0,
             "ticks": ""
            },
            "type": "choropleth"
           }
          ],
          "contour": [
           {
            "colorbar": {
             "outlinewidth": 0,
             "ticks": ""
            },
            "colorscale": [
             [
              0,
              "#0d0887"
             ],
             [
              0.1111111111111111,
              "#46039f"
             ],
             [
              0.2222222222222222,
              "#7201a8"
             ],
             [
              0.3333333333333333,
              "#9c179e"
             ],
             [
              0.4444444444444444,
              "#bd3786"
             ],
             [
              0.5555555555555556,
              "#d8576b"
             ],
             [
              0.6666666666666666,
              "#ed7953"
             ],
             [
              0.7777777777777778,
              "#fb9f3a"
             ],
             [
              0.8888888888888888,
              "#fdca26"
             ],
             [
              1,
              "#f0f921"
             ]
            ],
            "type": "contour"
           }
          ],
          "contourcarpet": [
           {
            "colorbar": {
             "outlinewidth": 0,
             "ticks": ""
            },
            "type": "contourcarpet"
           }
          ],
          "heatmap": [
           {
            "colorbar": {
             "outlinewidth": 0,
             "ticks": ""
            },
            "colorscale": [
             [
              0,
              "#0d0887"
             ],
             [
              0.1111111111111111,
              "#46039f"
             ],
             [
              0.2222222222222222,
              "#7201a8"
             ],
             [
              0.3333333333333333,
              "#9c179e"
             ],
             [
              0.4444444444444444,
              "#bd3786"
             ],
             [
              0.5555555555555556,
              "#d8576b"
             ],
             [
              0.6666666666666666,
              "#ed7953"
             ],
             [
              0.7777777777777778,
              "#fb9f3a"
             ],
             [
              0.8888888888888888,
              "#fdca26"
             ],
             [
              1,
              "#f0f921"
             ]
            ],
            "type": "heatmap"
           }
          ],
          "histogram": [
           {
            "marker": {
             "pattern": {
              "fillmode": "overlay",
              "size": 10,
              "solidity": 0.2
             }
            },
            "type": "histogram"
           }
          ],
          "histogram2d": [
           {
            "colorbar": {
             "outlinewidth": 0,
             "ticks": ""
            },
            "colorscale": [
             [
              0,
              "#0d0887"
             ],
             [
              0.1111111111111111,
              "#46039f"
             ],
             [
              0.2222222222222222,
              "#7201a8"
             ],
             [
              0.3333333333333333,
              "#9c179e"
             ],
             [
              0.4444444444444444,
              "#bd3786"
             ],
             [
              0.5555555555555556,
              "#d8576b"
             ],
             [
              0.6666666666666666,
              "#ed7953"
             ],
             [
              0.7777777777777778,
              "#fb9f3a"
             ],
             [
              0.8888888888888888,
              "#fdca26"
             ],
             [
              1,
              "#f0f921"
             ]
            ],
            "type": "histogram2d"
           }
          ],
          "histogram2dcontour": [
           {
            "colorbar": {
             "outlinewidth": 0,
             "ticks": ""
            },
            "colorscale": [
             [
              0,
              "#0d0887"
             ],
             [
              0.1111111111111111,
              "#46039f"
             ],
             [
              0.2222222222222222,
              "#7201a8"
             ],
             [
              0.3333333333333333,
              "#9c179e"
             ],
             [
              0.4444444444444444,
              "#bd3786"
             ],
             [
              0.5555555555555556,
              "#d8576b"
             ],
             [
              0.6666666666666666,
              "#ed7953"
             ],
             [
              0.7777777777777778,
              "#fb9f3a"
             ],
             [
              0.8888888888888888,
              "#fdca26"
             ],
             [
              1,
              "#f0f921"
             ]
            ],
            "type": "histogram2dcontour"
           }
          ],
          "mesh3d": [
           {
            "colorbar": {
             "outlinewidth": 0,
             "ticks": ""
            },
            "type": "mesh3d"
           }
          ],
          "parcoords": [
           {
            "line": {
             "colorbar": {
              "outlinewidth": 0,
              "ticks": ""
             }
            },
            "type": "parcoords"
           }
          ],
          "pie": [
           {
            "automargin": true,
            "type": "pie"
           }
          ],
          "scatter": [
           {
            "fillpattern": {
             "fillmode": "overlay",
             "size": 10,
             "solidity": 0.2
            },
            "type": "scatter"
           }
          ],
          "scatter3d": [
           {
            "line": {
             "colorbar": {
              "outlinewidth": 0,
              "ticks": ""
             }
            },
            "marker": {
             "colorbar": {
              "outlinewidth": 0,
              "ticks": ""
             }
            },
            "type": "scatter3d"
           }
          ],
          "scattercarpet": [
           {
            "marker": {
             "colorbar": {
              "outlinewidth": 0,
              "ticks": ""
             }
            },
            "type": "scattercarpet"
           }
          ],
          "scattergeo": [
           {
            "marker": {
             "colorbar": {
              "outlinewidth": 0,
              "ticks": ""
             }
            },
            "type": "scattergeo"
           }
          ],
          "scattergl": [
           {
            "marker": {
             "colorbar": {
              "outlinewidth": 0,
              "ticks": ""
             }
            },
            "type": "scattergl"
           }
          ],
          "scattermap": [
           {
            "marker": {
             "colorbar": {
              "outlinewidth": 0,
              "ticks": ""
             }
            },
            "type": "scattermap"
           }
          ],
          "scattermapbox": [
           {
            "marker": {
             "colorbar": {
              "outlinewidth": 0,
              "ticks": ""
             }
            },
            "type": "scattermapbox"
           }
          ],
          "scatterpolar": [
           {
            "marker": {
             "colorbar": {
              "outlinewidth": 0,
              "ticks": ""
             }
            },
            "type": "scatterpolar"
           }
          ],
          "scatterpolargl": [
           {
            "marker": {
             "colorbar": {
              "outlinewidth": 0,
              "ticks": ""
             }
            },
            "type": "scatterpolargl"
           }
          ],
          "scatterternary": [
           {
            "marker": {
             "colorbar": {
              "outlinewidth": 0,
              "ticks": ""
             }
            },
            "type": "scatterternary"
           }
          ],
          "surface": [
           {
            "colorbar": {
             "outlinewidth": 0,
             "ticks": ""
            },
            "colorscale": [
             [
              0,
              "#0d0887"
             ],
             [
              0.1111111111111111,
              "#46039f"
             ],
             [
              0.2222222222222222,
              "#7201a8"
             ],
             [
              0.3333333333333333,
              "#9c179e"
             ],
             [
              0.4444444444444444,
              "#bd3786"
             ],
             [
              0.5555555555555556,
              "#d8576b"
             ],
             [
              0.6666666666666666,
              "#ed7953"
             ],
             [
              0.7777777777777778,
              "#fb9f3a"
             ],
             [
              0.8888888888888888,
              "#fdca26"
             ],
             [
              1,
              "#f0f921"
             ]
            ],
            "type": "surface"
           }
          ],
          "table": [
           {
            "cells": {
             "fill": {
              "color": "#EBF0F8"
             },
             "line": {
              "color": "white"
             }
            },
            "header": {
             "fill": {
              "color": "#C8D4E3"
             },
             "line": {
              "color": "white"
             }
            },
            "type": "table"
           }
          ]
         },
         "layout": {
          "annotationdefaults": {
           "arrowcolor": "#2a3f5f",
           "arrowhead": 0,
           "arrowwidth": 1
          },
          "autotypenumbers": "strict",
          "coloraxis": {
           "colorbar": {
            "outlinewidth": 0,
            "ticks": ""
           }
          },
          "colorscale": {
           "diverging": [
            [
             0,
             "#8e0152"
            ],
            [
             0.1,
             "#c51b7d"
            ],
            [
             0.2,
             "#de77ae"
            ],
            [
             0.3,
             "#f1b6da"
            ],
            [
             0.4,
             "#fde0ef"
            ],
            [
             0.5,
             "#f7f7f7"
            ],
            [
             0.6,
             "#e6f5d0"
            ],
            [
             0.7,
             "#b8e186"
            ],
            [
             0.8,
             "#7fbc41"
            ],
            [
             0.9,
             "#4d9221"
            ],
            [
             1,
             "#276419"
            ]
           ],
           "sequential": [
            [
             0,
             "#0d0887"
            ],
            [
             0.1111111111111111,
             "#46039f"
            ],
            [
             0.2222222222222222,
             "#7201a8"
            ],
            [
             0.3333333333333333,
             "#9c179e"
            ],
            [
             0.4444444444444444,
             "#bd3786"
            ],
            [
             0.5555555555555556,
             "#d8576b"
            ],
            [
             0.6666666666666666,
             "#ed7953"
            ],
            [
             0.7777777777777778,
             "#fb9f3a"
            ],
            [
             0.8888888888888888,
             "#fdca26"
            ],
            [
             1,
             "#f0f921"
            ]
           ],
           "sequentialminus": [
            [
             0,
             "#0d0887"
            ],
            [
             0.1111111111111111,
             "#46039f"
            ],
            [
             0.2222222222222222,
             "#7201a8"
            ],
            [
             0.3333333333333333,
             "#9c179e"
            ],
            [
             0.4444444444444444,
             "#bd3786"
            ],
            [
             0.5555555555555556,
             "#d8576b"
            ],
            [
             0.6666666666666666,
             "#ed7953"
            ],
            [
             0.7777777777777778,
             "#fb9f3a"
            ],
            [
             0.8888888888888888,
             "#fdca26"
            ],
            [
             1,
             "#f0f921"
            ]
           ]
          },
          "colorway": [
           "#636efa",
           "#EF553B",
           "#00cc96",
           "#ab63fa",
           "#FFA15A",
           "#19d3f3",
           "#FF6692",
           "#B6E880",
           "#FF97FF",
           "#FECB52"
          ],
          "font": {
           "color": "#2a3f5f"
          },
          "geo": {
           "bgcolor": "white",
           "lakecolor": "white",
           "landcolor": "#E5ECF6",
           "showlakes": true,
           "showland": true,
           "subunitcolor": "white"
          },
          "hoverlabel": {
           "align": "left"
          },
          "hovermode": "closest",
          "mapbox": {
           "style": "light"
          },
          "paper_bgcolor": "white",
          "plot_bgcolor": "#E5ECF6",
          "polar": {
           "angularaxis": {
            "gridcolor": "white",
            "linecolor": "white",
            "ticks": ""
           },
           "bgcolor": "#E5ECF6",
           "radialaxis": {
            "gridcolor": "white",
            "linecolor": "white",
            "ticks": ""
           }
          },
          "scene": {
           "xaxis": {
            "backgroundcolor": "#E5ECF6",
            "gridcolor": "white",
            "gridwidth": 2,
            "linecolor": "white",
            "showbackground": true,
            "ticks": "",
            "zerolinecolor": "white"
           },
           "yaxis": {
            "backgroundcolor": "#E5ECF6",
            "gridcolor": "white",
            "gridwidth": 2,
            "linecolor": "white",
            "showbackground": true,
            "ticks": "",
            "zerolinecolor": "white"
           },
           "zaxis": {
            "backgroundcolor": "#E5ECF6",
            "gridcolor": "white",
            "gridwidth": 2,
            "linecolor": "white",
            "showbackground": true,
            "ticks": "",
            "zerolinecolor": "white"
           }
          },
          "shapedefaults": {
           "line": {
            "color": "#2a3f5f"
           }
          },
          "ternary": {
           "aaxis": {
            "gridcolor": "white",
            "linecolor": "white",
            "ticks": ""
           },
           "baxis": {
            "gridcolor": "white",
            "linecolor": "white",
            "ticks": ""
           },
           "bgcolor": "#E5ECF6",
           "caxis": {
            "gridcolor": "white",
            "linecolor": "white",
            "ticks": ""
           }
          },
          "title": {
           "x": 0.05
          },
          "xaxis": {
           "automargin": true,
           "gridcolor": "white",
           "linecolor": "white",
           "ticks": "",
           "title": {
            "standoff": 15
           },
           "zerolinecolor": "white",
           "zerolinewidth": 2
          },
          "yaxis": {
           "automargin": true,
           "gridcolor": "white",
           "linecolor": "white",
           "ticks": "",
           "title": {
            "standoff": 15
           },
           "zerolinecolor": "white",
           "zerolinewidth": 2
          }
         }
        },
        "xaxis": {
         "anchor": "y",
         "domain": [
          0,
          1
         ],
         "title": {
          "text": "POPULATION"
         }
        },
        "yaxis": {
         "anchor": "x",
         "domain": [
          0,
          1
         ],
         "title": {
          "text": "count"
         }
        }
       }
      }
     },
     "metadata": {},
     "output_type": "display_data"
    },
    {
     "data": {
      "application/vnd.plotly.v1+json": {
       "config": {
        "plotlyServerURL": "https://plot.ly"
       },
       "data": [
        {
         "bingroup": "x",
         "hovertemplate": "OUTAGE.DURATION=%{x}<br>count=%{y}<extra></extra>",
         "legendgroup": "",
         "marker": {
          "color": "#636efa",
          "pattern": {
           "shape": ""
          }
         },
         "name": "",
         "orientation": "v",
         "showlegend": false,
         "type": "histogram",
         "x": {
          "bdata": "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",
          "dtype": "f8"
         },
         "xaxis": "x",
         "yaxis": "y"
        }
       ],
       "layout": {
        "barmode": "relative",
        "legend": {
         "tracegroupgap": 0
        },
        "margin": {
         "t": 60
        },
        "template": {
         "data": {
          "bar": [
           {
            "error_x": {
             "color": "#2a3f5f"
            },
            "error_y": {
             "color": "#2a3f5f"
            },
            "marker": {
             "line": {
              "color": "#E5ECF6",
              "width": 0.5
             },
             "pattern": {
              "fillmode": "overlay",
              "size": 10,
              "solidity": 0.2
             }
            },
            "type": "bar"
           }
          ],
          "barpolar": [
           {
            "marker": {
             "line": {
              "color": "#E5ECF6",
              "width": 0.5
             },
             "pattern": {
              "fillmode": "overlay",
              "size": 10,
              "solidity": 0.2
             }
            },
            "type": "barpolar"
           }
          ],
          "carpet": [
           {
            "aaxis": {
             "endlinecolor": "#2a3f5f",
             "gridcolor": "white",
             "linecolor": "white",
             "minorgridcolor": "white",
             "startlinecolor": "#2a3f5f"
            },
            "baxis": {
             "endlinecolor": "#2a3f5f",
             "gridcolor": "white",
             "linecolor": "white",
             "minorgridcolor": "white",
             "startlinecolor": "#2a3f5f"
            },
            "type": "carpet"
           }
          ],
          "choropleth": [
           {
            "colorbar": {
             "outlinewidth": 0,
             "ticks": ""
            },
            "type": "choropleth"
           }
          ],
          "contour": [
           {
            "colorbar": {
             "outlinewidth": 0,
             "ticks": ""
            },
            "colorscale": [
             [
              0,
              "#0d0887"
             ],
             [
              0.1111111111111111,
              "#46039f"
             ],
             [
              0.2222222222222222,
              "#7201a8"
             ],
             [
              0.3333333333333333,
              "#9c179e"
             ],
             [
              0.4444444444444444,
              "#bd3786"
             ],
             [
              0.5555555555555556,
              "#d8576b"
             ],
             [
              0.6666666666666666,
              "#ed7953"
             ],
             [
              0.7777777777777778,
              "#fb9f3a"
             ],
             [
              0.8888888888888888,
              "#fdca26"
             ],
             [
              1,
              "#f0f921"
             ]
            ],
            "type": "contour"
           }
          ],
          "contourcarpet": [
           {
            "colorbar": {
             "outlinewidth": 0,
             "ticks": ""
            },
            "type": "contourcarpet"
           }
          ],
          "heatmap": [
           {
            "colorbar": {
             "outlinewidth": 0,
             "ticks": ""
            },
            "colorscale": [
             [
              0,
              "#0d0887"
             ],
             [
              0.1111111111111111,
              "#46039f"
             ],
             [
              0.2222222222222222,
              "#7201a8"
             ],
             [
              0.3333333333333333,
              "#9c179e"
             ],
             [
              0.4444444444444444,
              "#bd3786"
             ],
             [
              0.5555555555555556,
              "#d8576b"
             ],
             [
              0.6666666666666666,
              "#ed7953"
             ],
             [
              0.7777777777777778,
              "#fb9f3a"
             ],
             [
              0.8888888888888888,
              "#fdca26"
             ],
             [
              1,
              "#f0f921"
             ]
            ],
            "type": "heatmap"
           }
          ],
          "histogram": [
           {
            "marker": {
             "pattern": {
              "fillmode": "overlay",
              "size": 10,
              "solidity": 0.2
             }
            },
            "type": "histogram"
           }
          ],
          "histogram2d": [
           {
            "colorbar": {
             "outlinewidth": 0,
             "ticks": ""
            },
            "colorscale": [
             [
              0,
              "#0d0887"
             ],
             [
              0.1111111111111111,
              "#46039f"
             ],
             [
              0.2222222222222222,
              "#7201a8"
             ],
             [
              0.3333333333333333,
              "#9c179e"
             ],
             [
              0.4444444444444444,
              "#bd3786"
             ],
             [
              0.5555555555555556,
              "#d8576b"
             ],
             [
              0.6666666666666666,
              "#ed7953"
             ],
             [
              0.7777777777777778,
              "#fb9f3a"
             ],
             [
              0.8888888888888888,
              "#fdca26"
             ],
             [
              1,
              "#f0f921"
             ]
            ],
            "type": "histogram2d"
           }
          ],
          "histogram2dcontour": [
           {
            "colorbar": {
             "outlinewidth": 0,
             "ticks": ""
            },
            "colorscale": [
             [
              0,
              "#0d0887"
             ],
             [
              0.1111111111111111,
              "#46039f"
             ],
             [
              0.2222222222222222,
              "#7201a8"
             ],
             [
              0.3333333333333333,
              "#9c179e"
             ],
             [
              0.4444444444444444,
              "#bd3786"
             ],
             [
              0.5555555555555556,
              "#d8576b"
             ],
             [
              0.6666666666666666,
              "#ed7953"
             ],
             [
              0.7777777777777778,
              "#fb9f3a"
             ],
             [
              0.8888888888888888,
              "#fdca26"
             ],
             [
              1,
              "#f0f921"
             ]
            ],
            "type": "histogram2dcontour"
           }
          ],
          "mesh3d": [
           {
            "colorbar": {
             "outlinewidth": 0,
             "ticks": ""
            },
            "type": "mesh3d"
           }
          ],
          "parcoords": [
           {
            "line": {
             "colorbar": {
              "outlinewidth": 0,
              "ticks": ""
             }
            },
            "type": "parcoords"
           }
          ],
          "pie": [
           {
            "automargin": true,
            "type": "pie"
           }
          ],
          "scatter": [
           {
            "fillpattern": {
             "fillmode": "overlay",
             "size": 10,
             "solidity": 0.2
            },
            "type": "scatter"
           }
          ],
          "scatter3d": [
           {
            "line": {
             "colorbar": {
              "outlinewidth": 0,
              "ticks": ""
             }
            },
            "marker": {
             "colorbar": {
              "outlinewidth": 0,
              "ticks": ""
             }
            },
            "type": "scatter3d"
           }
          ],
          "scattercarpet": [
           {
            "marker": {
             "colorbar": {
              "outlinewidth": 0,
              "ticks": ""
             }
            },
            "type": "scattercarpet"
           }
          ],
          "scattergeo": [
           {
            "marker": {
             "colorbar": {
              "outlinewidth": 0,
              "ticks": ""
             }
            },
            "type": "scattergeo"
           }
          ],
          "scattergl": [
           {
            "marker": {
             "colorbar": {
              "outlinewidth": 0,
              "ticks": ""
             }
            },
            "type": "scattergl"
           }
          ],
          "scattermap": [
           {
            "marker": {
             "colorbar": {
              "outlinewidth": 0,
              "ticks": ""
             }
            },
            "type": "scattermap"
           }
          ],
          "scattermapbox": [
           {
            "marker": {
             "colorbar": {
              "outlinewidth": 0,
              "ticks": ""
             }
            },
            "type": "scattermapbox"
           }
          ],
          "scatterpolar": [
           {
            "marker": {
             "colorbar": {
              "outlinewidth": 0,
              "ticks": ""
             }
            },
            "type": "scatterpolar"
           }
          ],
          "scatterpolargl": [
           {
            "marker": {
             "colorbar": {
              "outlinewidth": 0,
              "ticks": ""
             }
            },
            "type": "scatterpolargl"
           }
          ],
          "scatterternary": [
           {
            "marker": {
             "colorbar": {
              "outlinewidth": 0,
              "ticks": ""
             }
            },
            "type": "scatterternary"
           }
          ],
          "surface": [
           {
            "colorbar": {
             "outlinewidth": 0,
             "ticks": ""
            },
            "colorscale": [
             [
              0,
              "#0d0887"
             ],
             [
              0.1111111111111111,
              "#46039f"
             ],
             [
              0.2222222222222222,
              "#7201a8"
             ],
             [
              0.3333333333333333,
              "#9c179e"
             ],
             [
              0.4444444444444444,
              "#bd3786"
             ],
             [
              0.5555555555555556,
              "#d8576b"
             ],
             [
              0.6666666666666666,
              "#ed7953"
             ],
             [
              0.7777777777777778,
              "#fb9f3a"
             ],
             [
              0.8888888888888888,
              "#fdca26"
             ],
             [
              1,
              "#f0f921"
             ]
            ],
            "type": "surface"
           }
          ],
          "table": [
           {
            "cells": {
             "fill": {
              "color": "#EBF0F8"
             },
             "line": {
              "color": "white"
             }
            },
            "header": {
             "fill": {
              "color": "#C8D4E3"
             },
             "line": {
              "color": "white"
             }
            },
            "type": "table"
           }
          ]
         },
         "layout": {
          "annotationdefaults": {
           "arrowcolor": "#2a3f5f",
           "arrowhead": 0,
           "arrowwidth": 1
          },
          "autotypenumbers": "strict",
          "coloraxis": {
           "colorbar": {
            "outlinewidth": 0,
            "ticks": ""
           }
          },
          "colorscale": {
           "diverging": [
            [
             0,
             "#8e0152"
            ],
            [
             0.1,
             "#c51b7d"
            ],
            [
             0.2,
             "#de77ae"
            ],
            [
             0.3,
             "#f1b6da"
            ],
            [
             0.4,
             "#fde0ef"
            ],
            [
             0.5,
             "#f7f7f7"
            ],
            [
             0.6,
             "#e6f5d0"
            ],
            [
             0.7,
             "#b8e186"
            ],
            [
             0.8,
             "#7fbc41"
            ],
            [
             0.9,
             "#4d9221"
            ],
            [
             1,
             "#276419"
            ]
           ],
           "sequential": [
            [
             0,
             "#0d0887"
            ],
            [
             0.1111111111111111,
             "#46039f"
            ],
            [
             0.2222222222222222,
             "#7201a8"
            ],
            [
             0.3333333333333333,
             "#9c179e"
            ],
            [
             0.4444444444444444,
             "#bd3786"
            ],
            [
             0.5555555555555556,
             "#d8576b"
            ],
            [
             0.6666666666666666,
             "#ed7953"
            ],
            [
             0.7777777777777778,
             "#fb9f3a"
            ],
            [
             0.8888888888888888,
             "#fdca26"
            ],
            [
             1,
             "#f0f921"
            ]
           ],
           "sequentialminus": [
            [
             0,
             "#0d0887"
            ],
            [
             0.1111111111111111,
             "#46039f"
            ],
            [
             0.2222222222222222,
             "#7201a8"
            ],
            [
             0.3333333333333333,
             "#9c179e"
            ],
            [
             0.4444444444444444,
             "#bd3786"
            ],
            [
             0.5555555555555556,
             "#d8576b"
            ],
            [
             0.6666666666666666,
             "#ed7953"
            ],
            [
             0.7777777777777778,
             "#fb9f3a"
            ],
            [
             0.8888888888888888,
             "#fdca26"
            ],
            [
             1,
             "#f0f921"
            ]
           ]
          },
          "colorway": [
           "#636efa",
           "#EF553B",
           "#00cc96",
           "#ab63fa",
           "#FFA15A",
           "#19d3f3",
           "#FF6692",
           "#B6E880",
           "#FF97FF",
           "#FECB52"
          ],
          "font": {
           "color": "#2a3f5f"
          },
          "geo": {
           "bgcolor": "white",
           "lakecolor": "white",
           "landcolor": "#E5ECF6",
           "showlakes": true,
           "showland": true,
           "subunitcolor": "white"
          },
          "hoverlabel": {
           "align": "left"
          },
          "hovermode": "closest",
          "mapbox": {
           "style": "light"
          },
          "paper_bgcolor": "white",
          "plot_bgcolor": "#E5ECF6",
          "polar": {
           "angularaxis": {
            "gridcolor": "white",
            "linecolor": "white",
            "ticks": ""
           },
           "bgcolor": "#E5ECF6",
           "radialaxis": {
            "gridcolor": "white",
            "linecolor": "white",
            "ticks": ""
           }
          },
          "scene": {
           "xaxis": {
            "backgroundcolor": "#E5ECF6",
            "gridcolor": "white",
            "gridwidth": 2,
            "linecolor": "white",
            "showbackground": true,
            "ticks": "",
            "zerolinecolor": "white"
           },
           "yaxis": {
            "backgroundcolor": "#E5ECF6",
            "gridcolor": "white",
            "gridwidth": 2,
            "linecolor": "white",
            "showbackground": true,
            "ticks": "",
            "zerolinecolor": "white"
           },
           "zaxis": {
            "backgroundcolor": "#E5ECF6",
            "gridcolor": "white",
            "gridwidth": 2,
            "linecolor": "white",
            "showbackground": true,
            "ticks": "",
            "zerolinecolor": "white"
           }
          },
          "shapedefaults": {
           "line": {
            "color": "#2a3f5f"
           }
          },
          "ternary": {
           "aaxis": {
            "gridcolor": "white",
            "linecolor": "white",
            "ticks": ""
           },
           "baxis": {
            "gridcolor": "white",
            "linecolor": "white",
            "ticks": ""
           },
           "bgcolor": "#E5ECF6",
           "caxis": {
            "gridcolor": "white",
            "linecolor": "white",
            "ticks": ""
           }
          },
          "title": {
           "x": 0.05
          },
          "xaxis": {
           "automargin": true,
           "gridcolor": "white",
           "linecolor": "white",
           "ticks": "",
           "title": {
            "standoff": 15
           },
           "zerolinecolor": "white",
           "zerolinewidth": 2
          },
          "yaxis": {
           "automargin": true,
           "gridcolor": "white",
           "linecolor": "white",
           "ticks": "",
           "title": {
            "standoff": 15
           },
           "zerolinecolor": "white",
           "zerolinewidth": 2
          }
         }
        },
        "xaxis": {
         "anchor": "y",
         "domain": [
          0,
          1
         ],
         "title": {
          "text": "OUTAGE.DURATION"
         }
        },
        "yaxis": {
         "anchor": "x",
         "domain": [
          0,
          1
         ],
         "title": {
          "text": "count"
         }
        }
       }
      }
     },
     "metadata": {},
     "output_type": "display_data"
    },
    {
     "data": {
      "application/vnd.plotly.v1+json": {
       "config": {
        "plotlyServerURL": "https://plot.ly"
       },
       "data": [
        {
         "hovertemplate": "variable=OUTAGE.DURATION<br>Climate=%{x}<br>Count=%{y}<extra></extra>",
         "legendgroup": "OUTAGE.DURATION",
         "marker": {
          "color": "#636efa",
          "pattern": {
           "shape": ""
          }
         },
         "name": "OUTAGE.DURATION",
         "orientation": "v",
         "showlegend": true,
         "textposition": "auto",
         "type": "bar",
         "x": [
          "cold",
          "normal",
          "warm"
         ],
         "xaxis": "x",
         "y": {
          "bdata": "zwHaAhsB",
          "dtype": "i2"
         },
         "yaxis": "y"
        }
       ],
       "layout": {
        "barmode": "relative",
        "legend": {
         "title": {
          "text": "variable"
         },
         "tracegroupgap": 0
        },
        "margin": {
         "t": 60
        },
        "template": {
         "data": {
          "bar": [
           {
            "error_x": {
             "color": "#2a3f5f"
            },
            "error_y": {
             "color": "#2a3f5f"
            },
            "marker": {
             "line": {
              "color": "#E5ECF6",
              "width": 0.5
             },
             "pattern": {
              "fillmode": "overlay",
              "size": 10,
              "solidity": 0.2
             }
            },
            "type": "bar"
           }
          ],
          "barpolar": [
           {
            "marker": {
             "line": {
              "color": "#E5ECF6",
              "width": 0.5
             },
             "pattern": {
              "fillmode": "overlay",
              "size": 10,
              "solidity": 0.2
             }
            },
            "type": "barpolar"
           }
          ],
          "carpet": [
           {
            "aaxis": {
             "endlinecolor": "#2a3f5f",
             "gridcolor": "white",
             "linecolor": "white",
             "minorgridcolor": "white",
             "startlinecolor": "#2a3f5f"
            },
            "baxis": {
             "endlinecolor": "#2a3f5f",
             "gridcolor": "white",
             "linecolor": "white",
             "minorgridcolor": "white",
             "startlinecolor": "#2a3f5f"
            },
            "type": "carpet"
           }
          ],
          "choropleth": [
           {
            "colorbar": {
             "outlinewidth": 0,
             "ticks": ""
            },
            "type": "choropleth"
           }
          ],
          "contour": [
           {
            "colorbar": {
             "outlinewidth": 0,
             "ticks": ""
            },
            "colorscale": [
             [
              0,
              "#0d0887"
             ],
             [
              0.1111111111111111,
              "#46039f"
             ],
             [
              0.2222222222222222,
              "#7201a8"
             ],
             [
              0.3333333333333333,
              "#9c179e"
             ],
             [
              0.4444444444444444,
              "#bd3786"
             ],
             [
              0.5555555555555556,
              "#d8576b"
             ],
             [
              0.6666666666666666,
              "#ed7953"
             ],
             [
              0.7777777777777778,
              "#fb9f3a"
             ],
             [
              0.8888888888888888,
              "#fdca26"
             ],
             [
              1,
              "#f0f921"
             ]
            ],
            "type": "contour"
           }
          ],
          "contourcarpet": [
           {
            "colorbar": {
             "outlinewidth": 0,
             "ticks": ""
            },
            "type": "contourcarpet"
           }
          ],
          "heatmap": [
           {
            "colorbar": {
             "outlinewidth": 0,
             "ticks": ""
            },
            "colorscale": [
             [
              0,
              "#0d0887"
             ],
             [
              0.1111111111111111,
              "#46039f"
             ],
             [
              0.2222222222222222,
              "#7201a8"
             ],
             [
              0.3333333333333333,
              "#9c179e"
             ],
             [
              0.4444444444444444,
              "#bd3786"
             ],
             [
              0.5555555555555556,
              "#d8576b"
             ],
             [
              0.6666666666666666,
              "#ed7953"
             ],
             [
              0.7777777777777778,
              "#fb9f3a"
             ],
             [
              0.8888888888888888,
              "#fdca26"
             ],
             [
              1,
              "#f0f921"
             ]
            ],
            "type": "heatmap"
           }
          ],
          "histogram": [
           {
            "marker": {
             "pattern": {
              "fillmode": "overlay",
              "size": 10,
              "solidity": 0.2
             }
            },
            "type": "histogram"
           }
          ],
          "histogram2d": [
           {
            "colorbar": {
             "outlinewidth": 0,
             "ticks": ""
            },
            "colorscale": [
             [
              0,
              "#0d0887"
             ],
             [
              0.1111111111111111,
              "#46039f"
             ],
             [
              0.2222222222222222,
              "#7201a8"
             ],
             [
              0.3333333333333333,
              "#9c179e"
             ],
             [
              0.4444444444444444,
              "#bd3786"
             ],
             [
              0.5555555555555556,
              "#d8576b"
             ],
             [
              0.6666666666666666,
              "#ed7953"
             ],
             [
              0.7777777777777778,
              "#fb9f3a"
             ],
             [
              0.8888888888888888,
              "#fdca26"
             ],
             [
              1,
              "#f0f921"
             ]
            ],
            "type": "histogram2d"
           }
          ],
          "histogram2dcontour": [
           {
            "colorbar": {
             "outlinewidth": 0,
             "ticks": ""
            },
            "colorscale": [
             [
              0,
              "#0d0887"
             ],
             [
              0.1111111111111111,
              "#46039f"
             ],
             [
              0.2222222222222222,
              "#7201a8"
             ],
             [
              0.3333333333333333,
              "#9c179e"
             ],
             [
              0.4444444444444444,
              "#bd3786"
             ],
             [
              0.5555555555555556,
              "#d8576b"
             ],
             [
              0.6666666666666666,
              "#ed7953"
             ],
             [
              0.7777777777777778,
              "#fb9f3a"
             ],
             [
              0.8888888888888888,
              "#fdca26"
             ],
             [
              1,
              "#f0f921"
             ]
            ],
            "type": "histogram2dcontour"
           }
          ],
          "mesh3d": [
           {
            "colorbar": {
             "outlinewidth": 0,
             "ticks": ""
            },
            "type": "mesh3d"
           }
          ],
          "parcoords": [
           {
            "line": {
             "colorbar": {
              "outlinewidth": 0,
              "ticks": ""
             }
            },
            "type": "parcoords"
           }
          ],
          "pie": [
           {
            "automargin": true,
            "type": "pie"
           }
          ],
          "scatter": [
           {
            "fillpattern": {
             "fillmode": "overlay",
             "size": 10,
             "solidity": 0.2
            },
            "type": "scatter"
           }
          ],
          "scatter3d": [
           {
            "line": {
             "colorbar": {
              "outlinewidth": 0,
              "ticks": ""
             }
            },
            "marker": {
             "colorbar": {
              "outlinewidth": 0,
              "ticks": ""
             }
            },
            "type": "scatter3d"
           }
          ],
          "scattercarpet": [
           {
            "marker": {
             "colorbar": {
              "outlinewidth": 0,
              "ticks": ""
             }
            },
            "type": "scattercarpet"
           }
          ],
          "scattergeo": [
           {
            "marker": {
             "colorbar": {
              "outlinewidth": 0,
              "ticks": ""
             }
            },
            "type": "scattergeo"
           }
          ],
          "scattergl": [
           {
            "marker": {
             "colorbar": {
              "outlinewidth": 0,
              "ticks": ""
             }
            },
            "type": "scattergl"
           }
          ],
          "scattermap": [
           {
            "marker": {
             "colorbar": {
              "outlinewidth": 0,
              "ticks": ""
             }
            },
            "type": "scattermap"
           }
          ],
          "scattermapbox": [
           {
            "marker": {
             "colorbar": {
              "outlinewidth": 0,
              "ticks": ""
             }
            },
            "type": "scattermapbox"
           }
          ],
          "scatterpolar": [
           {
            "marker": {
             "colorbar": {
              "outlinewidth": 0,
              "ticks": ""
             }
            },
            "type": "scatterpolar"
           }
          ],
          "scatterpolargl": [
           {
            "marker": {
             "colorbar": {
              "outlinewidth": 0,
              "ticks": ""
             }
            },
            "type": "scatterpolargl"
           }
          ],
          "scatterternary": [
           {
            "marker": {
             "colorbar": {
              "outlinewidth": 0,
              "ticks": ""
             }
            },
            "type": "scatterternary"
           }
          ],
          "surface": [
           {
            "colorbar": {
             "outlinewidth": 0,
             "ticks": ""
            },
            "colorscale": [
             [
              0,
              "#0d0887"
             ],
             [
              0.1111111111111111,
              "#46039f"
             ],
             [
              0.2222222222222222,
              "#7201a8"
             ],
             [
              0.3333333333333333,
              "#9c179e"
             ],
             [
              0.4444444444444444,
              "#bd3786"
             ],
             [
              0.5555555555555556,
              "#d8576b"
             ],
             [
              0.6666666666666666,
              "#ed7953"
             ],
             [
              0.7777777777777778,
              "#fb9f3a"
             ],
             [
              0.8888888888888888,
              "#fdca26"
             ],
             [
              1,
              "#f0f921"
             ]
            ],
            "type": "surface"
           }
          ],
          "table": [
           {
            "cells": {
             "fill": {
              "color": "#EBF0F8"
             },
             "line": {
              "color": "white"
             }
            },
            "header": {
             "fill": {
              "color": "#C8D4E3"
             },
             "line": {
              "color": "white"
             }
            },
            "type": "table"
           }
          ]
         },
         "layout": {
          "annotationdefaults": {
           "arrowcolor": "#2a3f5f",
           "arrowhead": 0,
           "arrowwidth": 1
          },
          "autotypenumbers": "strict",
          "coloraxis": {
           "colorbar": {
            "outlinewidth": 0,
            "ticks": ""
           }
          },
          "colorscale": {
           "diverging": [
            [
             0,
             "#8e0152"
            ],
            [
             0.1,
             "#c51b7d"
            ],
            [
             0.2,
             "#de77ae"
            ],
            [
             0.3,
             "#f1b6da"
            ],
            [
             0.4,
             "#fde0ef"
            ],
            [
             0.5,
             "#f7f7f7"
            ],
            [
             0.6,
             "#e6f5d0"
            ],
            [
             0.7,
             "#b8e186"
            ],
            [
             0.8,
             "#7fbc41"
            ],
            [
             0.9,
             "#4d9221"
            ],
            [
             1,
             "#276419"
            ]
           ],
           "sequential": [
            [
             0,
             "#0d0887"
            ],
            [
             0.1111111111111111,
             "#46039f"
            ],
            [
             0.2222222222222222,
             "#7201a8"
            ],
            [
             0.3333333333333333,
             "#9c179e"
            ],
            [
             0.4444444444444444,
             "#bd3786"
            ],
            [
             0.5555555555555556,
             "#d8576b"
            ],
            [
             0.6666666666666666,
             "#ed7953"
            ],
            [
             0.7777777777777778,
             "#fb9f3a"
            ],
            [
             0.8888888888888888,
             "#fdca26"
            ],
            [
             1,
             "#f0f921"
            ]
           ],
           "sequentialminus": [
            [
             0,
             "#0d0887"
            ],
            [
             0.1111111111111111,
             "#46039f"
            ],
            [
             0.2222222222222222,
             "#7201a8"
            ],
            [
             0.3333333333333333,
             "#9c179e"
            ],
            [
             0.4444444444444444,
             "#bd3786"
            ],
            [
             0.5555555555555556,
             "#d8576b"
            ],
            [
             0.6666666666666666,
             "#ed7953"
            ],
            [
             0.7777777777777778,
             "#fb9f3a"
            ],
            [
             0.8888888888888888,
             "#fdca26"
            ],
            [
             1,
             "#f0f921"
            ]
           ]
          },
          "colorway": [
           "#636efa",
           "#EF553B",
           "#00cc96",
           "#ab63fa",
           "#FFA15A",
           "#19d3f3",
           "#FF6692",
           "#B6E880",
           "#FF97FF",
           "#FECB52"
          ],
          "font": {
           "color": "#2a3f5f"
          },
          "geo": {
           "bgcolor": "white",
           "lakecolor": "white",
           "landcolor": "#E5ECF6",
           "showlakes": true,
           "showland": true,
           "subunitcolor": "white"
          },
          "hoverlabel": {
           "align": "left"
          },
          "hovermode": "closest",
          "mapbox": {
           "style": "light"
          },
          "paper_bgcolor": "white",
          "plot_bgcolor": "#E5ECF6",
          "polar": {
           "angularaxis": {
            "gridcolor": "white",
            "linecolor": "white",
            "ticks": ""
           },
           "bgcolor": "#E5ECF6",
           "radialaxis": {
            "gridcolor": "white",
            "linecolor": "white",
            "ticks": ""
           }
          },
          "scene": {
           "xaxis": {
            "backgroundcolor": "#E5ECF6",
            "gridcolor": "white",
            "gridwidth": 2,
            "linecolor": "white",
            "showbackground": true,
            "ticks": "",
            "zerolinecolor": "white"
           },
           "yaxis": {
            "backgroundcolor": "#E5ECF6",
            "gridcolor": "white",
            "gridwidth": 2,
            "linecolor": "white",
            "showbackground": true,
            "ticks": "",
            "zerolinecolor": "white"
           },
           "zaxis": {
            "backgroundcolor": "#E5ECF6",
            "gridcolor": "white",
            "gridwidth": 2,
            "linecolor": "white",
            "showbackground": true,
            "ticks": "",
            "zerolinecolor": "white"
           }
          },
          "shapedefaults": {
           "line": {
            "color": "#2a3f5f"
           }
          },
          "ternary": {
           "aaxis": {
            "gridcolor": "white",
            "linecolor": "white",
            "ticks": ""
           },
           "baxis": {
            "gridcolor": "white",
            "linecolor": "white",
            "ticks": ""
           },
           "bgcolor": "#E5ECF6",
           "caxis": {
            "gridcolor": "white",
            "linecolor": "white",
            "ticks": ""
           }
          },
          "title": {
           "x": 0.05
          },
          "xaxis": {
           "automargin": true,
           "gridcolor": "white",
           "linecolor": "white",
           "ticks": "",
           "title": {
            "standoff": 15
           },
           "zerolinecolor": "white",
           "zerolinewidth": 2
          },
          "yaxis": {
           "automargin": true,
           "gridcolor": "white",
           "linecolor": "white",
           "ticks": "",
           "title": {
            "standoff": 15
           },
           "zerolinecolor": "white",
           "zerolinewidth": 2
          }
         }
        },
        "xaxis": {
         "anchor": "y",
         "domain": [
          0,
          1
         ],
         "title": {
          "text": "Climate"
         }
        },
        "yaxis": {
         "anchor": "x",
         "domain": [
          0,
          1
         ],
         "title": {
          "text": "Count"
         }
        }
       }
      }
     },
     "metadata": {},
     "output_type": "display_data"
    }
   ],
   "source": [
    "fig1 = px.histogram(outage, x='POPULATION')\n",
    "fig2 = px.histogram(outage, x='OUTAGE.DURATION')\n",
    "climate_ct_group = outage.groupby('CLIMATE.CATEGORY')['OUTAGE.DURATION'].count()\n",
    "fig3 = px.bar(climate_ct_group,labels={'CLIMATE.CATEGORY':'Climate','value':'Count'})\n",
    "\n",
    "fig1.show()\n",
    "fig2.show()\n",
    "fig3.show()"
   ]
  },
  {
   "cell_type": "markdown",
   "metadata": {},
   "source": [
    "BIVARIATE ANALYSIS"
   ]
  },
  {
   "cell_type": "code",
   "execution_count": 22,
   "metadata": {},
   "outputs": [
    {
     "data": {
      "application/vnd.plotly.v1+json": {
       "config": {
        "plotlyServerURL": "https://plot.ly"
       },
       "data": [
        {
         "hovertemplate": "POPULATION=%{x}<br>OUTAGE.DURATION=%{y}<extra></extra>",
         "legendgroup": "",
         "marker": {
          "color": "#636efa",
          "symbol": "circle"
         },
         "mode": "markers",
         "name": "",
         "showlegend": false,
         "type": "scattergl",
         "x": {
          "bdata": "F5tRAOVEUwC3CVEAWxlSALrDUwC3CVEAtwlRAG4eTgC6w1MA/bVSAP21UgBuHk4AF5tRABebUQDlRFMAa7ZkAK2AYgBrtmQAyKFhAPNTXwBrtmQArYBiAGu2ZACCH2MAQ+ljAOM4YADIoWEAyKFhAEPpYwCtgGIAQ+ljAMihYQBrtmQAa7ZkAEPpYwDIoWEAPHZlAEPpYwBrtmQAgh9jAMihYQDjOGAAQ+ljAEPpYwDIoWEAQ+ljAEPpYwA8dmUA4zhgAMjhVwDI4VcAtqBUACWkVwDI4VcAyOFXACObUwDI4VcAdRZYALagVABc01YAXNNWACObUwDI4VcAyOFXAMjhVwAlpFcAyOFXACWkVwDI4VcAoCMcAK81HAAbUxwAG1McAG20lgBBXpkAQDeZAG20lgCFkpcAhJuYAEA3mQBAN5kAbbSWAHm3lgCST5cAn9yWABcWlwCEm5gAEGiXAISbmAAXFpcAQV6ZABcWlwBBXpkA2hGXAEFemQBAN5kAbbSWAG20lgDaEZcAn9yWABcWlwCTbpkAEGiXAIWSlwAJx5cAn9yWAAnHlwAQaJcAQDeZANoRlwB5t5YACceXAJNumQAXFpcAEGiXAG20lgBxI5kAQDeZABcWlwB5t5YAFxaXAAnHlwCf3JYAbbSWAJ/clgCST5cAebeWANoRlwBAN5kAhJuYAAnHlwAJx5cACceXAJ/clgCTbpkAkk+XANoRlwAJx5cAebeWAJNumQDaEZcAhJuYAEA3mQDaEZcAbbSWAEFemQDaEZcAbbSWAJNumQCEm5gAEGiXAHm3lgAXFpcAQV6ZAHEjmQDe05gAFxaXAHm3lgAQaJcAbbSWAG20lgBttJYAhJuYAHm3lgDaEZcACceXAG20lgBttJYAOiWjAcB0hwHAdIcBXsupAQ0ZjgEGq5sBBqubAae0VQE6JaMBOiWjAQarmwFccGQByzKBAcsygQGvpWsBOiWjAa+lawHAdIcBUypQAXOWPwE6JaMBDRmOATolowGvpWsBBqubAcB0hwHAdIcBXHBkAV7LqQELkVsBwHSHAae0VQFTKlABr6VrAS/tcgEGq5sBOiWjAcB0hwE6JaMBDRmOAQarmwE6JaMBr6VrAVMqUAEv7XIBDRmOAeFxegFey6kB4XF6AS/tcgFey6kBQl6UAQ0ZjgFccGQBp7RVAQ0ZjgFey6kB4XF6AQ0ZjgFccGQBQl6UAcB0hwFzlj8ByzKBAQarmwELkVsB4XF6AXOWPwHAdIcBXHBkAQ0ZjgFzlj8BQl6UAae0VQFccGQBOiWjAS/tcgE6JaMBDRmOAcB0hwEv7XIByzKBAQarmwHhcXoBxk9FAeFxegEv7XIBOiWjAcB0hwHhcXoBDRmOAeFxegEGq5sBwHSHAae0VQENGY4BQl6UAcB0hwE6JaMBC5FbAS/tcgFccGQBOiWjAcB0hwHGT0UBQl6UAS/tcgEGq5sBBqubAae0VQE6JaMBXHBkAeFxegHLMoEBOiWjAV7LqQGvpWsB4XF6AcB0hwGntFUBOiWjAeFxegHhcXoBwHSHAQuRWwHGT0UBwHSHAfisZAC9j2IArxtfABZCZAAgAmUA5ghiAFr0XAC9j2IA5ghiAOYIYgD4rGQAFkJkABZCZABtcGMAbXBjABZCZAD4rGQAK8RjACvEYwBtcGMA2M1fACvEYwDeCWMA/aBgABZCZABtcGMA5ghiAOYIYgBPWGEAK8RjACvEYwArxGMAbXBjAG1wYwDmCGIAFkJkAN4JYwDmCGIAvY9iAOYIYgDmCGIA3gljAL2PYgBL80kATe9DAE3vQwBN70MAYyRKAEW1SQAjrS0Az3AtACOtLQDNqC0AukHEACHxwwDxur0AOrnBAJ91xAAh8cMAn3XEAOytxABz7sAAIfHDAG9pwAC6QcQADZHEAGpDwwDNGsAAukHEAJ91xADxur0An3XEAB6BwgDsrcQAukHEAOaWvwDsrcQAukHEAB6BwgC6QcQAzRrAAHPuwAA6ucEAOrnBAFs6xADmlr8A8bq9AA2RxAAegcIAn3XEACHxwwDmlr8AukHEAHPuwAC6QcQAukHEAB6BwgC6QcQAakPDAIw+aQA9HWgAjD5pABTkZgB+xmsAL2ltAD0daACMPmkAjD5pAC9pbQCMPmkAPR1oAIw+aQBVR14AwTVhAD0daAA9HWgAjD5pAIw+aQAvaW0AL2ltAJOYYgCMPmkAJhlvAD0daAA9HWgAPR1oAGFnagA9HWgAL2ltAD0daAA9HWgAJhlvACYZbwA9HWgAwTVhACYZbwA9HWgAL2ltAIw+aQCivGUAjD5pACYZbwBhZ2oAjD5pAJOYYgA9HWgAYWdqAIw+aQAvaW0AtyFkAD0daAAU5GYAjD5pAD0daABhZ2oAjD5pAD0daAA9HWgAPR1oAD0daAA9HWgAJhlvAC9pbQAvaW0AjD5pAME1YQCMPmkAfsZrAD0daAAzJF0AjD5pAGFnagAmGW8APR1oAIw+aQA9HWgAL2ltAD0daAA9HWgAjD5pAME1YQDBNWEAwTVhAD0daADBNWEAPR1oAIw+aQB+xmsAwTVhAIw+aQBVR14APR1oAIw+aQAvaW0AjD5pAGFnagB8tGIAITBoACEwaACPLWUAjy1lANwUVACPLWUAjy1lALQ/VgDyyWAAT6xmAE+sZgBPrGYAir5OAB9XUgBPrGYA4mppAE+sZgCPLWUAfLRiAI8tZQCKvk4AtD9WACEwaAB8tGIAT6xmALQ/VgDcFFQAtOJZALejVADn3VUA5b5WALejVADn3VUAO1VVAKiTWgC04lkAyyxZALTiWQAyLVsAyyxZALTiWQDLLFkAtOJZAKiTWgDN3VMAyyxZALTiWQCok1oAMi1bADtVVQC04lkA+VJYALTiWQDN3VMAyyxZAKiTWgDn3VUAtOJZAMssWQCok1oAqJNaALTiWQCok1oAMi1bAM3dUwC04lkAzd1TALTiWQCok1oAtOJZAOW+VgAw7lsAVHBXAKBDVgDLLFkAtOJZALTiWQDN3VMAoENWAPlSWADLLFkAtOJZAIGmWwA7VVUAqJNaAFnmvgDyecIATvjBAPJ5wgCwD8MATvjBAPJ5wgC9csAAteXCAFnmvgBZ5r4ATvjBALXlwgDG+L0A8nnCAFnmvgCNHcMATvjBAGJfvQCC0rwA8nnCAMb4vQDHWcMApzfDAPJ5wgC15cIAvXLAAPJ5wgCNHcMAvXLAAE74wQDyecIApzfDAPJ5wgC9csAA6kfBALXlwgDhtb8AWea+AKc3wwCnN8MATvjBAPJ5wgCnN8MAvXLAAKc3wwDyecIAFyi8APJ5wgC15cIAFyi8APJ5wgDyecIAteXCAMdZwwBO+MEATvjBAAqmQgDJVEMAkt9BAAqmQgCS30EAhIVDAFZ1QQBWdUEAkt9BAJLfQQBWdUEAVnVBAJLfQQC4+SoAz7YtAPLtLACFTiwAhU4sAIVOLADy7SwAz7YtAOFzLgDPti0A4XMuAM+2LQC4+SoA8u0sAIVOLAC4+SoAcqMnALj5KgCFTiwAdaIoALj5KgC4+SoA4XMuALj5KgDPti0A4XMuAPLtLAC4+SoAuPkqAPLtLAC4+SoAuPkqAIJZKgBdjikA8u0sAIVOLADhcy4AhU4sALj5KgDPti0AhU4sAFu/rgDXZK0AW7+uAH0wrwBiK7AA7zSxACdEsABiK7AA/7WvAP+1rwAke64AJ0SwAGIrsAAnRLAAwOqvAJjqrgAIlLAAJHuuAGIrsACY6q4AYiuwAMb0sAAke64AJ0SwAJjqrgD/ta8AJ0SwAAiUsAAeGbAAYiuwAP+1rwB9MK8AYiuwAMDqrwD/ta8AYiuwAGIrsABiK7AAYiuwAMDqrwBiK7AAJ0SwAMb0sADOUHsAf9WEABYRiABRQ5MAuDqWAE26lABRQ5MATbqUAKOtlwBNupQAsj2ZAE26lACR+poACQ2OAM5QewCjrZcAUUOTAKOtlwBlhIAAUUOTABYRiAB/1YQAuDqWAE26lADD25EAZYSAAMCCggBRQ5MAo62XALg6lgC4OpYAkfqaAF4wkACjrZcAUUOTAM5QewAJDY4AZYSAAMPbkQCjrZcA8P+IAD2wiACvKoQAtu6GAFxliAC27oYAsuuEALbuhgCNa4cAPbCIALLrhACy64QAtu6GALbuhgA9sIgA8P+IALbuhgCvKoQAsuuEALbuhgBcZYgAjWuHALbuhgC27oYAKVaGAI1rhwBcZYgAjWuHAClWhgC27oYAtu6GAClWhgCNa4cAtu6GAClWhgDpQEAA3UxHAOivSQDor0kAn2c9AOlAQACfZz0A6K9JAF0HOwBdBzsAMXo9AIKYPADe7zsA5Vg+ADF6PQCsgTkANIA7AOVYPgBjAzgAXQc7AIKYPADlWD4Agpg8AN7vOwBjAzgAXQc7AN7vOwBdBzsAMXo9AGMDOADe7zsAMXo9AIKYPAAxej0AxjsJALh3CQDGOwkAtqwIALh3CQBE6QkAfBEKAETpCQDOsQkAxjsJAFjUXACA9VoAgPVaAID1WgDThlwAPDhcAFjUXAB81lkATGRaANu2WwDbtlsA27ZbAKjxXACo8VwAPDhcADw4XABJl1YAz7oNAGv+DQCpHg4Aa/4NAIzaDQCM2g0Aa/4NAIzaDQBr/g0AqR4OAIzaDQAgSA4Aa/4NAKkeDgB6iQ4Aa/4NAGv+DQCM2g0AjNoNAKkeDgDF/wsAa/4NAGv+DQCpHg4Aa/4NAKkeDgBr/g0AeokOAGv+DQCpHg4AqR4OAKkeDgBr/g0AeokOAHqJDgAObw4AqR4OAKkeDgAgSA4AjNoNAGv+DQBpci8ArMMtAAAvLwBpci8AHPIuAGlyLwCswy0AHgguABSdDwCCeg8Asx0PAAOaJAHFLSsBxS0rAYLmKQG08SEBVi4jAYLmKQGC5ikBguYpARh2LAGv7yMBfq0uAfpXLQF+rS4B74gkAcUtKwGoECgBlCglARh2LAFPDy4BGHYsAfpXLQEYdiwBqBAoAZQoJQGC5ikBlCglAYLmKQGC5ikBlCglAfpXLQEDmiQBguYpAYLmKQEYdiwBguYpAX6tLgGv7yMBguYpAagQKAGC5ikBqBAoAYLmKQF3gyMBqBAoAX6tLgEDmiQBqBAoAQOaJAHviCQBguYpAcLwIwGC5ikBTw8uARh2LAFPDy4BlCglAYLmKQF3gyMBguYpAagQKAF3gyMBxS0rAcUtKwEYdiwBguYpAYLmKQHviCQBd4MjAa/vIwH6Vy0Bgq5DAICJRAAudkUAt1lFALdZRQB01UUALnZFALdZRQBNgUcAt1lFAHTVRQC3WUUAHD9GAC52RQBNgUcAdNVFAICJRACV0EUAgIlEAIKuQwCCrkMAt1lFAICJRACCrkMAgq5DAHTVRQC3WUUAHD9GABw/RgCCrkMAt1lFAICJRAAjnEYAHvBGAHOfRAC3WUUAdNVFABw/RgCV0EUAt1lFAOP8KgHVSScBdj8QAXY/EAFJtBoBSbQaAc0xOwHaqP4A/YYjAXY/EAFJtBoBlrwJAZa8CQGWvAkBlrwJAZa8CQFioB8Bdj8QAZa8CQFJtBoB5J0cAZa8CQF2PxABSbQaAeP8KgGWvAkBlrwJAXY/EAFJtBoBSbQaAZa8CQHj/CoBlrwJAUm0GgGWvAkBlrwJAXY/EAGWvAkBlrwJAXY/EAGWvAkBlrwJAf2GIwH9hiMBNXYDAcciKQKxiS4C0qMlAnJNVQJj7E8CMCdKArGJLgLSoyUC57AiAjAnSgLnsCIC57AiAjAnSgKxiS4Cck1VAjAnSgLCQT8CP6w5AjAnSgJyTVUCwkE/AnJNVQI/rDkCwkE/AsciKQLCQT8CzfszAnJNVQKxiS4CP6w5ArGJLgLSoyUCxyIpAjDTHgKxiS4C0qMlArGJLgKxiS4CMNMeArGJLgI/rDkC0qMlAnJNVQJj7E8Cck1VAnJNVQJyTVUCMCdKAjAnSgIwJ0oCzfszAjAnSgJiHQ4C0qMlAsciKQLnsCICP6w5AjAnSgJ3sEQCIxoUAnJNVQIwJ0oC3J1XAjAnSgLcnVcC0qMlAsJBPwLSoyUCck1VAsJBPwIwJ0oCwkE/AnJNVQI/rDkCMNMeAuewIgLHIikC57AiAjAnSgLHIikCck1VAsciKQIjGhQCwkE/ArGJLgJiHQ4CP6w5AmIdDgI/rDkCp+sZArGJLgI/rDkCMCdKAj+sOQI/rDkCck1VAj+sOQIjGhQCMNMeAjDTHgI/rDkCd7BEArGJLgJ3sEQCp+sZAmPsTwKn6xkCzfszAnJNVQLHIikCsYkuAnJNVQIw0x4C57AiAnewRALN+zMCYh0OAs37MwI/rDkCsYkuAnJNVQLN+zMCP6w5AsJBPwLN+zMCsYkuAuewIgLSoyUCzfszAnewRAIjGhQCd7BEAtydVwJyTVUCp+sZAnJNVQJ3sEQC57AiAomdBgJyTVUCY+xPAsJBPwI/rDkCP6w5Aj+sOQLCQT8CYh0OAsJBPwI/rDkCzfszAnJNVQKxiS4CwkE/AsciKQKxiS4CwkE/Aj+sOQJyTVUCwkE/Aj+sOQJ3sEQCd7BEAjDTHgLHIikCP6w5AtydVwJ3sEQCYh0OAsJBPwJiHQ4CxyIpAsciKQIw0x4CsYkuAmIdDgLHIikCsYkuAmPsTwLHIikCMNMeAmPsTwJiHQ4CIxoUAs37MwJj7E8CxyIpAnJNVQJyTVUCP6w5AjAnSgLN+zMCzfszAnJNVQLN+zMCxyIpArGJLgI/rDkCsYkuAnewRALnsCICP6w5AnewRAIw0x4CMCdKArGJLgLHIikCxyIpAqfrGQKxiS4CY+xPAsszLACq1iwAyzMsAHsBLQCFIi0AewEtAIUiLQCq1iwAhSItAKrWLACccS0AewEtAJqXLACq1iwAqtYsAHsBLQAHSikAqtYsAIEOKwCpbyoAhSItADNFLQCFIi0AewEtAJxxLQCYh3cAv8J7AL/CewBjKH4AYyh+AHcRcgAR6n8AQWlwABltbAC/wnsAYyh+AL/CewBeBX0Av8J7AL/CewBYRXYAu3Z6ALt2egCa1m0AXgV9ALHweABeBX0Au3Z6ALHweACYh3cAmId3AGMofgBZMG8AfRd1AEFpcABYRXYAfRd1ALt2egC/wnsAfRd1AGMofgBeBX0AiewbABppGwB6sRoAlQwbAOuKCADYqQgA2KkIANvlCADb5QgAJJ0IALjPHwDq1x8AFMobAOrXHwDq1x8A6tcfAOrXHwDq1x8AuZEJAN6OCQDejgkA3o4JAE+QCQD/jwkA3o4JAP+PCQDejgkA5M6FAOIyiADkzoUA5M6FADi5lQA4uZUA4jKIAMzdmwDltIsASwiRAOTOhQDsEZoAbs2SAOwRmgDkzoUAOLmVAMdUlwB/xjYAcOM2AH/GNgBPWTYAcOM2AH/GNgDrGTYAcOM2AHDjNgB/xjYAZtI1AEWfNgB/xjYARZ82AL3GNAAUrDUARdU2AOsZNgCqrjsAz0A6ADg9NQDPQDoAgsc5AOxdOQCCxzkA7F05AK10NwCqrjsAN9U7AGrXNgCqrjsAgsc5AF3MOgCCxzkAXcw6AF3MOgCCxzkAcco1AKquOwCqrjsAz0A6AILHOQBV42QA9JZlAFXjZABV42QA9JZlAMKeYQBKXmYA9JZlAPSWZQD0lmUA+ddhACkfaAD0lmUASl5mACUAYgBKXmYASl5mAPSWZQDAPxQAgUQUAIFEFADAPxQAgUQUALBIFACBRBQAtkkUAGMyFABNTRQATU0UAE9CFACQfBMAikYUAIpGFAC2SRQATU0UAPhGFADAPxQAsSkUALEpFACxKRQAyB0UAMgdFACxKRQAyB0UAMgdFACkLhQAHAcUAMgdFADIHRQAyB0UALEpFABjfCkA3pMqAF0cLABjfCkAOgkqAHbZLAA6CSoAXG5QAFxuUABQrUYA+B1OAKPeSwD4HU4AvkJTAPlhVAAzOE8AvgdNACcHSAAzOE8AMzhPACcHSAAzOE8Av2cpAJltLACZbSwAmW0sACl6KgCZbSwAncorAJltLADT4ykA9VMUALMHFQAj/BMAI/wTACP8EwCaohkABiwYALo8FQAGLBgAtM0UAAYsGACaohkAmqIZAJqiGQAOdQoAzugJAJtQDACbUAwA+5QJAA==",
          "dtype": "i4"
         },
         "xaxis": "x",
         "y": {
          "bdata": "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",
          "dtype": "f8"
         },
         "yaxis": "y"
        }
       ],
       "layout": {
        "legend": {
         "tracegroupgap": 0
        },
        "margin": {
         "t": 60
        },
        "template": {
         "data": {
          "bar": [
           {
            "error_x": {
             "color": "#2a3f5f"
            },
            "error_y": {
             "color": "#2a3f5f"
            },
            "marker": {
             "line": {
              "color": "#E5ECF6",
              "width": 0.5
             },
             "pattern": {
              "fillmode": "overlay",
              "size": 10,
              "solidity": 0.2
             }
            },
            "type": "bar"
           }
          ],
          "barpolar": [
           {
            "marker": {
             "line": {
              "color": "#E5ECF6",
              "width": 0.5
             },
             "pattern": {
              "fillmode": "overlay",
              "size": 10,
              "solidity": 0.2
             }
            },
            "type": "barpolar"
           }
          ],
          "carpet": [
           {
            "aaxis": {
             "endlinecolor": "#2a3f5f",
             "gridcolor": "white",
             "linecolor": "white",
             "minorgridcolor": "white",
             "startlinecolor": "#2a3f5f"
            },
            "baxis": {
             "endlinecolor": "#2a3f5f",
             "gridcolor": "white",
             "linecolor": "white",
             "minorgridcolor": "white",
             "startlinecolor": "#2a3f5f"
            },
            "type": "carpet"
           }
          ],
          "choropleth": [
           {
            "colorbar": {
             "outlinewidth": 0,
             "ticks": ""
            },
            "type": "choropleth"
           }
          ],
          "contour": [
           {
            "colorbar": {
             "outlinewidth": 0,
             "ticks": ""
            },
            "colorscale": [
             [
              0,
              "#0d0887"
             ],
             [
              0.1111111111111111,
              "#46039f"
             ],
             [
              0.2222222222222222,
              "#7201a8"
             ],
             [
              0.3333333333333333,
              "#9c179e"
             ],
             [
              0.4444444444444444,
              "#bd3786"
             ],
             [
              0.5555555555555556,
              "#d8576b"
             ],
             [
              0.6666666666666666,
              "#ed7953"
             ],
             [
              0.7777777777777778,
              "#fb9f3a"
             ],
             [
              0.8888888888888888,
              "#fdca26"
             ],
             [
              1,
              "#f0f921"
             ]
            ],
            "type": "contour"
           }
          ],
          "contourcarpet": [
           {
            "colorbar": {
             "outlinewidth": 0,
             "ticks": ""
            },
            "type": "contourcarpet"
           }
          ],
          "heatmap": [
           {
            "colorbar": {
             "outlinewidth": 0,
             "ticks": ""
            },
            "colorscale": [
             [
              0,
              "#0d0887"
             ],
             [
              0.1111111111111111,
              "#46039f"
             ],
             [
              0.2222222222222222,
              "#7201a8"
             ],
             [
              0.3333333333333333,
              "#9c179e"
             ],
             [
              0.4444444444444444,
              "#bd3786"
             ],
             [
              0.5555555555555556,
              "#d8576b"
             ],
             [
              0.6666666666666666,
              "#ed7953"
             ],
             [
              0.7777777777777778,
              "#fb9f3a"
             ],
             [
              0.8888888888888888,
              "#fdca26"
             ],
             [
              1,
              "#f0f921"
             ]
            ],
            "type": "heatmap"
           }
          ],
          "histogram": [
           {
            "marker": {
             "pattern": {
              "fillmode": "overlay",
              "size": 10,
              "solidity": 0.2
             }
            },
            "type": "histogram"
           }
          ],
          "histogram2d": [
           {
            "colorbar": {
             "outlinewidth": 0,
             "ticks": ""
            },
            "colorscale": [
             [
              0,
              "#0d0887"
             ],
             [
              0.1111111111111111,
              "#46039f"
             ],
             [
              0.2222222222222222,
              "#7201a8"
             ],
             [
              0.3333333333333333,
              "#9c179e"
             ],
             [
              0.4444444444444444,
              "#bd3786"
             ],
             [
              0.5555555555555556,
              "#d8576b"
             ],
             [
              0.6666666666666666,
              "#ed7953"
             ],
             [
              0.7777777777777778,
              "#fb9f3a"
             ],
             [
              0.8888888888888888,
              "#fdca26"
             ],
             [
              1,
              "#f0f921"
             ]
            ],
            "type": "histogram2d"
           }
          ],
          "histogram2dcontour": [
           {
            "colorbar": {
             "outlinewidth": 0,
             "ticks": ""
            },
            "colorscale": [
             [
              0,
              "#0d0887"
             ],
             [
              0.1111111111111111,
              "#46039f"
             ],
             [
              0.2222222222222222,
              "#7201a8"
             ],
             [
              0.3333333333333333,
              "#9c179e"
             ],
             [
              0.4444444444444444,
              "#bd3786"
             ],
             [
              0.5555555555555556,
              "#d8576b"
             ],
             [
              0.6666666666666666,
              "#ed7953"
             ],
             [
              0.7777777777777778,
              "#fb9f3a"
             ],
             [
              0.8888888888888888,
              "#fdca26"
             ],
             [
              1,
              "#f0f921"
             ]
            ],
            "type": "histogram2dcontour"
           }
          ],
          "mesh3d": [
           {
            "colorbar": {
             "outlinewidth": 0,
             "ticks": ""
            },
            "type": "mesh3d"
           }
          ],
          "parcoords": [
           {
            "line": {
             "colorbar": {
              "outlinewidth": 0,
              "ticks": ""
             }
            },
            "type": "parcoords"
           }
          ],
          "pie": [
           {
            "automargin": true,
            "type": "pie"
           }
          ],
          "scatter": [
           {
            "fillpattern": {
             "fillmode": "overlay",
             "size": 10,
             "solidity": 0.2
            },
            "type": "scatter"
           }
          ],
          "scatter3d": [
           {
            "line": {
             "colorbar": {
              "outlinewidth": 0,
              "ticks": ""
             }
            },
            "marker": {
             "colorbar": {
              "outlinewidth": 0,
              "ticks": ""
             }
            },
            "type": "scatter3d"
           }
          ],
          "scattercarpet": [
           {
            "marker": {
             "colorbar": {
              "outlinewidth": 0,
              "ticks": ""
             }
            },
            "type": "scattercarpet"
           }
          ],
          "scattergeo": [
           {
            "marker": {
             "colorbar": {
              "outlinewidth": 0,
              "ticks": ""
             }
            },
            "type": "scattergeo"
           }
          ],
          "scattergl": [
           {
            "marker": {
             "colorbar": {
              "outlinewidth": 0,
              "ticks": ""
             }
            },
            "type": "scattergl"
           }
          ],
          "scattermap": [
           {
            "marker": {
             "colorbar": {
              "outlinewidth": 0,
              "ticks": ""
             }
            },
            "type": "scattermap"
           }
          ],
          "scattermapbox": [
           {
            "marker": {
             "colorbar": {
              "outlinewidth": 0,
              "ticks": ""
             }
            },
            "type": "scattermapbox"
           }
          ],
          "scatterpolar": [
           {
            "marker": {
             "colorbar": {
              "outlinewidth": 0,
              "ticks": ""
             }
            },
            "type": "scatterpolar"
           }
          ],
          "scatterpolargl": [
           {
            "marker": {
             "colorbar": {
              "outlinewidth": 0,
              "ticks": ""
             }
            },
            "type": "scatterpolargl"
           }
          ],
          "scatterternary": [
           {
            "marker": {
             "colorbar": {
              "outlinewidth": 0,
              "ticks": ""
             }
            },
            "type": "scatterternary"
           }
          ],
          "surface": [
           {
            "colorbar": {
             "outlinewidth": 0,
             "ticks": ""
            },
            "colorscale": [
             [
              0,
              "#0d0887"
             ],
             [
              0.1111111111111111,
              "#46039f"
             ],
             [
              0.2222222222222222,
              "#7201a8"
             ],
             [
              0.3333333333333333,
              "#9c179e"
             ],
             [
              0.4444444444444444,
              "#bd3786"
             ],
             [
              0.5555555555555556,
              "#d8576b"
             ],
             [
              0.6666666666666666,
              "#ed7953"
             ],
             [
              0.7777777777777778,
              "#fb9f3a"
             ],
             [
              0.8888888888888888,
              "#fdca26"
             ],
             [
              1,
              "#f0f921"
             ]
            ],
            "type": "surface"
           }
          ],
          "table": [
           {
            "cells": {
             "fill": {
              "color": "#EBF0F8"
             },
             "line": {
              "color": "white"
             }
            },
            "header": {
             "fill": {
              "color": "#C8D4E3"
             },
             "line": {
              "color": "white"
             }
            },
            "type": "table"
           }
          ]
         },
         "layout": {
          "annotationdefaults": {
           "arrowcolor": "#2a3f5f",
           "arrowhead": 0,
           "arrowwidth": 1
          },
          "autotypenumbers": "strict",
          "coloraxis": {
           "colorbar": {
            "outlinewidth": 0,
            "ticks": ""
           }
          },
          "colorscale": {
           "diverging": [
            [
             0,
             "#8e0152"
            ],
            [
             0.1,
             "#c51b7d"
            ],
            [
             0.2,
             "#de77ae"
            ],
            [
             0.3,
             "#f1b6da"
            ],
            [
             0.4,
             "#fde0ef"
            ],
            [
             0.5,
             "#f7f7f7"
            ],
            [
             0.6,
             "#e6f5d0"
            ],
            [
             0.7,
             "#b8e186"
            ],
            [
             0.8,
             "#7fbc41"
            ],
            [
             0.9,
             "#4d9221"
            ],
            [
             1,
             "#276419"
            ]
           ],
           "sequential": [
            [
             0,
             "#0d0887"
            ],
            [
             0.1111111111111111,
             "#46039f"
            ],
            [
             0.2222222222222222,
             "#7201a8"
            ],
            [
             0.3333333333333333,
             "#9c179e"
            ],
            [
             0.4444444444444444,
             "#bd3786"
            ],
            [
             0.5555555555555556,
             "#d8576b"
            ],
            [
             0.6666666666666666,
             "#ed7953"
            ],
            [
             0.7777777777777778,
             "#fb9f3a"
            ],
            [
             0.8888888888888888,
             "#fdca26"
            ],
            [
             1,
             "#f0f921"
            ]
           ],
           "sequentialminus": [
            [
             0,
             "#0d0887"
            ],
            [
             0.1111111111111111,
             "#46039f"
            ],
            [
             0.2222222222222222,
             "#7201a8"
            ],
            [
             0.3333333333333333,
             "#9c179e"
            ],
            [
             0.4444444444444444,
             "#bd3786"
            ],
            [
             0.5555555555555556,
             "#d8576b"
            ],
            [
             0.6666666666666666,
             "#ed7953"
            ],
            [
             0.7777777777777778,
             "#fb9f3a"
            ],
            [
             0.8888888888888888,
             "#fdca26"
            ],
            [
             1,
             "#f0f921"
            ]
           ]
          },
          "colorway": [
           "#636efa",
           "#EF553B",
           "#00cc96",
           "#ab63fa",
           "#FFA15A",
           "#19d3f3",
           "#FF6692",
           "#B6E880",
           "#FF97FF",
           "#FECB52"
          ],
          "font": {
           "color": "#2a3f5f"
          },
          "geo": {
           "bgcolor": "white",
           "lakecolor": "white",
           "landcolor": "#E5ECF6",
           "showlakes": true,
           "showland": true,
           "subunitcolor": "white"
          },
          "hoverlabel": {
           "align": "left"
          },
          "hovermode": "closest",
          "mapbox": {
           "style": "light"
          },
          "paper_bgcolor": "white",
          "plot_bgcolor": "#E5ECF6",
          "polar": {
           "angularaxis": {
            "gridcolor": "white",
            "linecolor": "white",
            "ticks": ""
           },
           "bgcolor": "#E5ECF6",
           "radialaxis": {
            "gridcolor": "white",
            "linecolor": "white",
            "ticks": ""
           }
          },
          "scene": {
           "xaxis": {
            "backgroundcolor": "#E5ECF6",
            "gridcolor": "white",
            "gridwidth": 2,
            "linecolor": "white",
            "showbackground": true,
            "ticks": "",
            "zerolinecolor": "white"
           },
           "yaxis": {
            "backgroundcolor": "#E5ECF6",
            "gridcolor": "white",
            "gridwidth": 2,
            "linecolor": "white",
            "showbackground": true,
            "ticks": "",
            "zerolinecolor": "white"
           },
           "zaxis": {
            "backgroundcolor": "#E5ECF6",
            "gridcolor": "white",
            "gridwidth": 2,
            "linecolor": "white",
            "showbackground": true,
            "ticks": "",
            "zerolinecolor": "white"
           }
          },
          "shapedefaults": {
           "line": {
            "color": "#2a3f5f"
           }
          },
          "ternary": {
           "aaxis": {
            "gridcolor": "white",
            "linecolor": "white",
            "ticks": ""
           },
           "baxis": {
            "gridcolor": "white",
            "linecolor": "white",
            "ticks": ""
           },
           "bgcolor": "#E5ECF6",
           "caxis": {
            "gridcolor": "white",
            "linecolor": "white",
            "ticks": ""
           }
          },
          "title": {
           "x": 0.05
          },
          "xaxis": {
           "automargin": true,
           "gridcolor": "white",
           "linecolor": "white",
           "ticks": "",
           "title": {
            "standoff": 15
           },
           "zerolinecolor": "white",
           "zerolinewidth": 2
          },
          "yaxis": {
           "automargin": true,
           "gridcolor": "white",
           "linecolor": "white",
           "ticks": "",
           "title": {
            "standoff": 15
           },
           "zerolinecolor": "white",
           "zerolinewidth": 2
          }
         }
        },
        "xaxis": {
         "anchor": "y",
         "domain": [
          0,
          1
         ],
         "title": {
          "text": "POPULATION"
         }
        },
        "yaxis": {
         "anchor": "x",
         "domain": [
          0,
          1
         ],
         "title": {
          "text": "OUTAGE.DURATION"
         }
        }
       }
      }
     },
     "metadata": {},
     "output_type": "display_data"
    },
    {
     "data": {
      "application/vnd.plotly.v1+json": {
       "config": {
        "plotlyServerURL": "https://plot.ly"
       },
       "data": [
        {
         "hovertemplate": "Anomaly Level=%{x}<br>Outage Duration (hours)=%{y}<extra></extra>",
         "legendgroup": "",
         "marker": {
          "color": "#636efa",
          "symbol": "circle"
         },
         "mode": "markers",
         "name": "",
         "showlegend": false,
         "type": "scattergl",
         "x": {
          "bdata": "MzMzMzMz07+amZmZmZm5vwAAAAAAAPi/mpmZmZmZub8zMzMzMzPzP2ZmZmZmZva/zczMzMzM7L+amZmZmZnJPzMzMzMzM+M/mpmZmZmZyb+amZmZmZnJvwAAAAAAAAAAMzMzMzMz07+amZmZmZnZvwAAAAAAAAAAAAAAAAAA8D8zMzMzMzPTPwAAAAAAAPA/AAAAAAAA4L/NzMzMzMz0vzMzMzMzM+M/mpmZmZmZuT8zMzMzMzPzP5qZmZmZmcm/AAAAAAAA4L8AAAAAAADgPzMzMzMzM9O/AAAAAAAA4L8AAAAAAAAAAJqZmZmZmbm/AAAAAAAAAAAAAAAAAADgv5qZmZmZmek/AAAAAAAA4D8AAAAAAAAAAAAAAAAAAOC/MzMzMzMz078AAAAAAADgvzMzMzMzM+M/mpmZmZmZ2b8AAAAAAADgv5qZmZmZmdk/mpmZmZmZ2b8AAAAAAADgvwAAAAAAAOC/AAAAAAAAAAAAAAAAAADgv5qZmZmZmfE/ZmZmZmZm5r8AAAAAAAAAAAAAAAAAAOC/AAAAAAAA4L8zMzMzMzPTvwAAAAAAAOC/mpmZmZmZyb+amZmZmZm5PwAAAAAAAOC/mpmZmZmZAUAAAAAAAAAAADMzMzMzM/O/AAAAAAAA+L8AAAAAAAAAAAAAAAAAAOC/mpmZmZmZ2b8AAAAAAAAAADMzMzMzM9O/AAAAAAAA4L8zMzMzMzPTvwAAAAAAAOC/MzMzMzMz4z8AAAAAAAAAADMzMzMzM9M/mpmZmZmZub+amZmZmZnZvwAAAAAAAAAAMzMzMzMz0z8zMzMzMzPTvwAAAAAAAABAmpmZmZmZ2b+amZmZmZnJPwAAAAAAAAAAmpmZmZmZ2b+amZmZmZnZv5qZmZmZmcm/mpmZmZmZ2b+amZmZmZm5v83MzMzMzPS/mpmZmZmZAUCamZmZmZnZv83MzMzMzOw/mpmZmZmZyT+amZmZmZnZP5qZmZmZmck/MzMzMzMz078AAAAAAADgv5qZmZmZmbk/AAAAAAAA8L/NzMzMzMz0vzMzMzMzM9O/MzMzMzMz0z+amZmZmZm5v5qZmZmZmck/ZmZmZmZm9j8zMzMzMzPTv2ZmZmZmZua/mpmZmZmZuT9mZmZmZmbmvwAAAAAAAPA/mpmZmZmZyT8zMzMzMzPTvwAAAAAAAPi/ZmZmZmZm9r9mZmZmZmbmP83MzMzMzPQ/MzMzMzMz+z8AAAAAAADgvzMzMzMzM+O/mpmZmZmZyb8AAAAAAADgPzMzMzMzM/O/mpmZmZmZ2b8AAAAAAADgv5qZmZmZmdm/MzMzMzMz07+amZmZmZnZv5qZmZmZmcm/ZmZmZmZm9r+amZmZmZnZv5qZmZmZmck/zczMzMzM7L+amZmZmZnZv2ZmZmZmZua/AAAAAAAA4L+amZmZmZnZv5qZmZmZmck/AAAAAAAAAACamZmZmZnJvwAAAAAAAOC/zczMzMzM7L+amZmZmZnJPzMzMzMzM9O/mpmZmZmZyb8zMzMzMzPTPzMzMzMzM9O/zczMzMzM7L+amZmZmZnJP5qZmZmZmcm/MzMzMzMz079mZmZmZmbmPzMzMzMzM+O/ZmZmZmZm9j+amZmZmZnZv5qZmZmZmdk/AAAAAAAA4L+amZmZmZm5P5qZmZmZmbk/AAAAAAAA4D/NzMzMzMzsv2ZmZmZmZgJAmpmZmZmZ2b8zMzMzMzPTvzMzMzMzM9O/ZmZmZmZm5j9mZmZmZmb2v5qZmZmZmcm/mpmZmZmZ2b+amZmZmZnpvzMzMzMzM+O/MzMzMzMz8z8AAAAAAADwvwAAAAAAAPC/MzMzMzMz078zMzMzMzPTPwAAAAAAAOC/AAAAAAAA4L8zMzMzMzPjP2ZmZmZmZuY/mpmZmZmZ6T8AAAAAAAAAAJqZmZmZmcm/mpmZmZmZ2b+amZmZmZnZv83MzMzMzOy/ZmZmZmZm9j/NzMzMzMzsvzMzMzMzM9O/mpmZmZmZuT9mZmZmZmbmvwAAAAAAAPA/mpmZmZmZ2b9mZmZmZmbmPzMzMzMzM9O/mpmZmZmZyb8zMzMzMzPjvzMzMzMzM+O/mpmZmZmZyb8zMzMzMzPjPwAAAAAAAAAAZmZmZmZm5r8zMzMzMzPjPwAAAAAAAAAAmpmZmZmZuT8zMzMzMzPTvwAAAAAAAOC/AAAAAAAAAEAAAAAAAADwvzMzMzMzM+M/mpmZmZmZyb8AAAAAAADgvwAAAAAAAABAzczMzMzM7L+amZmZmZnJvzMzMzMzM9O/ZmZmZmZm5r8AAAAAAADgP5qZmZmZmfE/MzMzMzMz47+amZmZmZnZvzMzMzMzM9O/MzMzMzMz07+amZmZmZm5P83MzMzMzOw/mpmZmZmZyT+amZmZmZm5P5qZmZmZmfE/AAAAAAAA4D9mZmZmZmbmv2ZmZmZmZuY/MzMzMzMz078zMzMzMzPTv2ZmZmZmZua/MzMzMzMz8z8AAAAAAAAAAAAAAAAAAAAAmpmZmZmZ2T+amZmZmZnxvwAAAAAAAPC/mpmZmZmZyb+amZmZmZm5vwAAAAAAAPh/MzMzMzMz07+amZmZmZm5P5qZmZmZmcm/MzMzMzMz8z/NzMzMzMzsvwAAAAAAAOA/AAAAAAAA4L8zMzMzMzPTvzMzMzMzM9O/ZmZmZmZm9r+amZmZmZnZvwAAAAAAAOA/mpmZmZmZub+amZmZmZm5vwAAAAAAAOC/ZmZmZmZm5j/NzMzMzMz0vwAAAAAAAOA/mpmZmZmZ2b8AAAAAAADgPwAAAAAAAOC/MzMzMzMz47+amZmZmZnJP5qZmZmZmdm/MzMzMzMz078zMzMzMzPjv5qZmZmZmek/MzMzMzMz0z8zMzMzMzPTv5qZmZmZmcm/mpmZmZmZ6T8zMzMzMzPTv5qZmZmZmbm/MzMzMzMz078zMzMzMzPTvwAAAAAAAOC/AAAAAAAAAAAzMzMzMzPTPzMzMzMzM/M/mpmZmZmZyb+amZmZmZnZvzMzMzMzM/O/ZmZmZmZmAkCamZmZmZnxP5qZmZmZmcm/mpmZmZmZ2T+amZmZmZnpv5qZmZmZmck/ZmZmZmZm9j9mZmZmZmbmvwAAAAAAAOA/ZmZmZmZm5r8zMzMzMzPTP5qZmZmZmdm/zczMzMzM7L8AAAAAAAAAAGZmZmZmZua/AAAAAAAA4D8zMzMzMzPTv5qZmZmZmQFAZmZmZmZm5r8AAAAAAADgv2ZmZmZmZua/ZmZmZmZm5r8AAAAAAADgv5qZmZmZmbm/MzMzMzMz078zMzMzMzPTvzMzMzMzM9O/zczMzMzM7L8zMzMzMzPTv5qZmZmZmbm/MzMzMzMz0z+amZmZmZm5PwAAAAAAAPC/ZmZmZmZm5j8zMzMzMzPTP5qZmZmZmdm/mpmZmZmZyb+amZmZmZnJv5qZmZmZmdm/ZmZmZmZm5r8AAAAAAADgv83MzMzMzOy/mpmZmZmZuT+amZmZmZnZvzMzMzMzM9M/MzMzMzMz07+amZmZmZnZvzMzMzMzM9O/MzMzMzMz07+amZmZmZnZv2ZmZmZmZua/ZmZmZmZm5r8AAAAAAADgv5qZmZmZmdm/mpmZmZmZ2b9mZmZmZmbmvwAAAAAAAAAAAAAAAAAA+H+amZmZmZnpvwAAAAAAAOC/MzMzMzMz8z+amZmZmZnJvwAAAAAAAAAAmpmZmZmZ2b+amZmZmZm5v5qZmZmZmek/mpmZmZmZ2b+amZmZmZnZv2ZmZmZmZua/MzMzMzMz47+amZmZmZm5vwAAAAAAAPi/mpmZmZmZuT8zMzMzMzPTv2ZmZmZmZuY/mpmZmZmZ2b+amZmZmZnJPzMzMzMzM9O/AAAAAAAAAACamZmZmZnZPzMzMzMzM+M/MzMzMzMz07+amZmZmZm5PwAAAAAAAPh/mpmZmZmZuT9mZmZmZmbmv5qZmZmZmcm/MzMzMzMz07+amZmZmZm5PzMzMzMzM9O/AAAAAAAA4L8zMzMzMzPTvzMzMzMzM+O/AAAAAAAA4D+amZmZmZnZv83MzMzMzPS/mpmZmZmZ2b9mZmZmZmb2PzMzMzMzM9M/AAAAAAAA4L8AAAAAAADgvwAAAAAAAOC/MzMzMzMz0z8AAAAAAAD4v5qZmZmZmbk/MzMzMzMz07+amZmZmZm5PwAAAAAAAPC/MzMzMzMz078AAAAAAADgvzMzMzMzM9O/mpmZmZmZyT8AAAAAAADgv83MzMzMzOy/AAAAAAAA4L9mZmZmZmb2vwAAAAAAAOC/ZmZmZmZm9j8zMzMzMzPjv5qZmZmZmdm/mpmZmZmZ2b+amZmZmZnpP5qZmZmZmcm/MzMzMzMz078zMzMzMzPTPzMzMzMzM9M/zczMzMzM7D+amZmZmZnpv83MzMzMzOy/ZmZmZmZm5r+amZmZmZnZvzMzMzMzM/M/ZmZmZmZmAkBmZmZmZmbmP5qZmZmZmdm/MzMzMzMz07+amZmZmZnpvwAAAAAAAPC/zczMzMzM7L8zMzMzMzPTvzMzMzMzM+O/MzMzMzMz4z8AAAAAAADgv5qZmZmZmem/mpmZmZmZ+T+amZmZmZn5PzMzMzMzM9O/MzMzMzMz47+amZmZmZn5PzMzMzMzM9O/ZmZmZmZm9j8AAAAAAADgv5qZmZmZmbm/mpmZmZmZ2b+amZmZmZnxPzMzMzMzM9O/mpmZmZmZyb+amZmZmZnxvwAAAAAAAPC/mpmZmZmZ2b9mZmZmZmbmv5qZmZmZmQFAMzMzMzMz078zMzMzMzPTv2ZmZmZmZva/AAAAAAAA4L8AAAAAAADwvzMzMzMzM9O/MzMzMzMz0z+amZmZmZnpvzMzMzMzM9O/MzMzMzMz07+amZmZmZnpv83MzMzMzOy/mpmZmZmZ+T+amZmZmZkBQDMzMzMzM/M/mpmZmZmZuT/NzMzMzMzsP5qZmZmZmdm/AAAAAAAAAAAzMzMzMzPjvzMzMzMzM9M/MzMzMzMz078zMzMzMzPTvzMzMzMzM+M/zczMzMzM7L9mZmZmZmbmv83MzMzMzOy/AAAAAAAA8D+amZmZmZnpvzMzMzMzM9O/mpmZmZmZ2b/NzMzMzMzsPzMzMzMzM+O/zczMzMzM7D8zMzMzMzPTv83MzMzMzOw/MzMzMzMz079mZmZmZmbmv5qZmZmZmdm/zczMzMzM7D8zMzMzMzPTv5qZmZmZmbk/MzMzMzMz479mZmZmZmbmv2ZmZmZmZvY/ZmZmZmZm5r+amZmZmZnJvzMzMzMzM9O/AAAAAAAA4D8AAAAAAADgPzMzMzMzM9O/MzMzMzMz07+amZmZmZm5PzMzMzMzM9O/MzMzMzMz078AAAAAAADgP83MzMzMzPQ/mpmZmZmZub8AAAAAAADgvwAAAAAAAOC/ZmZmZmZm5r+amZmZmZnJPwAAAAAAAAAAAAAAAAAAAEAAAAAAAADgvzMzMzMzM9O/AAAAAAAA4L8zMzMzMzPTv2ZmZmZmZua/AAAAAAAA4D8AAAAAAADgPwAAAAAAAPC/mpmZmZmZ2b8zMzMzMzPTP5qZmZmZmbk/mpmZmZmZub8zMzMzMzPTPzMzMzMzM+O/AAAAAAAA4L9mZmZmZmbmPzMzMzMzM+O/AAAAAAAAAACamZmZmZnZvzMzMzMzM9M/AAAAAAAA8L8zMzMzMzPTPwAAAAAAAOC/zczMzMzM7L+amZmZmZnZvzMzMzMzM+O/MzMzMzMz0z8zMzMzMzPTvzMzMzMzM9M/AAAAAAAA8L+amZmZmZm5P5qZmZmZmdm/AAAAAAAA4L8AAAAAAAAAADMzMzMzM9M/zczMzMzM7L8zMzMzMzPTP5qZmZmZmck/zczMzMzM9L+amZmZmZnJvwAAAAAAAAAAmpmZmZmZub+amZmZmZnZvzMzMzMzM9O/mpmZmZmZ2b8zMzMzMzPTP5qZmZmZmdm/AAAAAAAA4L8zMzMzMzPTPzMzMzMzM9M/mpmZmZmZyT+amZmZmZm5v5qZmZmZmcm/MzMzMzMz0z8AAAAAAADgv5qZmZmZmfE/mpmZmZmZ2T+amZmZmZm5v2ZmZmZmZua/MzMzMzMz0z8zMzMzMzPTP5qZmZmZmck/mpmZmZmZ2T/NzMzMzMzsvzMzMzMzM+O/mpmZmZmZub9mZmZmZmbmPwAAAAAAAAAAmpmZmZmZ2b+amZmZmZm5P83MzMzMzOy/AAAAAAAA4D+amZmZmZnZv5qZmZmZmcm/MzMzMzMz8z/NzMzMzMzsvwAAAAAAAOC/MzMzMzMz0z8AAAAAAADgPwAAAAAAAAAAZmZmZmZm9r+amZmZmZm5P5qZmZmZmck/MzMzMzMz479mZmZmZmbmv5qZmZmZmQFAZmZmZmZm9r9mZmZmZmbmP5qZmZmZmbk/zczMzMzM7L8AAAAAAAAAAAAAAAAAAPA/AAAAAAAA4L8AAAAAAADwvzMzMzMzM9M/MzMzMzMz078AAAAAAADwvzMzMzMzM9O/MzMzMzMz07/NzMzMzMzsPzMzMzMzM+O/AAAAAAAA4L8zMzMzMzPTvzMzMzMzM9O/MzMzMzMz47+amZmZmZm5PzMzMzMzM+O/mpmZmZmZuT8AAAAAAADgvwAAAAAAAOC/zczMzMzM7L+amZmZmZnZvwAAAAAAAOC/mpmZmZmZ8b8AAAAAAADgv83MzMzMzOy/mpmZmZmZ8T8zMzMzMzPjv5qZmZmZmbk/mpmZmZmZ8T/NzMzMzMzsv83MzMzMzOy/MzMzMzMz0z8AAAAAAAAAQJqZmZmZmdm/MzMzMzMz8z8zMzMzMzPTvwAAAAAAAOC/MzMzMzMz478zMzMzMzPjv5qZmZmZmck/AAAAAAAA8D8zMzMzMzPTv83MzMzMzPS/ZmZmZmZm5r9mZmZmZmbmv83MzMzMzPS/MzMzMzMz079mZmZmZmbmv83MzMzMzOy/AAAAAAAAAECamZmZmZm5vzMzMzMzM9O/MzMzMzMz078zMzMzMzPTvwAAAAAAAOC/ZmZmZmZm5j+amZmZmZkBQGZmZmZmZuY/MzMzMzMz4z8AAAAAAAAAQDMzMzMzM9O/AAAAAAAA4L8zMzMzMzPTvwAAAAAAAOC/mpmZmZmZ2b+amZmZmZnZvzMzMzMzM9O/zczMzMzM9L/NzMzMzMzsvwAAAAAAAOC/mpmZmZmZuT8AAAAAAADwvwAAAAAAAOA/mpmZmZmZ8T+amZmZmZnZvzMzMzMzM+O/mpmZmZmZ6b+amZmZmZnZv2ZmZmZmZua/AAAAAAAA4L/NzMzMzMzsvwAAAAAAAOA/mpmZmZmZub8zMzMzMzPTvwAAAAAAAABAMzMzMzMz07+amZmZmZnZv5qZmZmZmek/MzMzMzMz07+amZmZmZnJP2ZmZmZmZua/mpmZmZmZyT8zMzMzMzPTPzMzMzMzM+O/mpmZmZmZAUAzMzMzMzPTv2ZmZmZmZua/MzMzMzMz079mZmZmZmb2v5qZmZmZmbk/mpmZmZmZub8zMzMzMzPjv5qZmZmZmbk/MzMzMzMz479mZmZmZmbmPzMzMzMzM9O/mpmZmZmZyT/NzMzMzMzsvwAAAAAAAOA/MzMzMzMz078AAAAAAADgv83MzMzMzOw/mpmZmZmZuT8AAAAAAADgP5qZmZmZmdm/MzMzMzMz07+amZmZmZnZv5qZmZmZmdm/mpmZmZmZ6b8zMzMzMzPTv83MzMzMzOw/MzMzMzMz078zMzMzMzPjvzMzMzMzM9O/zczMzMzM7L8zMzMzMzPTvzMzMzMzM+O/MzMzMzMz07/NzMzMzMz0PwAAAAAAAOC/MzMzMzMz0z8AAAAAAADgv2ZmZmZmZua/AAAAAAAAAAAAAAAAAAAAAAAAAAAAAOC/mpmZmZmZ2b8AAAAAAADgvzMzMzMzM9O/mpmZmZmZuT8AAAAAAADgv5qZmZmZmcm/AAAAAAAA4D+amZmZmZm5PzMzMzMzM9O/zczMzMzM9L8AAAAAAADgvwAAAAAAAOC/MzMzMzMz47+amZmZmZm5v2ZmZmZmZuY/mpmZmZmZ2b8AAAAAAADgPwAAAAAAAOA/mpmZmZmZyb+amZmZmZnJvwAAAAAAAOA/mpmZmZmZyT9mZmZmZmbmPzMzMzMzM+O/mpmZmZmZ2b8zMzMzMzPTv5qZmZmZmcm/MzMzMzMz07/NzMzMzMz0PwAAAAAAAOC/MzMzMzMz478AAAAAAAD4fzMzMzMzM9O/mpmZmZmZyT+amZmZmZnZv5qZmZmZmdm/mpmZmZmZuT8AAAAAAADwPwAAAAAAAOA/MzMzMzMz478AAAAAAADgv83MzMzMzOy/ZmZmZmZm5r/NzMzMzMzsv5qZmZmZmbk/AAAAAAAA8D8AAAAAAADgv2ZmZmZmZua/mpmZmZmZ6b8zMzMzMzPjvwAAAAAAAPA/mpmZmZmZAUCamZmZmZnpvzMzMzMzM+O/AAAAAAAA4L8AAAAAAADwvwAAAAAAAOC/MzMzMzMz0z/NzMzMzMzsv5qZmZmZmem/mpmZmZmZ2b+amZmZmZm5vwAAAAAAAOC/MzMzMzMz0z/NzMzMzMzsPzMzMzMzM9O/MzMzMzMz478zMzMzMzPzPzMzMzMzM9M/zczMzMzM7L/NzMzMzMzsPzMzMzMzM+M/MzMzMzMz078AAAAAAADgvwAAAAAAAOC/mpmZmZmZ+b8zMzMzMzPTP5qZmZmZmfm/AAAAAAAA4L9mZmZmZmbmv83MzMzMzOy/MzMzMzMz4z+amZmZmZnJvzMzMzMzM9O/AAAAAAAAAEAzMzMzMzPjP2ZmZmZmZua/AAAAAAAA4L8AAAAAAAAAQM3MzMzMzOw/MzMzMzMz478AAAAAAADgvzMzMzMzM9O/AAAAAAAA4L+amZmZmZnJv83MzMzMzOw/mpmZmZmZ2b8zMzMzMzPTvzMzMzMzM+O/MzMzMzMz4z/NzMzMzMzsP5qZmZmZmcm/AAAAAAAAAEAAAAAAAADgvzMzMzMzM/s/MzMzMzMz8z8zMzMzMzPjvzMzMzMzM/O/mpmZmZmZyT/NzMzMzMz0v5qZmZmZmdm/AAAAAAAA4L+amZmZmZnJv5qZmZmZmbm/MzMzMzMz879mZmZmZmYCQJqZmZmZmck/ZmZmZmZm5r9mZmZmZmbmvwAAAAAAAOC/MzMzMzMz079mZmZmZmYCQDMzMzMzM+O/ZmZmZmZm5r+amZmZmZnZv5qZmZmZmdm/AAAAAAAA4L8zMzMzMzPjPzMzMzMzM+M/mpmZmZmZyb+amZmZmZnZv5qZmZmZmcm/zczMzMzM7L9mZmZmZmbmv5qZmZmZmcm/mpmZmZmZuT8AAAAAAADgv5qZmZmZmem/mpmZmZmZub/NzMzMzMz0v5qZmZmZmdm/mpmZmZmZyb8AAAAAAADwv5qZmZmZmcm/MzMzMzMz0z8zMzMzMzPTvwAAAAAAAABAmpmZmZmZuT+amZmZmZnZv5qZmZmZmem/mpmZmZmZ6b8zMzMzMzPTvwAAAAAAAPh/mpmZmZmZ2b+amZmZmZnZv5qZmZmZmcm/mpmZmZmZuT8zMzMzMzPTvzMzMzMzM9M/mpmZmZmZuT+amZmZmZm5P5qZmZmZmcm/mpmZmZmZyb+amZmZmZnJv5qZmZmZmdm/MzMzMzMz07+amZmZmZkBQAAAAAAAAPA/mpmZmZmZyb8zMzMzMzPTvwAAAAAAAOC/zczMzMzM9L9mZmZmZmbmv5qZmZmZmdm/mpmZmZmZ2T+amZmZmZnZv5qZmZmZmdm/mpmZmZmZ2b+amZmZmZnZv5qZmZmZmdk/AAAAAAAA4L+amZmZmZnZv5qZmZmZmcm/mpmZmZmZ2b8AAAAAAAAAADMzMzMzM9M/MzMzMzMz0z8zMzMzMzPjv2ZmZmZmZua/mpmZmZmZub8zMzMzMzPjv83MzMzMzOy/mpmZmZmZ2b8zMzMzMzPTv5qZmZmZmdm/MzMzMzMz4z+amZmZmZnZvzMzMzMzM+M/MzMzMzMz0z+amZmZmZm5PzMzMzMzM/O/ZmZmZmZm5r+amZmZmZnJv5qZmZmZmQFAmpmZmZmZyb8AAAAAAADgvzMzMzMzM9O/zczMzMzM7D9mZmZmZmbmv5qZmZmZmdm/ZmZmZmZm9r/NzMzMzMz0v2ZmZmZmZua/AAAAAAAA4L+amZmZmZnZv5qZmZmZmck/zczMzMzM9L8zMzMzMzPjvzMzMzMzM9O/zczMzMzM7L8AAAAAAAAAQDMzMzMzM9O/MzMzMzMz47/NzMzMzMzsPzMzMzMzM9O/MzMzMzMz8z+amZmZmZnZvzMzMzMzM+O/MzMzMzMz8z8zMzMzMzPjP5qZmZmZmck/mpmZmZmZ2b8zMzMzMzPTPzMzMzMzM9M/MzMzMzMz47+amZmZmZnJPzMzMzMzM+O/MzMzMzMz8z8zMzMzMzPTvzMzMzMzM/s/AAAAAAAA4L+amZmZmZnpv2ZmZmZmZuY/MzMzMzMz479mZmZmZmb2v2ZmZmZmZuY/MzMzMzMz0z+amZmZmZm5vzMzMzMzM9O/ZmZmZmZm5r/NzMzMzMzsvzMzMzMzM9M/mpmZmZmZuT8zMzMzMzPTvwAAAAAAAOC/MzMzMzMz078AAAAAAADgPzMzMzMzM9M/MzMzMzMz878zMzMzMzPzv5qZmZmZmbm/ZmZmZmZm5j8zMzMzMzPzvzMzMzMzM+M/MzMzMzMz878AAAAAAAAAAJqZmZmZmdm/ZmZmZmZm5r8AAAAAAADgPzMzMzMzM+M/mpmZmZmZub+amZmZmZm5vwAAAAAAAOC/mpmZmZmZ2T+amZmZmZnZvzMzMzMzM9O/mpmZmZmZ2b8AAAAAAADgPzMzMzMzM9O/MzMzMzMz078AAAAAAAAAAJqZmZmZmdm/MzMzMzMz0z8zMzMzMzPTP2ZmZmZmZua/mpmZmZmZ2b8AAAAAAADgP5qZmZmZmcm/mpmZmZmZyb+amZmZmZnxP83MzMzMzPQ/AAAAAAAAAAAzMzMzMzPTPwAAAAAAAOC/AAAAAAAA4D8zMzMzMzPTvzMzMzMzM9M/mpmZmZmZub8AAAAAAAAAAM3MzMzMzPS/MzMzMzMz07+amZmZmZnxP5qZmZmZmek/ZmZmZmZm5r+amZmZmZnJv83MzMzMzPS/mpmZmZmZyT+amZmZmZnJPzMzMzMzM+M/mpmZmZmZuT8AAAAAAADgP83MzMzMzPQ/mpmZmZmZub+amZmZmZnJP83MzMzMzPS/ZmZmZmZm5r9mZmZmZmbmPwAAAAAAAAAAMzMzMzMz07+amZmZmZnJv2ZmZmZmZuY/MzMzMzMz4z+amZmZmZnJv83MzMzMzPS/zczMzMzM9L9mZmZmZmbmPzMzMzMzM9O/ZmZmZmZm5j8AAAAAAADgv2ZmZmZmZuY/ZmZmZmZm5j+amZmZmZnJv2ZmZmZmZuY/MzMzMzMz4z+amZmZmZm5vzMzMzMzM+M/ZmZmZmZm5j9mZmZmZmbmv83MzMzMzPS/MzMzMzMz0z/NzMzMzMzsv2ZmZmZmZua/AAAAAAAAAAAAAAAAAAAAQAAAAAAAAOC/mpmZmZmZyb9mZmZmZmb2v5qZmZmZmbk/AAAAAAAAAAAzMzMzMzPTvwAAAAAAAAAAmpmZmZmZub+amZmZmZnJv5qZmZmZmdm/AAAAAAAA4D+amZmZmZnZv2ZmZmZmZua/ZmZmZmZm9r8zMzMzMzPTvzMzMzMzM/s/AAAAAAAA8L8zMzMzMzPzP2ZmZmZmZva/MzMzMzMz078zMzMzMzPjvwAAAAAAAPC/mpmZmZmZ8T8AAAAAAADwP2ZmZmZmZva/zczMzMzM7D8zMzMzMzPTv83MzMzMzOw/mpmZmZmZyb+amZmZmZnJP83MzMzMzPS/zczMzMzM7D+amZmZmZnZv83MzMzMzPS/ZmZmZmZm5j8AAAAAAADgv83MzMzMzPQ/ZmZmZmZm5j8AAAAAAADwPwAAAAAAAOC/AAAAAAAA8D8AAAAAAADwP2ZmZmZmZuY/mpmZmZmZyb8zMzMzMzPTvzMzMzMzM9O/zczMzMzM7D8zMzMzMzPTv5qZmZmZmdm/AAAAAAAAAAAzMzMzMzPjv2ZmZmZmZuY/zczMzMzM9D8zMzMzMzPTv5qZmZmZmdm/mpmZmZmZ6T8zMzMzMzPjPzMzMzMzM9O/mpmZmZmZ8T+amZmZmZnJvwAAAAAAAABAMzMzMzMz47/NzMzMzMzsv5qZmZmZmbk/MzMzMzMz8z8AAAAAAADwv5qZmZmZmcm/AAAAAAAA8L9mZmZmZmYCQAAAAAAAAAAAMzMzMzMz0z+amZmZmZm5v5qZmZmZmdm/mpmZmZmZub+amZmZmZnJvzMzMzMzM+O/AAAAAAAA8D+amZmZmZm5vzMzMzMzM/M/ZmZmZmZm5r9mZmZmZmb2v2ZmZmZmZua/MzMzMzMz8z+amZmZmZnJvwAAAAAAAPi/MzMzMzMz0z+amZmZmZnZv2ZmZmZmZva/MzMzMzMz079mZmZmZmb2v83MzMzMzOw/AAAAAAAA4D/NzMzMzMz0PwAAAAAAAAAAZmZmZmZm5j9mZmZmZmbmP83MzMzMzPQ/mpmZmZmZ2b9mZmZmZmbmvzMzMzMzM9M/MzMzMzMz0z+amZmZmZm5vzMzMzMzM9M/zczMzMzM7D8zMzMzMzPzP5qZmZmZmcm/zczMzMzM9L9mZmZmZmYCQDMzMzMzM+M/AAAAAAAA4L+amZmZmZm5v83MzMzMzPQ/mpmZmZmZ2b/NzMzMzMzsP83MzMzMzOy/mpmZmZmZ2b8AAAAAAADgP5qZmZmZmdk/MzMzMzMz879mZmZmZmbmv5qZmZmZmbm/MzMzMzMz479mZmZmZmbmv5qZmZmZmbk/mpmZmZmZub+amZmZmZm5P5qZmZmZmfE/mpmZmZmZyb+amZmZmZn5PwAAAAAAAABAmpmZmZmZuT8zMzMzMzPzPzMzMzMzM9M/AAAAAAAAAABmZmZmZmbmvzMzMzMzM+M/mpmZmZmZub8zMzMzMzPTv2ZmZmZmZva/mpmZmZmZ2b9mZmZmZmb2vzMzMzMzM9O/mpmZmZmZ2b8AAAAAAADwvwAAAAAAAPi/AAAAAAAA4D8AAAAAAADwPzMzMzMzM9O/MzMzMzMz07+amZmZmZnJv5qZmZmZmdm/ZmZmZmZm5r9mZmZmZmb2vzMzMzMzM/M/ZmZmZmZm5r8AAAAAAAD4v5qZmZmZmcm/mpmZmZmZub+amZmZmZnJP5qZmZmZmfG/zczMzMzM7L8AAAAAAAAAQDMzMzMzM9M/mpmZmZmZyb/NzMzMzMzsv5qZmZmZmcm/mpmZmZmZ8b+amZmZmZnxvzMzMzMzM9M/ZmZmZmZm5r+amZmZmZnZv5qZmZmZmfG/ZmZmZmZm5r+amZmZmZm5v5qZmZmZmbm/MzMzMzMz0z8AAAAAAADgv2ZmZmZmZua/mpmZmZmZ8T+amZmZmZnZP5qZmZmZmbm/mpmZmZmZ8b9mZmZmZmYCQJqZmZmZmek/ZmZmZmZm9r8zMzMzMzPTv5qZmZmZmdm/AAAAAAAA4D9mZmZmZmbmP83MzMzMzPQ/zczMzMzM7L8zMzMzMzPjv5qZmZmZmdm/zczMzMzM9L8AAAAAAADgvwAAAAAAAOA/ZmZmZmZm9r8zMzMzMzPTPwAAAAAAAOA/MzMzMzMz07+amZmZmZnZv5qZmZmZmdk/MzMzMzMz078zMzMzMzPTPzMzMzMzM+O/mpmZmZmZyb9mZmZmZmbmvwAAAAAAAPC/ZmZmZmZm5r+amZmZmZnZvzMzMzMzM9O/MzMzMzMz0z8zMzMzMzPTvwAAAAAAAOC/mpmZmZmZyb8AAAAAAADgvzMzMzMzM/M/mpmZmZmZub+amZmZmZnZvzMzMzMzM+O/MzMzMzMz078AAAAAAADgv5qZmZmZmfE/MzMzMzMz07+amZmZmZm5P5qZmZmZmbm/mpmZmZmZyb+amZmZmZnJvzMzMzMzM9O/mpmZmZmZuT+amZmZmZkBQAAAAAAAAOC/MzMzMzMz078zMzMzMzPjvzMzMzMzM9O/mpmZmZmZyb8AAAAAAADgPzMzMzMzM/M/MzMzMzMz0z8AAAAAAAD4f83MzMzMzOy/mpmZmZmZ2b/NzMzMzMz0vzMzMzMzM9M/MzMzMzMz07+amZmZmZnZv5qZmZmZmdm/zczMzMzM7L/NzMzMzMzsv5qZmZmZmbm/mpmZmZmZub+amZmZmZnZvzMzMzMzM9M/MzMzMzMz87+amZmZmZnZvwAAAAAAAOC/zczMzMzM9L8zMzMzMzPTv5qZmZmZmfE/mpmZmZmZuT+amZmZmZm5PzMzMzMzM+O/mpmZmZmZuT9mZmZmZmb2vwAAAAAAAPC/MzMzMzMz47+amZmZmZnJv5qZmZmZmbm/MzMzMzMz878AAAAAAADgvzMzMzMzM9M/zczMzMzM7D/NzMzMzMzsPwAAAAAAAPC/mpmZmZmZ2b8zMzMzMzPTv5qZmZmZmcm/ZmZmZmZm9r+amZmZmZm5v5qZmZmZmdm/mpmZmZmZ8b8zMzMzMzPTv5qZmZmZmdm/mpmZmZmZ2b+amZmZmZnZvzMzMzMzM9O/mpmZmZmZyb8zMzMzMzPTP5qZmZmZmbk/mpmZmZmZ2b8AAAAAAADgvzMzMzMzM9O/MzMzMzMz078zMzMzMzPTv5qZmZmZmdm/MzMzMzMz0z9mZmZmZmbmPzMzMzMzM9M/ZmZmZmZm5j+amZmZmZnZvzMzMzMzM9O/ZmZmZmZm5r8AAAAAAADgP83MzMzMzOw/ZmZmZmZm5r8zMzMzMzPjPwAAAAAAAOC/mpmZmZmZ2T8AAAAAAADgv2ZmZmZmZuY/MzMzMzMz07+amZmZmZnZv5qZmZmZmdm/MzMzMzMz078zMzMzMzPjv5qZmZmZmdk/mpmZmZmZyb8zMzMzMzPTv2ZmZmZmZua/mpmZmZmZ2b8zMzMzMzPTv5qZmZmZmem/mpmZmZmZyb/NzMzMzMzsv5qZmZmZmem/zczMzMzM7D8zMzMzMzPzP5qZmZmZmbk/ZmZmZmZm5r+amZmZmZnZv2ZmZmZmZgJAZmZmZmZm5r+amZmZmZnJvzMzMzMzM9O/MzMzMzMz47/NzMzMzMz0PzMzMzMzM+O/MzMzMzMz8z/NzMzMzMz0v2ZmZmZmZgJAMzMzMzMz078zMzMzMzPTP5qZmZmZmQFAMzMzMzMz47+amZmZmZnJvzMzMzMzM+O/mpmZmZmZyb8zMzMzMzPTvzMzMzMzM9O/MzMzMzMz0z+amZmZmZkBQGZmZmZmZgJAZmZmZmZm5r+amZmZmZnZv83MzMzMzPS/mpmZmZmZub8zMzMzMzPjv83MzMzMzPS/mpmZmZmZ2b+amZmZmZnZv5qZmZmZmdm/mpmZmZmZ2b8zMzMzMzPTPzMzMzMzM9M/MzMzMzMz4z+amZmZmZn5PzMzMzMzM9O/MzMzMzMz078zMzMzMzPTPzMzMzMzM9O/mpmZmZmZ2b+amZmZmZm5P83MzMzMzPS/MzMzMzMz078zMzMzMzPjv5qZmZmZmbm/MzMzMzMz079mZmZmZmYCQDMzMzMzM9O/MzMzMzMz479mZmZmZmbmv2ZmZmZmZua/zczMzMzM9L9mZmZmZmb2v5qZmZmZmfG/MzMzMzMz07+amZmZmZnJvwAAAAAAAOA/mpmZmZmZ2b8zMzMzMzPTP5qZmZmZmbm/MzMzMzMz0z+amZmZmZm5PwAAAAAAAOC/MzMzMzMz079mZmZmZmbmvzMzMzMzM9M/mpmZmZmZ2b+amZmZmZnZv5qZmZmZmcm/mpmZmZmZub+amZmZmZnZv2ZmZmZmZua/AAAAAAAA8L+amZmZmZm5P83MzMzMzPS/mpmZmZmZyb9mZmZmZmYCQJqZmZmZmdm/MzMzMzMz0z+amZmZmZn5P2ZmZmZmZua/mpmZmZmZyb+amZmZmZnJv5qZmZmZmck/zczMzMzM7L8AAAAAAADgPzMzMzMzM9O/AAAAAAAA4D+amZmZmZn5PzMzMzMzM9M/mpmZmZmZ2b8zMzMzMzPjv5qZmZmZmbm/MzMzMzMz0z9mZmZmZmbmPwAAAAAAAOC/AAAAAAAA+H8zMzMzMzPjP2ZmZmZmZgJAZmZmZmZm5j/NzMzMzMz0v2ZmZmZmZgJAMzMzMzMz078AAAAAAADwP2ZmZmZmZuY/ZmZmZmZm5r+amZmZmZnZv2ZmZmZmZuY/AAAAAAAAAABmZmZmZmbmPzMzMzMzM9O/zczMzMzM7L8zMzMzMzPTP83MzMzMzPS/mpmZmZmZub8zMzMzMzPTv5qZmZmZmfk/mpmZmZmZ+T8zMzMzMzPTv83MzMzMzOy/AAAAAAAA+H8AAAAAAADgPwAAAAAAAOA/AAAAAAAA+H8=",
          "dtype": "f8"
         },
         "xaxis": "x",
         "y": {
          "bdata": "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",
          "dtype": "f8"
         },
         "yaxis": "y"
        }
       ],
       "layout": {
        "legend": {
         "tracegroupgap": 0
        },
        "template": {
         "data": {
          "bar": [
           {
            "error_x": {
             "color": "#2a3f5f"
            },
            "error_y": {
             "color": "#2a3f5f"
            },
            "marker": {
             "line": {
              "color": "#E5ECF6",
              "width": 0.5
             },
             "pattern": {
              "fillmode": "overlay",
              "size": 10,
              "solidity": 0.2
             }
            },
            "type": "bar"
           }
          ],
          "barpolar": [
           {
            "marker": {
             "line": {
              "color": "#E5ECF6",
              "width": 0.5
             },
             "pattern": {
              "fillmode": "overlay",
              "size": 10,
              "solidity": 0.2
             }
            },
            "type": "barpolar"
           }
          ],
          "carpet": [
           {
            "aaxis": {
             "endlinecolor": "#2a3f5f",
             "gridcolor": "white",
             "linecolor": "white",
             "minorgridcolor": "white",
             "startlinecolor": "#2a3f5f"
            },
            "baxis": {
             "endlinecolor": "#2a3f5f",
             "gridcolor": "white",
             "linecolor": "white",
             "minorgridcolor": "white",
             "startlinecolor": "#2a3f5f"
            },
            "type": "carpet"
           }
          ],
          "choropleth": [
           {
            "colorbar": {
             "outlinewidth": 0,
             "ticks": ""
            },
            "type": "choropleth"
           }
          ],
          "contour": [
           {
            "colorbar": {
             "outlinewidth": 0,
             "ticks": ""
            },
            "colorscale": [
             [
              0,
              "#0d0887"
             ],
             [
              0.1111111111111111,
              "#46039f"
             ],
             [
              0.2222222222222222,
              "#7201a8"
             ],
             [
              0.3333333333333333,
              "#9c179e"
             ],
             [
              0.4444444444444444,
              "#bd3786"
             ],
             [
              0.5555555555555556,
              "#d8576b"
             ],
             [
              0.6666666666666666,
              "#ed7953"
             ],
             [
              0.7777777777777778,
              "#fb9f3a"
             ],
             [
              0.8888888888888888,
              "#fdca26"
             ],
             [
              1,
              "#f0f921"
             ]
            ],
            "type": "contour"
           }
          ],
          "contourcarpet": [
           {
            "colorbar": {
             "outlinewidth": 0,
             "ticks": ""
            },
            "type": "contourcarpet"
           }
          ],
          "heatmap": [
           {
            "colorbar": {
             "outlinewidth": 0,
             "ticks": ""
            },
            "colorscale": [
             [
              0,
              "#0d0887"
             ],
             [
              0.1111111111111111,
              "#46039f"
             ],
             [
              0.2222222222222222,
              "#7201a8"
             ],
             [
              0.3333333333333333,
              "#9c179e"
             ],
             [
              0.4444444444444444,
              "#bd3786"
             ],
             [
              0.5555555555555556,
              "#d8576b"
             ],
             [
              0.6666666666666666,
              "#ed7953"
             ],
             [
              0.7777777777777778,
              "#fb9f3a"
             ],
             [
              0.8888888888888888,
              "#fdca26"
             ],
             [
              1,
              "#f0f921"
             ]
            ],
            "type": "heatmap"
           }
          ],
          "histogram": [
           {
            "marker": {
             "pattern": {
              "fillmode": "overlay",
              "size": 10,
              "solidity": 0.2
             }
            },
            "type": "histogram"
           }
          ],
          "histogram2d": [
           {
            "colorbar": {
             "outlinewidth": 0,
             "ticks": ""
            },
            "colorscale": [
             [
              0,
              "#0d0887"
             ],
             [
              0.1111111111111111,
              "#46039f"
             ],
             [
              0.2222222222222222,
              "#7201a8"
             ],
             [
              0.3333333333333333,
              "#9c179e"
             ],
             [
              0.4444444444444444,
              "#bd3786"
             ],
             [
              0.5555555555555556,
              "#d8576b"
             ],
             [
              0.6666666666666666,
              "#ed7953"
             ],
             [
              0.7777777777777778,
              "#fb9f3a"
             ],
             [
              0.8888888888888888,
              "#fdca26"
             ],
             [
              1,
              "#f0f921"
             ]
            ],
            "type": "histogram2d"
           }
          ],
          "histogram2dcontour": [
           {
            "colorbar": {
             "outlinewidth": 0,
             "ticks": ""
            },
            "colorscale": [
             [
              0,
              "#0d0887"
             ],
             [
              0.1111111111111111,
              "#46039f"
             ],
             [
              0.2222222222222222,
              "#7201a8"
             ],
             [
              0.3333333333333333,
              "#9c179e"
             ],
             [
              0.4444444444444444,
              "#bd3786"
             ],
             [
              0.5555555555555556,
              "#d8576b"
             ],
             [
              0.6666666666666666,
              "#ed7953"
             ],
             [
              0.7777777777777778,
              "#fb9f3a"
             ],
             [
              0.8888888888888888,
              "#fdca26"
             ],
             [
              1,
              "#f0f921"
             ]
            ],
            "type": "histogram2dcontour"
           }
          ],
          "mesh3d": [
           {
            "colorbar": {
             "outlinewidth": 0,
             "ticks": ""
            },
            "type": "mesh3d"
           }
          ],
          "parcoords": [
           {
            "line": {
             "colorbar": {
              "outlinewidth": 0,
              "ticks": ""
             }
            },
            "type": "parcoords"
           }
          ],
          "pie": [
           {
            "automargin": true,
            "type": "pie"
           }
          ],
          "scatter": [
           {
            "fillpattern": {
             "fillmode": "overlay",
             "size": 10,
             "solidity": 0.2
            },
            "type": "scatter"
           }
          ],
          "scatter3d": [
           {
            "line": {
             "colorbar": {
              "outlinewidth": 0,
              "ticks": ""
             }
            },
            "marker": {
             "colorbar": {
              "outlinewidth": 0,
              "ticks": ""
             }
            },
            "type": "scatter3d"
           }
          ],
          "scattercarpet": [
           {
            "marker": {
             "colorbar": {
              "outlinewidth": 0,
              "ticks": ""
             }
            },
            "type": "scattercarpet"
           }
          ],
          "scattergeo": [
           {
            "marker": {
             "colorbar": {
              "outlinewidth": 0,
              "ticks": ""
             }
            },
            "type": "scattergeo"
           }
          ],
          "scattergl": [
           {
            "marker": {
             "colorbar": {
              "outlinewidth": 0,
              "ticks": ""
             }
            },
            "type": "scattergl"
           }
          ],
          "scattermap": [
           {
            "marker": {
             "colorbar": {
              "outlinewidth": 0,
              "ticks": ""
             }
            },
            "type": "scattermap"
           }
          ],
          "scattermapbox": [
           {
            "marker": {
             "colorbar": {
              "outlinewidth": 0,
              "ticks": ""
             }
            },
            "type": "scattermapbox"
           }
          ],
          "scatterpolar": [
           {
            "marker": {
             "colorbar": {
              "outlinewidth": 0,
              "ticks": ""
             }
            },
            "type": "scatterpolar"
           }
          ],
          "scatterpolargl": [
           {
            "marker": {
             "colorbar": {
              "outlinewidth": 0,
              "ticks": ""
             }
            },
            "type": "scatterpolargl"
           }
          ],
          "scatterternary": [
           {
            "marker": {
             "colorbar": {
              "outlinewidth": 0,
              "ticks": ""
             }
            },
            "type": "scatterternary"
           }
          ],
          "surface": [
           {
            "colorbar": {
             "outlinewidth": 0,
             "ticks": ""
            },
            "colorscale": [
             [
              0,
              "#0d0887"
             ],
             [
              0.1111111111111111,
              "#46039f"
             ],
             [
              0.2222222222222222,
              "#7201a8"
             ],
             [
              0.3333333333333333,
              "#9c179e"
             ],
             [
              0.4444444444444444,
              "#bd3786"
             ],
             [
              0.5555555555555556,
              "#d8576b"
             ],
             [
              0.6666666666666666,
              "#ed7953"
             ],
             [
              0.7777777777777778,
              "#fb9f3a"
             ],
             [
              0.8888888888888888,
              "#fdca26"
             ],
             [
              1,
              "#f0f921"
             ]
            ],
            "type": "surface"
           }
          ],
          "table": [
           {
            "cells": {
             "fill": {
              "color": "#EBF0F8"
             },
             "line": {
              "color": "white"
             }
            },
            "header": {
             "fill": {
              "color": "#C8D4E3"
             },
             "line": {
              "color": "white"
             }
            },
            "type": "table"
           }
          ]
         },
         "layout": {
          "annotationdefaults": {
           "arrowcolor": "#2a3f5f",
           "arrowhead": 0,
           "arrowwidth": 1
          },
          "autotypenumbers": "strict",
          "coloraxis": {
           "colorbar": {
            "outlinewidth": 0,
            "ticks": ""
           }
          },
          "colorscale": {
           "diverging": [
            [
             0,
             "#8e0152"
            ],
            [
             0.1,
             "#c51b7d"
            ],
            [
             0.2,
             "#de77ae"
            ],
            [
             0.3,
             "#f1b6da"
            ],
            [
             0.4,
             "#fde0ef"
            ],
            [
             0.5,
             "#f7f7f7"
            ],
            [
             0.6,
             "#e6f5d0"
            ],
            [
             0.7,
             "#b8e186"
            ],
            [
             0.8,
             "#7fbc41"
            ],
            [
             0.9,
             "#4d9221"
            ],
            [
             1,
             "#276419"
            ]
           ],
           "sequential": [
            [
             0,
             "#0d0887"
            ],
            [
             0.1111111111111111,
             "#46039f"
            ],
            [
             0.2222222222222222,
             "#7201a8"
            ],
            [
             0.3333333333333333,
             "#9c179e"
            ],
            [
             0.4444444444444444,
             "#bd3786"
            ],
            [
             0.5555555555555556,
             "#d8576b"
            ],
            [
             0.6666666666666666,
             "#ed7953"
            ],
            [
             0.7777777777777778,
             "#fb9f3a"
            ],
            [
             0.8888888888888888,
             "#fdca26"
            ],
            [
             1,
             "#f0f921"
            ]
           ],
           "sequentialminus": [
            [
             0,
             "#0d0887"
            ],
            [
             0.1111111111111111,
             "#46039f"
            ],
            [
             0.2222222222222222,
             "#7201a8"
            ],
            [
             0.3333333333333333,
             "#9c179e"
            ],
            [
             0.4444444444444444,
             "#bd3786"
            ],
            [
             0.5555555555555556,
             "#d8576b"
            ],
            [
             0.6666666666666666,
             "#ed7953"
            ],
            [
             0.7777777777777778,
             "#fb9f3a"
            ],
            [
             0.8888888888888888,
             "#fdca26"
            ],
            [
             1,
             "#f0f921"
            ]
           ]
          },
          "colorway": [
           "#636efa",
           "#EF553B",
           "#00cc96",
           "#ab63fa",
           "#FFA15A",
           "#19d3f3",
           "#FF6692",
           "#B6E880",
           "#FF97FF",
           "#FECB52"
          ],
          "font": {
           "color": "#2a3f5f"
          },
          "geo": {
           "bgcolor": "white",
           "lakecolor": "white",
           "landcolor": "#E5ECF6",
           "showlakes": true,
           "showland": true,
           "subunitcolor": "white"
          },
          "hoverlabel": {
           "align": "left"
          },
          "hovermode": "closest",
          "mapbox": {
           "style": "light"
          },
          "paper_bgcolor": "white",
          "plot_bgcolor": "#E5ECF6",
          "polar": {
           "angularaxis": {
            "gridcolor": "white",
            "linecolor": "white",
            "ticks": ""
           },
           "bgcolor": "#E5ECF6",
           "radialaxis": {
            "gridcolor": "white",
            "linecolor": "white",
            "ticks": ""
           }
          },
          "scene": {
           "xaxis": {
            "backgroundcolor": "#E5ECF6",
            "gridcolor": "white",
            "gridwidth": 2,
            "linecolor": "white",
            "showbackground": true,
            "ticks": "",
            "zerolinecolor": "white"
           },
           "yaxis": {
            "backgroundcolor": "#E5ECF6",
            "gridcolor": "white",
            "gridwidth": 2,
            "linecolor": "white",
            "showbackground": true,
            "ticks": "",
            "zerolinecolor": "white"
           },
           "zaxis": {
            "backgroundcolor": "#E5ECF6",
            "gridcolor": "white",
            "gridwidth": 2,
            "linecolor": "white",
            "showbackground": true,
            "ticks": "",
            "zerolinecolor": "white"
           }
          },
          "shapedefaults": {
           "line": {
            "color": "#2a3f5f"
           }
          },
          "ternary": {
           "aaxis": {
            "gridcolor": "white",
            "linecolor": "white",
            "ticks": ""
           },
           "baxis": {
            "gridcolor": "white",
            "linecolor": "white",
            "ticks": ""
           },
           "bgcolor": "#E5ECF6",
           "caxis": {
            "gridcolor": "white",
            "linecolor": "white",
            "ticks": ""
           }
          },
          "title": {
           "x": 0.05
          },
          "xaxis": {
           "automargin": true,
           "gridcolor": "white",
           "linecolor": "white",
           "ticks": "",
           "title": {
            "standoff": 15
           },
           "zerolinecolor": "white",
           "zerolinewidth": 2
          },
          "yaxis": {
           "automargin": true,
           "gridcolor": "white",
           "linecolor": "white",
           "ticks": "",
           "title": {
            "standoff": 15
           },
           "zerolinecolor": "white",
           "zerolinewidth": 2
          }
         }
        },
        "title": {
         "text": "Scatter Plot: ANOMALYLLYRL vs. OUTAGE DURATION"
        },
        "xaxis": {
         "anchor": "y",
         "domain": [
          0,
          1
         ],
         "title": {
          "text": "Anomaly Level"
         }
        },
        "yaxis": {
         "anchor": "x",
         "domain": [
          0,
          1
         ],
         "title": {
          "text": "Outage Duration (hours)"
         }
        }
       }
      }
     },
     "metadata": {},
     "output_type": "display_data"
    },
    {
     "data": {
      "application/vnd.plotly.v1+json": {
       "config": {
        "plotlyServerURL": "https://plot.ly"
       },
       "data": [
        {
         "alignmentgroup": "True",
         "hovertemplate": "Cause Category=%{x}<br>Outage Duration (hours)=%{y}<extra></extra>",
         "legendgroup": "",
         "marker": {
          "color": "#636efa"
         },
         "name": "",
         "notched": false,
         "offsetgroup": "",
         "orientation": "v",
         "showlegend": false,
         "type": "box",
         "x": [
          "severe weather",
          "intentional attack",
          "severe weather",
          "severe weather",
          "severe weather",
          "severe weather",
          "severe weather",
          "severe weather",
          "intentional attack",
          "severe weather",
          "severe weather",
          "severe weather",
          "intentional attack",
          "intentional attack",
          "severe weather",
          "system operability disruption",
          "intentional attack",
          "system operability disruption",
          "severe weather",
          "severe weather",
          "severe weather",
          "severe weather",
          "intentional attack",
          "intentional attack",
          "severe weather",
          "equipment failure",
          "severe weather",
          "severe weather",
          "severe weather",
          "public appeal",
          "intentional attack",
          "severe weather",
          "intentional attack",
          "severe weather",
          "severe weather",
          "severe weather",
          "system operability disruption",
          "severe weather",
          "intentional attack",
          "severe weather",
          "severe weather",
          "severe weather",
          "severe weather",
          "severe weather",
          "equipment failure",
          "intentional attack",
          "severe weather",
          "intentional attack",
          "severe weather",
          "fuel supply emergency",
          "intentional attack",
          "severe weather",
          "severe weather",
          "fuel supply emergency",
          "fuel supply emergency",
          "severe weather",
          "intentional attack",
          "intentional attack",
          "severe weather",
          "public appeal",
          "severe weather",
          "intentional attack",
          "intentional attack",
          "fuel supply emergency",
          "severe weather",
          "fuel supply emergency",
          "intentional attack",
          "severe weather",
          "intentional attack",
          "intentional attack",
          "severe weather",
          "severe weather",
          "severe weather",
          "severe weather",
          "severe weather",
          "severe weather",
          "public appeal",
          "severe weather",
          "severe weather",
          "system operability disruption",
          "severe weather",
          "system operability disruption",
          "severe weather",
          "severe weather",
          "severe weather",
          "severe weather",
          "severe weather",
          "severe weather",
          "severe weather",
          "severe weather",
          "severe weather",
          "severe weather",
          "severe weather",
          "severe weather",
          "severe weather",
          "severe weather",
          "severe weather",
          "intentional attack",
          "severe weather",
          "severe weather",
          "severe weather",
          "severe weather",
          "severe weather",
          "severe weather",
          "severe weather",
          "severe weather",
          "severe weather",
          "severe weather",
          "equipment failure",
          "severe weather",
          "severe weather",
          "severe weather",
          "severe weather",
          "severe weather",
          "severe weather",
          "intentional attack",
          "severe weather",
          "severe weather",
          "severe weather",
          "severe weather",
          "equipment failure",
          "severe weather",
          "severe weather",
          "severe weather",
          "islanding",
          "severe weather",
          "severe weather",
          "severe weather",
          "system operability disruption",
          "equipment failure",
          "severe weather",
          "severe weather",
          "severe weather",
          "severe weather",
          "severe weather",
          "severe weather",
          "severe weather",
          "severe weather",
          "severe weather",
          "severe weather",
          "severe weather",
          "severe weather",
          "severe weather",
          "severe weather",
          "intentional attack",
          "severe weather",
          "severe weather",
          "severe weather",
          "severe weather",
          "severe weather",
          "severe weather",
          "severe weather",
          "severe weather",
          "severe weather",
          "severe weather",
          "severe weather",
          "severe weather",
          "severe weather",
          "severe weather",
          "intentional attack",
          "severe weather",
          "severe weather",
          "severe weather",
          "severe weather",
          "severe weather",
          "severe weather",
          "severe weather",
          "severe weather",
          "system operability disruption",
          "severe weather",
          "system operability disruption",
          "severe weather",
          "intentional attack",
          "public appeal",
          "severe weather",
          "severe weather",
          "severe weather",
          "severe weather",
          "intentional attack",
          "system operability disruption",
          "severe weather",
          "severe weather",
          "fuel supply emergency",
          "public appeal",
          "severe weather",
          "public appeal",
          "severe weather",
          "severe weather",
          "system operability disruption",
          "severe weather",
          "severe weather",
          "system operability disruption",
          "fuel supply emergency",
          "severe weather",
          "public appeal",
          "system operability disruption",
          "system operability disruption",
          "severe weather",
          "intentional attack",
          "equipment failure",
          "equipment failure",
          "severe weather",
          "severe weather",
          "public appeal",
          "severe weather",
          "severe weather",
          "intentional attack",
          "severe weather",
          "public appeal",
          "public appeal",
          "equipment failure",
          "system operability disruption",
          "severe weather",
          "intentional attack",
          "severe weather",
          "intentional attack",
          "severe weather",
          "severe weather",
          "severe weather",
          "fuel supply emergency",
          "fuel supply emergency",
          "severe weather",
          "equipment failure",
          "severe weather",
          "severe weather",
          "severe weather",
          "system operability disruption",
          "system operability disruption",
          "severe weather",
          "severe weather",
          "system operability disruption",
          "severe weather",
          "fuel supply emergency",
          "severe weather",
          "public appeal",
          "system operability disruption",
          "system operability disruption",
          "system operability disruption",
          "severe weather",
          "equipment failure",
          "severe weather",
          "severe weather",
          "system operability disruption",
          "system operability disruption",
          "severe weather",
          "intentional attack",
          "intentional attack",
          "public appeal",
          "severe weather",
          "severe weather",
          "severe weather",
          "public appeal",
          "system operability disruption",
          "severe weather",
          "severe weather",
          "severe weather",
          "intentional attack",
          "severe weather",
          "severe weather",
          "public appeal",
          "public appeal",
          "public appeal",
          "severe weather",
          "intentional attack",
          "severe weather",
          "public appeal",
          "severe weather",
          "severe weather",
          "severe weather",
          "system operability disruption",
          "severe weather",
          "public appeal",
          "severe weather",
          "fuel supply emergency",
          "severe weather",
          "public appeal",
          "intentional attack",
          "severe weather",
          "system operability disruption",
          "severe weather",
          "equipment failure",
          "severe weather",
          "severe weather",
          "severe weather",
          "severe weather",
          "severe weather",
          "severe weather",
          "severe weather",
          "severe weather",
          "severe weather",
          "public appeal",
          "intentional attack",
          "severe weather",
          "system operability disruption",
          "intentional attack",
          "severe weather",
          "fuel supply emergency",
          "severe weather",
          "severe weather",
          "intentional attack",
          "islanding",
          "equipment failure",
          "system operability disruption",
          "severe weather",
          "islanding",
          "intentional attack",
          "severe weather",
          "system operability disruption",
          "severe weather",
          "intentional attack",
          "severe weather",
          "severe weather",
          "system operability disruption",
          "severe weather",
          "intentional attack",
          "severe weather",
          "severe weather",
          "severe weather",
          "severe weather",
          "severe weather",
          "severe weather",
          "severe weather",
          "equipment failure",
          "islanding",
          "severe weather",
          "intentional attack",
          "intentional attack",
          "intentional attack",
          "severe weather",
          "severe weather",
          "intentional attack",
          "severe weather",
          "system operability disruption",
          "severe weather",
          "severe weather",
          "severe weather",
          "system operability disruption",
          "severe weather",
          "severe weather",
          "severe weather",
          "severe weather",
          "severe weather",
          "severe weather",
          "intentional attack",
          "intentional attack",
          "system operability disruption",
          "intentional attack",
          "intentional attack",
          "intentional attack",
          "severe weather",
          "severe weather",
          "severe weather",
          "severe weather",
          "severe weather",
          "severe weather",
          "severe weather",
          "severe weather",
          "severe weather",
          "equipment failure",
          "severe weather",
          "severe weather",
          "severe weather",
          "severe weather",
          "severe weather",
          "severe weather",
          "severe weather",
          "severe weather",
          "severe weather",
          "severe weather",
          "severe weather",
          "severe weather",
          "severe weather",
          "severe weather",
          "severe weather",
          "severe weather",
          "severe weather",
          "severe weather",
          "severe weather",
          "severe weather",
          "severe weather",
          "severe weather",
          "severe weather",
          "fuel supply emergency",
          "severe weather",
          "severe weather",
          "severe weather",
          "severe weather",
          "severe weather",
          "severe weather",
          "severe weather",
          "severe weather",
          "severe weather",
          "public appeal",
          "severe weather",
          "intentional attack",
          "intentional attack",
          "intentional attack",
          "severe weather",
          "intentional attack",
          "severe weather",
          "intentional attack",
          "intentional attack",
          "intentional attack",
          "islanding",
          "intentional attack",
          "intentional attack",
          "intentional attack",
          "severe weather",
          "severe weather",
          "intentional attack",
          "intentional attack",
          "severe weather",
          "intentional attack",
          "system operability disruption",
          "severe weather",
          "severe weather",
          "intentional attack",
          "intentional attack",
          "intentional attack",
          "intentional attack",
          "intentional attack",
          "severe weather",
          "intentional attack",
          "intentional attack",
          "intentional attack",
          "intentional attack",
          "intentional attack",
          "intentional attack",
          "intentional attack",
          "severe weather",
          "severe weather",
          "intentional attack",
          "severe weather",
          "intentional attack",
          "equipment failure",
          "intentional attack",
          "intentional attack",
          "intentional attack",
          "intentional attack",
          "severe weather",
          "intentional attack",
          "intentional attack",
          "intentional attack",
          "severe weather",
          "public appeal",
          "intentional attack",
          "severe weather",
          "intentional attack",
          "intentional attack",
          "intentional attack",
          "intentional attack",
          "intentional attack",
          "intentional attack",
          "intentional attack",
          "intentional attack",
          "intentional attack",
          "intentional attack",
          "severe weather",
          "islanding",
          "intentional attack",
          "severe weather",
          "intentional attack",
          "intentional attack",
          "intentional attack",
          "severe weather",
          "intentional attack",
          "intentional attack",
          "islanding",
          "intentional attack",
          "intentional attack",
          "intentional attack",
          "islanding",
          "intentional attack",
          "intentional attack",
          "intentional attack",
          "severe weather",
          "severe weather",
          "severe weather",
          "intentional attack",
          "severe weather",
          "intentional attack",
          "intentional attack",
          "fuel supply emergency",
          "severe weather",
          "intentional attack",
          "severe weather",
          "intentional attack",
          "intentional attack",
          "severe weather",
          "intentional attack",
          "islanding",
          "system operability disruption",
          "intentional attack",
          "intentional attack",
          "intentional attack",
          "intentional attack",
          "equipment failure",
          "intentional attack",
          "intentional attack",
          "severe weather",
          "severe weather",
          "intentional attack",
          "intentional attack",
          "intentional attack",
          "severe weather",
          "intentional attack",
          "intentional attack",
          "intentional attack",
          "intentional attack",
          "intentional attack",
          "equipment failure",
          "intentional attack",
          "intentional attack",
          "severe weather",
          "intentional attack",
          "system operability disruption",
          "intentional attack",
          "equipment failure",
          "equipment failure",
          "severe weather",
          "severe weather",
          "severe weather",
          "severe weather",
          "severe weather",
          "severe weather",
          "severe weather",
          "intentional attack",
          "intentional attack",
          "intentional attack",
          "intentional attack",
          "severe weather",
          "intentional attack",
          "intentional attack",
          "severe weather",
          "intentional attack",
          "intentional attack",
          "severe weather",
          "severe weather",
          "intentional attack",
          "intentional attack",
          "severe weather",
          "severe weather",
          "intentional attack",
          "severe weather",
          "intentional attack",
          "severe weather",
          "severe weather",
          "intentional attack",
          "severe weather",
          "severe weather",
          "intentional attack",
          "intentional attack",
          "intentional attack",
          "severe weather",
          "intentional attack",
          "severe weather",
          "severe weather",
          "intentional attack",
          "severe weather",
          "intentional attack",
          "intentional attack",
          "severe weather",
          "severe weather",
          "intentional attack",
          "severe weather",
          "severe weather",
          "intentional attack",
          "intentional attack",
          "intentional attack",
          "severe weather",
          "severe weather",
          "severe weather",
          "severe weather",
          "severe weather",
          "system operability disruption",
          "severe weather",
          "intentional attack",
          "severe weather",
          "severe weather",
          "severe weather",
          "intentional attack",
          "system operability disruption",
          "severe weather",
          "severe weather",
          "severe weather",
          "severe weather",
          "severe weather",
          "severe weather",
          "severe weather",
          "severe weather",
          "severe weather",
          "severe weather",
          "severe weather",
          "intentional attack",
          "severe weather",
          "severe weather",
          "severe weather",
          "severe weather",
          "severe weather",
          "severe weather",
          "severe weather",
          "severe weather",
          "severe weather",
          "severe weather",
          "severe weather",
          "system operability disruption",
          "severe weather",
          "severe weather",
          "severe weather",
          "severe weather",
          "intentional attack",
          "severe weather",
          "severe weather",
          "severe weather",
          "severe weather",
          "severe weather",
          "severe weather",
          "severe weather",
          "equipment failure",
          "severe weather",
          "severe weather",
          "severe weather",
          "severe weather",
          "intentional attack",
          "severe weather",
          "severe weather",
          "severe weather",
          "severe weather",
          "severe weather",
          "intentional attack",
          "severe weather",
          "intentional attack",
          "severe weather",
          "severe weather",
          "fuel supply emergency",
          "severe weather",
          "severe weather",
          "severe weather",
          "equipment failure",
          "intentional attack",
          "severe weather",
          "severe weather",
          "severe weather",
          "severe weather",
          "fuel supply emergency",
          "severe weather",
          "severe weather",
          "intentional attack",
          "intentional attack",
          "intentional attack",
          "intentional attack",
          "intentional attack",
          "intentional attack",
          "intentional attack",
          "intentional attack",
          "intentional attack",
          "intentional attack",
          "system operability disruption",
          "intentional attack",
          "intentional attack",
          "intentional attack",
          "intentional attack",
          "intentional attack",
          "severe weather",
          "intentional attack",
          "intentional attack",
          "system operability disruption",
          "severe weather",
          "intentional attack",
          "intentional attack",
          "intentional attack",
          "intentional attack",
          "intentional attack",
          "intentional attack",
          "intentional attack",
          "intentional attack",
          "intentional attack",
          "intentional attack",
          "intentional attack",
          "public appeal",
          "equipment failure",
          "intentional attack",
          "intentional attack",
          "intentional attack",
          "intentional attack",
          "intentional attack",
          "intentional attack",
          "intentional attack",
          "severe weather",
          "equipment failure",
          "severe weather",
          "severe weather",
          "intentional attack",
          "intentional attack",
          "severe weather",
          "intentional attack",
          "severe weather",
          "severe weather",
          "severe weather",
          "severe weather",
          "severe weather",
          "severe weather",
          "severe weather",
          "severe weather",
          "severe weather",
          "system operability disruption",
          "intentional attack",
          "severe weather",
          "intentional attack",
          "intentional attack",
          "intentional attack",
          "severe weather",
          "severe weather",
          "severe weather",
          "intentional attack",
          "intentional attack",
          "severe weather",
          "intentional attack",
          "severe weather",
          "severe weather",
          "intentional attack",
          "severe weather",
          "severe weather",
          "intentional attack",
          "system operability disruption",
          "intentional attack",
          "severe weather",
          "severe weather",
          "severe weather",
          "severe weather",
          "intentional attack",
          "severe weather",
          "severe weather",
          "severe weather",
          "severe weather",
          "system operability disruption",
          "intentional attack",
          "severe weather",
          "severe weather",
          "severe weather",
          "severe weather",
          "severe weather",
          "severe weather",
          "severe weather",
          "severe weather",
          "severe weather",
          "severe weather",
          "system operability disruption",
          "intentional attack",
          "severe weather",
          "severe weather",
          "severe weather",
          "severe weather",
          "severe weather",
          "system operability disruption",
          "system operability disruption",
          "severe weather",
          "severe weather",
          "severe weather",
          "severe weather",
          "intentional attack",
          "severe weather",
          "intentional attack",
          "severe weather",
          "severe weather",
          "severe weather",
          "severe weather",
          "severe weather",
          "severe weather",
          "system operability disruption",
          "severe weather",
          "intentional attack",
          "system operability disruption",
          "severe weather",
          "severe weather",
          "intentional attack",
          "severe weather",
          "severe weather",
          "intentional attack",
          "severe weather",
          "severe weather",
          "severe weather",
          "system operability disruption",
          "intentional attack",
          "severe weather",
          "severe weather",
          "severe weather",
          "intentional attack",
          "severe weather",
          "severe weather",
          "intentional attack",
          "intentional attack",
          "severe weather",
          "intentional attack",
          "intentional attack",
          "severe weather",
          "severe weather",
          "intentional attack",
          "severe weather",
          "severe weather",
          "severe weather",
          "severe weather",
          "severe weather",
          "severe weather",
          "severe weather",
          "severe weather",
          "severe weather",
          "severe weather",
          "severe weather",
          "severe weather",
          "severe weather",
          "severe weather",
          "severe weather",
          "severe weather",
          "severe weather",
          "intentional attack",
          "severe weather",
          "intentional attack",
          "intentional attack",
          "intentional attack",
          "intentional attack",
          "equipment failure",
          "intentional attack",
          "intentional attack",
          "severe weather",
          "intentional attack",
          "intentional attack",
          "intentional attack",
          "intentional attack",
          "intentional attack",
          "severe weather",
          "intentional attack",
          "intentional attack",
          "intentional attack",
          "intentional attack",
          "severe weather",
          "intentional attack",
          "intentional attack",
          "intentional attack",
          "intentional attack",
          "severe weather",
          "severe weather",
          "severe weather",
          "severe weather",
          "severe weather",
          "equipment failure",
          "severe weather",
          "severe weather",
          "severe weather",
          "severe weather",
          "system operability disruption",
          "severe weather",
          "severe weather",
          "severe weather",
          "intentional attack",
          "intentional attack",
          "intentional attack",
          "severe weather",
          "severe weather",
          "severe weather",
          "severe weather",
          "severe weather",
          "intentional attack",
          "intentional attack",
          "severe weather",
          "severe weather",
          "severe weather",
          "equipment failure",
          "intentional attack",
          "intentional attack",
          "intentional attack",
          "intentional attack",
          "intentional attack",
          "intentional attack",
          "intentional attack",
          "intentional attack",
          "intentional attack",
          "intentional attack",
          "intentional attack",
          "intentional attack",
          "intentional attack",
          "intentional attack",
          "intentional attack",
          "intentional attack",
          "intentional attack",
          "intentional attack",
          "intentional attack",
          "system operability disruption",
          "intentional attack",
          "intentional attack",
          "intentional attack",
          "intentional attack",
          "intentional attack",
          "intentional attack",
          "intentional attack",
          "intentional attack",
          "intentional attack",
          "intentional attack",
          "intentional attack",
          "intentional attack",
          "intentional attack",
          "intentional attack",
          "severe weather",
          "intentional attack",
          "intentional attack",
          "severe weather",
          "intentional attack",
          "intentional attack",
          "intentional attack",
          "severe weather",
          "intentional attack",
          "intentional attack",
          "intentional attack",
          "intentional attack",
          "severe weather",
          "severe weather",
          "islanding",
          "intentional attack",
          "islanding",
          "severe weather",
          "severe weather",
          "severe weather",
          "severe weather",
          "system operability disruption",
          "equipment failure",
          "severe weather",
          "severe weather",
          "intentional attack",
          "severe weather",
          "severe weather",
          "system operability disruption",
          "intentional attack",
          "intentional attack",
          "public appeal",
          "fuel supply emergency",
          "fuel supply emergency",
          "severe weather",
          "intentional attack",
          "intentional attack",
          "severe weather",
          "fuel supply emergency",
          "severe weather",
          "severe weather",
          "severe weather",
          "intentional attack",
          "severe weather",
          "fuel supply emergency",
          "fuel supply emergency",
          "severe weather",
          "intentional attack",
          "system operability disruption",
          "equipment failure",
          "fuel supply emergency",
          "severe weather",
          "severe weather",
          "intentional attack",
          "severe weather",
          "severe weather",
          "severe weather",
          "public appeal",
          "severe weather",
          "intentional attack",
          "severe weather",
          "severe weather",
          "fuel supply emergency",
          "system operability disruption",
          "system operability disruption",
          "severe weather",
          "public appeal",
          "severe weather",
          "severe weather",
          "severe weather",
          "fuel supply emergency",
          "fuel supply emergency",
          "intentional attack",
          "system operability disruption",
          "intentional attack",
          "severe weather",
          "severe weather",
          "fuel supply emergency",
          "severe weather",
          "severe weather",
          "intentional attack",
          "intentional attack",
          "fuel supply emergency",
          "severe weather",
          "public appeal",
          "severe weather",
          "system operability disruption",
          "fuel supply emergency",
          "fuel supply emergency",
          "public appeal",
          "severe weather",
          "public appeal",
          "public appeal",
          "severe weather",
          "severe weather",
          "public appeal",
          "system operability disruption",
          "public appeal",
          "severe weather",
          "public appeal",
          "system operability disruption",
          "public appeal",
          "severe weather",
          "severe weather",
          "system operability disruption",
          "equipment failure",
          "public appeal",
          "system operability disruption",
          "severe weather",
          "public appeal",
          "public appeal",
          "severe weather",
          "severe weather",
          "severe weather",
          "public appeal",
          "severe weather",
          "severe weather",
          "system operability disruption",
          "public appeal",
          "public appeal",
          "equipment failure",
          "system operability disruption",
          "severe weather",
          "public appeal",
          "severe weather",
          "severe weather",
          "severe weather",
          "equipment failure",
          "intentional attack",
          "severe weather",
          "severe weather",
          "severe weather",
          "equipment failure",
          "severe weather",
          "intentional attack",
          "system operability disruption",
          "severe weather",
          "severe weather",
          "system operability disruption",
          "public appeal",
          "public appeal",
          "severe weather",
          "severe weather",
          "equipment failure",
          "system operability disruption",
          "severe weather",
          "public appeal",
          "system operability disruption",
          "equipment failure",
          "severe weather",
          "severe weather",
          "severe weather",
          "system operability disruption",
          "severe weather",
          "severe weather",
          "severe weather",
          "system operability disruption",
          "system operability disruption",
          "severe weather",
          "system operability disruption",
          "severe weather",
          "equipment failure",
          "severe weather",
          "severe weather",
          "severe weather",
          "severe weather",
          "severe weather",
          "severe weather",
          "severe weather",
          "severe weather",
          "severe weather",
          "system operability disruption",
          "system operability disruption",
          "severe weather",
          "system operability disruption",
          "severe weather",
          "public appeal",
          "fuel supply emergency",
          "intentional attack",
          "equipment failure",
          "severe weather",
          "system operability disruption",
          "severe weather",
          "equipment failure",
          "equipment failure",
          "severe weather",
          "severe weather",
          "intentional attack",
          "islanding",
          "severe weather",
          "system operability disruption",
          "intentional attack",
          "system operability disruption",
          "severe weather",
          "system operability disruption",
          "islanding",
          "intentional attack",
          "system operability disruption",
          "intentional attack",
          "equipment failure",
          "fuel supply emergency",
          "severe weather",
          "system operability disruption",
          "islanding",
          "severe weather",
          "equipment failure",
          "system operability disruption",
          "equipment failure",
          "equipment failure",
          "fuel supply emergency",
          "islanding",
          "severe weather",
          "severe weather",
          "severe weather",
          "system operability disruption",
          "severe weather",
          "fuel supply emergency",
          "islanding",
          "islanding",
          "islanding",
          "islanding",
          "islanding",
          "system operability disruption",
          "severe weather",
          "islanding",
          "system operability disruption",
          "severe weather",
          "public appeal",
          "severe weather",
          "severe weather",
          "severe weather",
          "intentional attack",
          "system operability disruption",
          "intentional attack",
          "intentional attack",
          "system operability disruption",
          "fuel supply emergency",
          "islanding",
          "severe weather",
          "severe weather",
          "severe weather",
          "intentional attack",
          "severe weather",
          "intentional attack",
          "severe weather",
          "intentional attack",
          "equipment failure",
          "severe weather",
          "system operability disruption",
          "public appeal",
          "system operability disruption",
          "equipment failure",
          "severe weather",
          "public appeal",
          "equipment failure",
          "severe weather",
          "system operability disruption",
          "severe weather",
          "system operability disruption",
          "system operability disruption",
          "public appeal",
          "system operability disruption",
          "severe weather",
          "equipment failure",
          "system operability disruption",
          "intentional attack",
          "islanding",
          "system operability disruption",
          "intentional attack",
          "severe weather",
          "system operability disruption",
          "system operability disruption",
          "severe weather",
          "severe weather",
          "intentional attack",
          "system operability disruption",
          "islanding",
          "severe weather",
          "severe weather",
          "severe weather",
          "system operability disruption",
          "severe weather",
          "equipment failure",
          "equipment failure",
          "severe weather",
          "equipment failure",
          "severe weather",
          "intentional attack",
          "equipment failure",
          "system operability disruption",
          "severe weather",
          "severe weather",
          "equipment failure",
          "severe weather",
          "islanding",
          "fuel supply emergency",
          "system operability disruption",
          "fuel supply emergency",
          "system operability disruption",
          "severe weather",
          "severe weather",
          "system operability disruption",
          "fuel supply emergency",
          "severe weather",
          "intentional attack",
          "fuel supply emergency",
          "severe weather",
          "equipment failure",
          "islanding",
          "islanding",
          "system operability disruption",
          "system operability disruption",
          "islanding",
          "intentional attack",
          "intentional attack",
          "islanding",
          "islanding",
          "system operability disruption",
          "islanding",
          "public appeal",
          "fuel supply emergency",
          "severe weather",
          "public appeal",
          "intentional attack",
          "fuel supply emergency",
          "intentional attack",
          "equipment failure",
          "severe weather",
          "severe weather",
          "islanding",
          "islanding",
          "severe weather",
          "islanding",
          "system operability disruption",
          "fuel supply emergency",
          "severe weather",
          "severe weather",
          "severe weather",
          "fuel supply emergency",
          "intentional attack",
          "system operability disruption",
          "severe weather",
          "public appeal",
          "severe weather",
          "severe weather",
          "severe weather",
          "public appeal",
          "system operability disruption",
          "system operability disruption",
          "islanding",
          "severe weather",
          "severe weather",
          "severe weather",
          "fuel supply emergency",
          "system operability disruption",
          "severe weather",
          "fuel supply emergency",
          "severe weather",
          "severe weather",
          "severe weather",
          "intentional attack",
          "islanding",
          "equipment failure",
          "system operability disruption",
          "equipment failure",
          "system operability disruption",
          "system operability disruption",
          "severe weather",
          "severe weather",
          "islanding",
          "islanding",
          "islanding",
          "severe weather",
          "severe weather",
          "fuel supply emergency",
          "severe weather",
          "intentional attack",
          "severe weather",
          "severe weather",
          "fuel supply emergency",
          "equipment failure",
          "system operability disruption",
          "intentional attack",
          "severe weather",
          "islanding",
          "severe weather",
          "equipment failure",
          "intentional attack",
          "severe weather",
          "intentional attack",
          "severe weather",
          "severe weather",
          "severe weather",
          "severe weather",
          "public appeal",
          "public appeal",
          "public appeal",
          "public appeal",
          "intentional attack",
          "severe weather",
          "public appeal",
          "public appeal",
          "severe weather",
          "intentional attack",
          "severe weather",
          "intentional attack",
          "public appeal",
          "intentional attack",
          "severe weather",
          "severe weather",
          "severe weather",
          "severe weather",
          "intentional attack",
          "severe weather",
          "severe weather",
          "severe weather",
          "equipment failure",
          "severe weather",
          "severe weather",
          "severe weather",
          "severe weather",
          "severe weather",
          "severe weather",
          "severe weather",
          "severe weather",
          "severe weather",
          "system operability disruption",
          "severe weather",
          "public appeal",
          "severe weather",
          "severe weather",
          "severe weather",
          "severe weather",
          "severe weather",
          "severe weather",
          "severe weather",
          "severe weather",
          "severe weather",
          "severe weather",
          "severe weather",
          "public appeal",
          "severe weather",
          "severe weather",
          "severe weather",
          "severe weather",
          "public appeal",
          "severe weather",
          "severe weather",
          "severe weather",
          "severe weather",
          "intentional attack",
          "intentional attack",
          "intentional attack",
          "islanding",
          "equipment failure",
          "intentional attack",
          "intentional attack",
          "system operability disruption",
          "intentional attack",
          "intentional attack",
          "intentional attack",
          "intentional attack",
          "fuel supply emergency",
          "intentional attack",
          "intentional attack",
          "intentional attack",
          "intentional attack",
          "intentional attack",
          "intentional attack",
          "intentional attack",
          "intentional attack",
          "intentional attack",
          "severe weather",
          "severe weather",
          "severe weather",
          "severe weather",
          "severe weather",
          "severe weather",
          "severe weather",
          "severe weather",
          "severe weather",
          "severe weather",
          "severe weather",
          "severe weather",
          "severe weather",
          "severe weather",
          "severe weather",
          "severe weather",
          "intentional attack",
          "intentional attack",
          "intentional attack",
          "severe weather",
          "severe weather",
          "intentional attack",
          "intentional attack",
          "severe weather",
          "severe weather",
          "intentional attack",
          "intentional attack",
          "severe weather",
          "severe weather",
          "intentional attack",
          "severe weather",
          "severe weather",
          "severe weather",
          "intentional attack",
          "severe weather",
          "severe weather",
          "intentional attack",
          "severe weather",
          "severe weather",
          "islanding",
          "severe weather",
          "public appeal",
          "severe weather",
          "severe weather",
          "severe weather",
          "severe weather",
          "public appeal",
          "severe weather",
          "severe weather",
          "severe weather",
          "public appeal",
          "severe weather",
          "severe weather",
          "intentional attack",
          "severe weather",
          "severe weather",
          "severe weather",
          "intentional attack",
          "severe weather",
          "severe weather",
          "system operability disruption",
          "severe weather",
          "intentional attack",
          "intentional attack",
          "system operability disruption",
          "severe weather",
          "intentional attack",
          "severe weather",
          "severe weather",
          "severe weather",
          "intentional attack",
          "intentional attack",
          "intentional attack",
          "severe weather",
          "intentional attack",
          "fuel supply emergency",
          "intentional attack",
          "fuel supply emergency",
          "intentional attack",
          "intentional attack",
          "severe weather",
          "intentional attack",
          "intentional attack",
          "intentional attack",
          "severe weather",
          "severe weather",
          "severe weather",
          "severe weather",
          "severe weather",
          "intentional attack",
          "severe weather",
          "intentional attack",
          "islanding",
          "severe weather",
          "severe weather",
          "severe weather",
          "severe weather",
          "intentional attack",
          "intentional attack",
          "intentional attack",
          "intentional attack",
          "intentional attack",
          "intentional attack",
          "intentional attack",
          "intentional attack",
          "severe weather",
          "intentional attack",
          "intentional attack",
          "intentional attack",
          "intentional attack",
          "intentional attack",
          "intentional attack",
          "intentional attack",
          "intentional attack",
          "intentional attack",
          "intentional attack",
          "intentional attack",
          "islanding",
          "intentional attack",
          "fuel supply emergency",
          "severe weather",
          "severe weather",
          "system operability disruption",
          "intentional attack",
          "severe weather",
          "intentional attack",
          "system operability disruption",
          "system operability disruption",
          "system operability disruption",
          "intentional attack",
          "severe weather",
          "intentional attack",
          "severe weather",
          "intentional attack",
          "intentional attack",
          "severe weather",
          "severe weather",
          "intentional attack",
          "public appeal",
          "severe weather",
          "severe weather",
          "severe weather",
          "severe weather",
          "severe weather",
          "system operability disruption",
          "severe weather",
          "system operability disruption",
          "intentional attack",
          "system operability disruption",
          "intentional attack",
          "public appeal",
          "intentional attack",
          "intentional attack",
          "intentional attack",
          "system operability disruption",
          "public appeal",
          "fuel supply emergency",
          "islanding",
          "islanding",
          "equipment failure"
         ],
         "x0": " ",
         "xaxis": "x",
         "y": {
          "bdata": "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",
          "dtype": "f8"
         },
         "y0": " ",
         "yaxis": "y"
        }
       ],
       "layout": {
        "boxmode": "group",
        "legend": {
         "tracegroupgap": 0
        },
        "template": {
         "data": {
          "bar": [
           {
            "error_x": {
             "color": "#2a3f5f"
            },
            "error_y": {
             "color": "#2a3f5f"
            },
            "marker": {
             "line": {
              "color": "#E5ECF6",
              "width": 0.5
             },
             "pattern": {
              "fillmode": "overlay",
              "size": 10,
              "solidity": 0.2
             }
            },
            "type": "bar"
           }
          ],
          "barpolar": [
           {
            "marker": {
             "line": {
              "color": "#E5ECF6",
              "width": 0.5
             },
             "pattern": {
              "fillmode": "overlay",
              "size": 10,
              "solidity": 0.2
             }
            },
            "type": "barpolar"
           }
          ],
          "carpet": [
           {
            "aaxis": {
             "endlinecolor": "#2a3f5f",
             "gridcolor": "white",
             "linecolor": "white",
             "minorgridcolor": "white",
             "startlinecolor": "#2a3f5f"
            },
            "baxis": {
             "endlinecolor": "#2a3f5f",
             "gridcolor": "white",
             "linecolor": "white",
             "minorgridcolor": "white",
             "startlinecolor": "#2a3f5f"
            },
            "type": "carpet"
           }
          ],
          "choropleth": [
           {
            "colorbar": {
             "outlinewidth": 0,
             "ticks": ""
            },
            "type": "choropleth"
           }
          ],
          "contour": [
           {
            "colorbar": {
             "outlinewidth": 0,
             "ticks": ""
            },
            "colorscale": [
             [
              0,
              "#0d0887"
             ],
             [
              0.1111111111111111,
              "#46039f"
             ],
             [
              0.2222222222222222,
              "#7201a8"
             ],
             [
              0.3333333333333333,
              "#9c179e"
             ],
             [
              0.4444444444444444,
              "#bd3786"
             ],
             [
              0.5555555555555556,
              "#d8576b"
             ],
             [
              0.6666666666666666,
              "#ed7953"
             ],
             [
              0.7777777777777778,
              "#fb9f3a"
             ],
             [
              0.8888888888888888,
              "#fdca26"
             ],
             [
              1,
              "#f0f921"
             ]
            ],
            "type": "contour"
           }
          ],
          "contourcarpet": [
           {
            "colorbar": {
             "outlinewidth": 0,
             "ticks": ""
            },
            "type": "contourcarpet"
           }
          ],
          "heatmap": [
           {
            "colorbar": {
             "outlinewidth": 0,
             "ticks": ""
            },
            "colorscale": [
             [
              0,
              "#0d0887"
             ],
             [
              0.1111111111111111,
              "#46039f"
             ],
             [
              0.2222222222222222,
              "#7201a8"
             ],
             [
              0.3333333333333333,
              "#9c179e"
             ],
             [
              0.4444444444444444,
              "#bd3786"
             ],
             [
              0.5555555555555556,
              "#d8576b"
             ],
             [
              0.6666666666666666,
              "#ed7953"
             ],
             [
              0.7777777777777778,
              "#fb9f3a"
             ],
             [
              0.8888888888888888,
              "#fdca26"
             ],
             [
              1,
              "#f0f921"
             ]
            ],
            "type": "heatmap"
           }
          ],
          "histogram": [
           {
            "marker": {
             "pattern": {
              "fillmode": "overlay",
              "size": 10,
              "solidity": 0.2
             }
            },
            "type": "histogram"
           }
          ],
          "histogram2d": [
           {
            "colorbar": {
             "outlinewidth": 0,
             "ticks": ""
            },
            "colorscale": [
             [
              0,
              "#0d0887"
             ],
             [
              0.1111111111111111,
              "#46039f"
             ],
             [
              0.2222222222222222,
              "#7201a8"
             ],
             [
              0.3333333333333333,
              "#9c179e"
             ],
             [
              0.4444444444444444,
              "#bd3786"
             ],
             [
              0.5555555555555556,
              "#d8576b"
             ],
             [
              0.6666666666666666,
              "#ed7953"
             ],
             [
              0.7777777777777778,
              "#fb9f3a"
             ],
             [
              0.8888888888888888,
              "#fdca26"
             ],
             [
              1,
              "#f0f921"
             ]
            ],
            "type": "histogram2d"
           }
          ],
          "histogram2dcontour": [
           {
            "colorbar": {
             "outlinewidth": 0,
             "ticks": ""
            },
            "colorscale": [
             [
              0,
              "#0d0887"
             ],
             [
              0.1111111111111111,
              "#46039f"
             ],
             [
              0.2222222222222222,
              "#7201a8"
             ],
             [
              0.3333333333333333,
              "#9c179e"
             ],
             [
              0.4444444444444444,
              "#bd3786"
             ],
             [
              0.5555555555555556,
              "#d8576b"
             ],
             [
              0.6666666666666666,
              "#ed7953"
             ],
             [
              0.7777777777777778,
              "#fb9f3a"
             ],
             [
              0.8888888888888888,
              "#fdca26"
             ],
             [
              1,
              "#f0f921"
             ]
            ],
            "type": "histogram2dcontour"
           }
          ],
          "mesh3d": [
           {
            "colorbar": {
             "outlinewidth": 0,
             "ticks": ""
            },
            "type": "mesh3d"
           }
          ],
          "parcoords": [
           {
            "line": {
             "colorbar": {
              "outlinewidth": 0,
              "ticks": ""
             }
            },
            "type": "parcoords"
           }
          ],
          "pie": [
           {
            "automargin": true,
            "type": "pie"
           }
          ],
          "scatter": [
           {
            "fillpattern": {
             "fillmode": "overlay",
             "size": 10,
             "solidity": 0.2
            },
            "type": "scatter"
           }
          ],
          "scatter3d": [
           {
            "line": {
             "colorbar": {
              "outlinewidth": 0,
              "ticks": ""
             }
            },
            "marker": {
             "colorbar": {
              "outlinewidth": 0,
              "ticks": ""
             }
            },
            "type": "scatter3d"
           }
          ],
          "scattercarpet": [
           {
            "marker": {
             "colorbar": {
              "outlinewidth": 0,
              "ticks": ""
             }
            },
            "type": "scattercarpet"
           }
          ],
          "scattergeo": [
           {
            "marker": {
             "colorbar": {
              "outlinewidth": 0,
              "ticks": ""
             }
            },
            "type": "scattergeo"
           }
          ],
          "scattergl": [
           {
            "marker": {
             "colorbar": {
              "outlinewidth": 0,
              "ticks": ""
             }
            },
            "type": "scattergl"
           }
          ],
          "scattermap": [
           {
            "marker": {
             "colorbar": {
              "outlinewidth": 0,
              "ticks": ""
             }
            },
            "type": "scattermap"
           }
          ],
          "scattermapbox": [
           {
            "marker": {
             "colorbar": {
              "outlinewidth": 0,
              "ticks": ""
             }
            },
            "type": "scattermapbox"
           }
          ],
          "scatterpolar": [
           {
            "marker": {
             "colorbar": {
              "outlinewidth": 0,
              "ticks": ""
             }
            },
            "type": "scatterpolar"
           }
          ],
          "scatterpolargl": [
           {
            "marker": {
             "colorbar": {
              "outlinewidth": 0,
              "ticks": ""
             }
            },
            "type": "scatterpolargl"
           }
          ],
          "scatterternary": [
           {
            "marker": {
             "colorbar": {
              "outlinewidth": 0,
              "ticks": ""
             }
            },
            "type": "scatterternary"
           }
          ],
          "surface": [
           {
            "colorbar": {
             "outlinewidth": 0,
             "ticks": ""
            },
            "colorscale": [
             [
              0,
              "#0d0887"
             ],
             [
              0.1111111111111111,
              "#46039f"
             ],
             [
              0.2222222222222222,
              "#7201a8"
             ],
             [
              0.3333333333333333,
              "#9c179e"
             ],
             [
              0.4444444444444444,
              "#bd3786"
             ],
             [
              0.5555555555555556,
              "#d8576b"
             ],
             [
              0.6666666666666666,
              "#ed7953"
             ],
             [
              0.7777777777777778,
              "#fb9f3a"
             ],
             [
              0.8888888888888888,
              "#fdca26"
             ],
             [
              1,
              "#f0f921"
             ]
            ],
            "type": "surface"
           }
          ],
          "table": [
           {
            "cells": {
             "fill": {
              "color": "#EBF0F8"
             },
             "line": {
              "color": "white"
             }
            },
            "header": {
             "fill": {
              "color": "#C8D4E3"
             },
             "line": {
              "color": "white"
             }
            },
            "type": "table"
           }
          ]
         },
         "layout": {
          "annotationdefaults": {
           "arrowcolor": "#2a3f5f",
           "arrowhead": 0,
           "arrowwidth": 1
          },
          "autotypenumbers": "strict",
          "coloraxis": {
           "colorbar": {
            "outlinewidth": 0,
            "ticks": ""
           }
          },
          "colorscale": {
           "diverging": [
            [
             0,
             "#8e0152"
            ],
            [
             0.1,
             "#c51b7d"
            ],
            [
             0.2,
             "#de77ae"
            ],
            [
             0.3,
             "#f1b6da"
            ],
            [
             0.4,
             "#fde0ef"
            ],
            [
             0.5,
             "#f7f7f7"
            ],
            [
             0.6,
             "#e6f5d0"
            ],
            [
             0.7,
             "#b8e186"
            ],
            [
             0.8,
             "#7fbc41"
            ],
            [
             0.9,
             "#4d9221"
            ],
            [
             1,
             "#276419"
            ]
           ],
           "sequential": [
            [
             0,
             "#0d0887"
            ],
            [
             0.1111111111111111,
             "#46039f"
            ],
            [
             0.2222222222222222,
             "#7201a8"
            ],
            [
             0.3333333333333333,
             "#9c179e"
            ],
            [
             0.4444444444444444,
             "#bd3786"
            ],
            [
             0.5555555555555556,
             "#d8576b"
            ],
            [
             0.6666666666666666,
             "#ed7953"
            ],
            [
             0.7777777777777778,
             "#fb9f3a"
            ],
            [
             0.8888888888888888,
             "#fdca26"
            ],
            [
             1,
             "#f0f921"
            ]
           ],
           "sequentialminus": [
            [
             0,
             "#0d0887"
            ],
            [
             0.1111111111111111,
             "#46039f"
            ],
            [
             0.2222222222222222,
             "#7201a8"
            ],
            [
             0.3333333333333333,
             "#9c179e"
            ],
            [
             0.4444444444444444,
             "#bd3786"
            ],
            [
             0.5555555555555556,
             "#d8576b"
            ],
            [
             0.6666666666666666,
             "#ed7953"
            ],
            [
             0.7777777777777778,
             "#fb9f3a"
            ],
            [
             0.8888888888888888,
             "#fdca26"
            ],
            [
             1,
             "#f0f921"
            ]
           ]
          },
          "colorway": [
           "#636efa",
           "#EF553B",
           "#00cc96",
           "#ab63fa",
           "#FFA15A",
           "#19d3f3",
           "#FF6692",
           "#B6E880",
           "#FF97FF",
           "#FECB52"
          ],
          "font": {
           "color": "#2a3f5f"
          },
          "geo": {
           "bgcolor": "white",
           "lakecolor": "white",
           "landcolor": "#E5ECF6",
           "showlakes": true,
           "showland": true,
           "subunitcolor": "white"
          },
          "hoverlabel": {
           "align": "left"
          },
          "hovermode": "closest",
          "mapbox": {
           "style": "light"
          },
          "paper_bgcolor": "white",
          "plot_bgcolor": "#E5ECF6",
          "polar": {
           "angularaxis": {
            "gridcolor": "white",
            "linecolor": "white",
            "ticks": ""
           },
           "bgcolor": "#E5ECF6",
           "radialaxis": {
            "gridcolor": "white",
            "linecolor": "white",
            "ticks": ""
           }
          },
          "scene": {
           "xaxis": {
            "backgroundcolor": "#E5ECF6",
            "gridcolor": "white",
            "gridwidth": 2,
            "linecolor": "white",
            "showbackground": true,
            "ticks": "",
            "zerolinecolor": "white"
           },
           "yaxis": {
            "backgroundcolor": "#E5ECF6",
            "gridcolor": "white",
            "gridwidth": 2,
            "linecolor": "white",
            "showbackground": true,
            "ticks": "",
            "zerolinecolor": "white"
           },
           "zaxis": {
            "backgroundcolor": "#E5ECF6",
            "gridcolor": "white",
            "gridwidth": 2,
            "linecolor": "white",
            "showbackground": true,
            "ticks": "",
            "zerolinecolor": "white"
           }
          },
          "shapedefaults": {
           "line": {
            "color": "#2a3f5f"
           }
          },
          "ternary": {
           "aaxis": {
            "gridcolor": "white",
            "linecolor": "white",
            "ticks": ""
           },
           "baxis": {
            "gridcolor": "white",
            "linecolor": "white",
            "ticks": ""
           },
           "bgcolor": "#E5ECF6",
           "caxis": {
            "gridcolor": "white",
            "linecolor": "white",
            "ticks": ""
           }
          },
          "title": {
           "x": 0.05
          },
          "xaxis": {
           "automargin": true,
           "gridcolor": "white",
           "linecolor": "white",
           "ticks": "",
           "title": {
            "standoff": 15
           },
           "zerolinecolor": "white",
           "zerolinewidth": 2
          },
          "yaxis": {
           "automargin": true,
           "gridcolor": "white",
           "linecolor": "white",
           "ticks": "",
           "title": {
            "standoff": 15
           },
           "zerolinecolor": "white",
           "zerolinewidth": 2
          }
         }
        },
        "title": {
         "text": "Box Plot: OUTAGE DURATION by CAUSE CATEGORY"
        },
        "xaxis": {
         "anchor": "y",
         "domain": [
          0,
          1
         ],
         "title": {
          "text": "Cause Category"
         }
        },
        "yaxis": {
         "anchor": "x",
         "domain": [
          0,
          1
         ],
         "title": {
          "text": "Outage Duration (hours)"
         }
        }
       }
      }
     },
     "metadata": {},
     "output_type": "display_data"
    },
    {
     "data": {
      "application/vnd.plotly.v1+json": {
       "config": {
        "plotlyServerURL": "https://plot.ly"
       },
       "data": [
        {
         "bingroup": "x",
         "hovertemplate": "CLIMATE.CATEGORY=normal<br>Anomaly Level=%{x}<br>count=%{y}<extra></extra>",
         "legendgroup": "normal",
         "marker": {
          "color": "#636efa",
          "opacity": 0.5,
          "pattern": {
           "shape": ""
          }
         },
         "name": "normal",
         "orientation": "v",
         "showlegend": true,
         "type": "histogram",
         "x": {
          "bdata": "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",
          "dtype": "f8"
         },
         "xaxis": "x",
         "yaxis": "y"
        },
        {
         "bingroup": "x",
         "hovertemplate": "CLIMATE.CATEGORY=cold<br>Anomaly Level=%{x}<br>count=%{y}<extra></extra>",
         "legendgroup": "cold",
         "marker": {
          "color": "#EF553B",
          "opacity": 0.5,
          "pattern": {
           "shape": ""
          }
         },
         "name": "cold",
         "orientation": "v",
         "showlegend": true,
         "type": "histogram",
         "x": {
          "bdata": "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",
          "dtype": "f8"
         },
         "xaxis": "x",
         "yaxis": "y"
        },
        {
         "bingroup": "x",
         "hovertemplate": "CLIMATE.CATEGORY=warm<br>Anomaly Level=%{x}<br>count=%{y}<extra></extra>",
         "legendgroup": "warm",
         "marker": {
          "color": "#00cc96",
          "opacity": 0.5,
          "pattern": {
           "shape": ""
          }
         },
         "name": "warm",
         "orientation": "v",
         "showlegend": true,
         "type": "histogram",
         "x": {
          "bdata": "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",
          "dtype": "f8"
         },
         "xaxis": "x",
         "yaxis": "y"
        }
       ],
       "layout": {
        "barmode": "overlay",
        "legend": {
         "title": {
          "text": "CLIMATE.CATEGORY"
         },
         "tracegroupgap": 0
        },
        "template": {
         "data": {
          "bar": [
           {
            "error_x": {
             "color": "#2a3f5f"
            },
            "error_y": {
             "color": "#2a3f5f"
            },
            "marker": {
             "line": {
              "color": "#E5ECF6",
              "width": 0.5
             },
             "pattern": {
              "fillmode": "overlay",
              "size": 10,
              "solidity": 0.2
             }
            },
            "type": "bar"
           }
          ],
          "barpolar": [
           {
            "marker": {
             "line": {
              "color": "#E5ECF6",
              "width": 0.5
             },
             "pattern": {
              "fillmode": "overlay",
              "size": 10,
              "solidity": 0.2
             }
            },
            "type": "barpolar"
           }
          ],
          "carpet": [
           {
            "aaxis": {
             "endlinecolor": "#2a3f5f",
             "gridcolor": "white",
             "linecolor": "white",
             "minorgridcolor": "white",
             "startlinecolor": "#2a3f5f"
            },
            "baxis": {
             "endlinecolor": "#2a3f5f",
             "gridcolor": "white",
             "linecolor": "white",
             "minorgridcolor": "white",
             "startlinecolor": "#2a3f5f"
            },
            "type": "carpet"
           }
          ],
          "choropleth": [
           {
            "colorbar": {
             "outlinewidth": 0,
             "ticks": ""
            },
            "type": "choropleth"
           }
          ],
          "contour": [
           {
            "colorbar": {
             "outlinewidth": 0,
             "ticks": ""
            },
            "colorscale": [
             [
              0,
              "#0d0887"
             ],
             [
              0.1111111111111111,
              "#46039f"
             ],
             [
              0.2222222222222222,
              "#7201a8"
             ],
             [
              0.3333333333333333,
              "#9c179e"
             ],
             [
              0.4444444444444444,
              "#bd3786"
             ],
             [
              0.5555555555555556,
              "#d8576b"
             ],
             [
              0.6666666666666666,
              "#ed7953"
             ],
             [
              0.7777777777777778,
              "#fb9f3a"
             ],
             [
              0.8888888888888888,
              "#fdca26"
             ],
             [
              1,
              "#f0f921"
             ]
            ],
            "type": "contour"
           }
          ],
          "contourcarpet": [
           {
            "colorbar": {
             "outlinewidth": 0,
             "ticks": ""
            },
            "type": "contourcarpet"
           }
          ],
          "heatmap": [
           {
            "colorbar": {
             "outlinewidth": 0,
             "ticks": ""
            },
            "colorscale": [
             [
              0,
              "#0d0887"
             ],
             [
              0.1111111111111111,
              "#46039f"
             ],
             [
              0.2222222222222222,
              "#7201a8"
             ],
             [
              0.3333333333333333,
              "#9c179e"
             ],
             [
              0.4444444444444444,
              "#bd3786"
             ],
             [
              0.5555555555555556,
              "#d8576b"
             ],
             [
              0.6666666666666666,
              "#ed7953"
             ],
             [
              0.7777777777777778,
              "#fb9f3a"
             ],
             [
              0.8888888888888888,
              "#fdca26"
             ],
             [
              1,
              "#f0f921"
             ]
            ],
            "type": "heatmap"
           }
          ],
          "histogram": [
           {
            "marker": {
             "pattern": {
              "fillmode": "overlay",
              "size": 10,
              "solidity": 0.2
             }
            },
            "type": "histogram"
           }
          ],
          "histogram2d": [
           {
            "colorbar": {
             "outlinewidth": 0,
             "ticks": ""
            },
            "colorscale": [
             [
              0,
              "#0d0887"
             ],
             [
              0.1111111111111111,
              "#46039f"
             ],
             [
              0.2222222222222222,
              "#7201a8"
             ],
             [
              0.3333333333333333,
              "#9c179e"
             ],
             [
              0.4444444444444444,
              "#bd3786"
             ],
             [
              0.5555555555555556,
              "#d8576b"
             ],
             [
              0.6666666666666666,
              "#ed7953"
             ],
             [
              0.7777777777777778,
              "#fb9f3a"
             ],
             [
              0.8888888888888888,
              "#fdca26"
             ],
             [
              1,
              "#f0f921"
             ]
            ],
            "type": "histogram2d"
           }
          ],
          "histogram2dcontour": [
           {
            "colorbar": {
             "outlinewidth": 0,
             "ticks": ""
            },
            "colorscale": [
             [
              0,
              "#0d0887"
             ],
             [
              0.1111111111111111,
              "#46039f"
             ],
             [
              0.2222222222222222,
              "#7201a8"
             ],
             [
              0.3333333333333333,
              "#9c179e"
             ],
             [
              0.4444444444444444,
              "#bd3786"
             ],
             [
              0.5555555555555556,
              "#d8576b"
             ],
             [
              0.6666666666666666,
              "#ed7953"
             ],
             [
              0.7777777777777778,
              "#fb9f3a"
             ],
             [
              0.8888888888888888,
              "#fdca26"
             ],
             [
              1,
              "#f0f921"
             ]
            ],
            "type": "histogram2dcontour"
           }
          ],
          "mesh3d": [
           {
            "colorbar": {
             "outlinewidth": 0,
             "ticks": ""
            },
            "type": "mesh3d"
           }
          ],
          "parcoords": [
           {
            "line": {
             "colorbar": {
              "outlinewidth": 0,
              "ticks": ""
             }
            },
            "type": "parcoords"
           }
          ],
          "pie": [
           {
            "automargin": true,
            "type": "pie"
           }
          ],
          "scatter": [
           {
            "fillpattern": {
             "fillmode": "overlay",
             "size": 10,
             "solidity": 0.2
            },
            "type": "scatter"
           }
          ],
          "scatter3d": [
           {
            "line": {
             "colorbar": {
              "outlinewidth": 0,
              "ticks": ""
             }
            },
            "marker": {
             "colorbar": {
              "outlinewidth": 0,
              "ticks": ""
             }
            },
            "type": "scatter3d"
           }
          ],
          "scattercarpet": [
           {
            "marker": {
             "colorbar": {
              "outlinewidth": 0,
              "ticks": ""
             }
            },
            "type": "scattercarpet"
           }
          ],
          "scattergeo": [
           {
            "marker": {
             "colorbar": {
              "outlinewidth": 0,
              "ticks": ""
             }
            },
            "type": "scattergeo"
           }
          ],
          "scattergl": [
           {
            "marker": {
             "colorbar": {
              "outlinewidth": 0,
              "ticks": ""
             }
            },
            "type": "scattergl"
           }
          ],
          "scattermap": [
           {
            "marker": {
             "colorbar": {
              "outlinewidth": 0,
              "ticks": ""
             }
            },
            "type": "scattermap"
           }
          ],
          "scattermapbox": [
           {
            "marker": {
             "colorbar": {
              "outlinewidth": 0,
              "ticks": ""
             }
            },
            "type": "scattermapbox"
           }
          ],
          "scatterpolar": [
           {
            "marker": {
             "colorbar": {
              "outlinewidth": 0,
              "ticks": ""
             }
            },
            "type": "scatterpolar"
           }
          ],
          "scatterpolargl": [
           {
            "marker": {
             "colorbar": {
              "outlinewidth": 0,
              "ticks": ""
             }
            },
            "type": "scatterpolargl"
           }
          ],
          "scatterternary": [
           {
            "marker": {
             "colorbar": {
              "outlinewidth": 0,
              "ticks": ""
             }
            },
            "type": "scatterternary"
           }
          ],
          "surface": [
           {
            "colorbar": {
             "outlinewidth": 0,
             "ticks": ""
            },
            "colorscale": [
             [
              0,
              "#0d0887"
             ],
             [
              0.1111111111111111,
              "#46039f"
             ],
             [
              0.2222222222222222,
              "#7201a8"
             ],
             [
              0.3333333333333333,
              "#9c179e"
             ],
             [
              0.4444444444444444,
              "#bd3786"
             ],
             [
              0.5555555555555556,
              "#d8576b"
             ],
             [
              0.6666666666666666,
              "#ed7953"
             ],
             [
              0.7777777777777778,
              "#fb9f3a"
             ],
             [
              0.8888888888888888,
              "#fdca26"
             ],
             [
              1,
              "#f0f921"
             ]
            ],
            "type": "surface"
           }
          ],
          "table": [
           {
            "cells": {
             "fill": {
              "color": "#EBF0F8"
             },
             "line": {
              "color": "white"
             }
            },
            "header": {
             "fill": {
              "color": "#C8D4E3"
             },
             "line": {
              "color": "white"
             }
            },
            "type": "table"
           }
          ]
         },
         "layout": {
          "annotationdefaults": {
           "arrowcolor": "#2a3f5f",
           "arrowhead": 0,
           "arrowwidth": 1
          },
          "autotypenumbers": "strict",
          "coloraxis": {
           "colorbar": {
            "outlinewidth": 0,
            "ticks": ""
           }
          },
          "colorscale": {
           "diverging": [
            [
             0,
             "#8e0152"
            ],
            [
             0.1,
             "#c51b7d"
            ],
            [
             0.2,
             "#de77ae"
            ],
            [
             0.3,
             "#f1b6da"
            ],
            [
             0.4,
             "#fde0ef"
            ],
            [
             0.5,
             "#f7f7f7"
            ],
            [
             0.6,
             "#e6f5d0"
            ],
            [
             0.7,
             "#b8e186"
            ],
            [
             0.8,
             "#7fbc41"
            ],
            [
             0.9,
             "#4d9221"
            ],
            [
             1,
             "#276419"
            ]
           ],
           "sequential": [
            [
             0,
             "#0d0887"
            ],
            [
             0.1111111111111111,
             "#46039f"
            ],
            [
             0.2222222222222222,
             "#7201a8"
            ],
            [
             0.3333333333333333,
             "#9c179e"
            ],
            [
             0.4444444444444444,
             "#bd3786"
            ],
            [
             0.5555555555555556,
             "#d8576b"
            ],
            [
             0.6666666666666666,
             "#ed7953"
            ],
            [
             0.7777777777777778,
             "#fb9f3a"
            ],
            [
             0.8888888888888888,
             "#fdca26"
            ],
            [
             1,
             "#f0f921"
            ]
           ],
           "sequentialminus": [
            [
             0,
             "#0d0887"
            ],
            [
             0.1111111111111111,
             "#46039f"
            ],
            [
             0.2222222222222222,
             "#7201a8"
            ],
            [
             0.3333333333333333,
             "#9c179e"
            ],
            [
             0.4444444444444444,
             "#bd3786"
            ],
            [
             0.5555555555555556,
             "#d8576b"
            ],
            [
             0.6666666666666666,
             "#ed7953"
            ],
            [
             0.7777777777777778,
             "#fb9f3a"
            ],
            [
             0.8888888888888888,
             "#fdca26"
            ],
            [
             1,
             "#f0f921"
            ]
           ]
          },
          "colorway": [
           "#636efa",
           "#EF553B",
           "#00cc96",
           "#ab63fa",
           "#FFA15A",
           "#19d3f3",
           "#FF6692",
           "#B6E880",
           "#FF97FF",
           "#FECB52"
          ],
          "font": {
           "color": "#2a3f5f"
          },
          "geo": {
           "bgcolor": "white",
           "lakecolor": "white",
           "landcolor": "#E5ECF6",
           "showlakes": true,
           "showland": true,
           "subunitcolor": "white"
          },
          "hoverlabel": {
           "align": "left"
          },
          "hovermode": "closest",
          "mapbox": {
           "style": "light"
          },
          "paper_bgcolor": "white",
          "plot_bgcolor": "#E5ECF6",
          "polar": {
           "angularaxis": {
            "gridcolor": "white",
            "linecolor": "white",
            "ticks": ""
           },
           "bgcolor": "#E5ECF6",
           "radialaxis": {
            "gridcolor": "white",
            "linecolor": "white",
            "ticks": ""
           }
          },
          "scene": {
           "xaxis": {
            "backgroundcolor": "#E5ECF6",
            "gridcolor": "white",
            "gridwidth": 2,
            "linecolor": "white",
            "showbackground": true,
            "ticks": "",
            "zerolinecolor": "white"
           },
           "yaxis": {
            "backgroundcolor": "#E5ECF6",
            "gridcolor": "white",
            "gridwidth": 2,
            "linecolor": "white",
            "showbackground": true,
            "ticks": "",
            "zerolinecolor": "white"
           },
           "zaxis": {
            "backgroundcolor": "#E5ECF6",
            "gridcolor": "white",
            "gridwidth": 2,
            "linecolor": "white",
            "showbackground": true,
            "ticks": "",
            "zerolinecolor": "white"
           }
          },
          "shapedefaults": {
           "line": {
            "color": "#2a3f5f"
           }
          },
          "ternary": {
           "aaxis": {
            "gridcolor": "white",
            "linecolor": "white",
            "ticks": ""
           },
           "baxis": {
            "gridcolor": "white",
            "linecolor": "white",
            "ticks": ""
           },
           "bgcolor": "#E5ECF6",
           "caxis": {
            "gridcolor": "white",
            "linecolor": "white",
            "ticks": ""
           }
          },
          "title": {
           "x": 0.05
          },
          "xaxis": {
           "automargin": true,
           "gridcolor": "white",
           "linecolor": "white",
           "ticks": "",
           "title": {
            "standoff": 15
           },
           "zerolinecolor": "white",
           "zerolinewidth": 2
          },
          "yaxis": {
           "automargin": true,
           "gridcolor": "white",
           "linecolor": "white",
           "ticks": "",
           "title": {
            "standoff": 15
           },
           "zerolinecolor": "white",
           "zerolinewidth": 2
          }
         }
        },
        "title": {
         "text": "Conditional Distribution: ANOMALYLLYRL by CLIMATE CATEGORY"
        },
        "xaxis": {
         "anchor": "y",
         "domain": [
          0,
          1
         ],
         "title": {
          "text": "Anomaly Level"
         }
        },
        "yaxis": {
         "anchor": "x",
         "domain": [
          0,
          1
         ],
         "title": {
          "text": "count"
         }
        }
       }
      }
     },
     "metadata": {},
     "output_type": "display_data"
    },
    {
     "data": {
      "application/vnd.plotly.v1+json": {
       "config": {
        "plotlyServerURL": "https://plot.ly"
       },
       "data": [
        {
         "hovertemplate": "Climate Category=%{x}<br>Average Outage Duration (hours)=%{y}<extra></extra>",
         "legendgroup": "",
         "marker": {
          "color": "#636efa",
          "pattern": {
           "shape": ""
          }
         },
         "name": "",
         "orientation": "v",
         "showlegend": false,
         "textposition": "auto",
         "type": "bar",
         "x": [
          "cold",
          "normal",
          "warm"
         ],
         "xaxis": "x",
         "y": {
          "bdata": "EX4k4unBpEBfWEou9sWjQAPHrNOiAqZA",
          "dtype": "f8"
         },
         "yaxis": "y"
        }
       ],
       "layout": {
        "barmode": "relative",
        "legend": {
         "tracegroupgap": 0
        },
        "template": {
         "data": {
          "bar": [
           {
            "error_x": {
             "color": "#2a3f5f"
            },
            "error_y": {
             "color": "#2a3f5f"
            },
            "marker": {
             "line": {
              "color": "#E5ECF6",
              "width": 0.5
             },
             "pattern": {
              "fillmode": "overlay",
              "size": 10,
              "solidity": 0.2
             }
            },
            "type": "bar"
           }
          ],
          "barpolar": [
           {
            "marker": {
             "line": {
              "color": "#E5ECF6",
              "width": 0.5
             },
             "pattern": {
              "fillmode": "overlay",
              "size": 10,
              "solidity": 0.2
             }
            },
            "type": "barpolar"
           }
          ],
          "carpet": [
           {
            "aaxis": {
             "endlinecolor": "#2a3f5f",
             "gridcolor": "white",
             "linecolor": "white",
             "minorgridcolor": "white",
             "startlinecolor": "#2a3f5f"
            },
            "baxis": {
             "endlinecolor": "#2a3f5f",
             "gridcolor": "white",
             "linecolor": "white",
             "minorgridcolor": "white",
             "startlinecolor": "#2a3f5f"
            },
            "type": "carpet"
           }
          ],
          "choropleth": [
           {
            "colorbar": {
             "outlinewidth": 0,
             "ticks": ""
            },
            "type": "choropleth"
           }
          ],
          "contour": [
           {
            "colorbar": {
             "outlinewidth": 0,
             "ticks": ""
            },
            "colorscale": [
             [
              0,
              "#0d0887"
             ],
             [
              0.1111111111111111,
              "#46039f"
             ],
             [
              0.2222222222222222,
              "#7201a8"
             ],
             [
              0.3333333333333333,
              "#9c179e"
             ],
             [
              0.4444444444444444,
              "#bd3786"
             ],
             [
              0.5555555555555556,
              "#d8576b"
             ],
             [
              0.6666666666666666,
              "#ed7953"
             ],
             [
              0.7777777777777778,
              "#fb9f3a"
             ],
             [
              0.8888888888888888,
              "#fdca26"
             ],
             [
              1,
              "#f0f921"
             ]
            ],
            "type": "contour"
           }
          ],
          "contourcarpet": [
           {
            "colorbar": {
             "outlinewidth": 0,
             "ticks": ""
            },
            "type": "contourcarpet"
           }
          ],
          "heatmap": [
           {
            "colorbar": {
             "outlinewidth": 0,
             "ticks": ""
            },
            "colorscale": [
             [
              0,
              "#0d0887"
             ],
             [
              0.1111111111111111,
              "#46039f"
             ],
             [
              0.2222222222222222,
              "#7201a8"
             ],
             [
              0.3333333333333333,
              "#9c179e"
             ],
             [
              0.4444444444444444,
              "#bd3786"
             ],
             [
              0.5555555555555556,
              "#d8576b"
             ],
             [
              0.6666666666666666,
              "#ed7953"
             ],
             [
              0.7777777777777778,
              "#fb9f3a"
             ],
             [
              0.8888888888888888,
              "#fdca26"
             ],
             [
              1,
              "#f0f921"
             ]
            ],
            "type": "heatmap"
           }
          ],
          "histogram": [
           {
            "marker": {
             "pattern": {
              "fillmode": "overlay",
              "size": 10,
              "solidity": 0.2
             }
            },
            "type": "histogram"
           }
          ],
          "histogram2d": [
           {
            "colorbar": {
             "outlinewidth": 0,
             "ticks": ""
            },
            "colorscale": [
             [
              0,
              "#0d0887"
             ],
             [
              0.1111111111111111,
              "#46039f"
             ],
             [
              0.2222222222222222,
              "#7201a8"
             ],
             [
              0.3333333333333333,
              "#9c179e"
             ],
             [
              0.4444444444444444,
              "#bd3786"
             ],
             [
              0.5555555555555556,
              "#d8576b"
             ],
             [
              0.6666666666666666,
              "#ed7953"
             ],
             [
              0.7777777777777778,
              "#fb9f3a"
             ],
             [
              0.8888888888888888,
              "#fdca26"
             ],
             [
              1,
              "#f0f921"
             ]
            ],
            "type": "histogram2d"
           }
          ],
          "histogram2dcontour": [
           {
            "colorbar": {
             "outlinewidth": 0,
             "ticks": ""
            },
            "colorscale": [
             [
              0,
              "#0d0887"
             ],
             [
              0.1111111111111111,
              "#46039f"
             ],
             [
              0.2222222222222222,
              "#7201a8"
             ],
             [
              0.3333333333333333,
              "#9c179e"
             ],
             [
              0.4444444444444444,
              "#bd3786"
             ],
             [
              0.5555555555555556,
              "#d8576b"
             ],
             [
              0.6666666666666666,
              "#ed7953"
             ],
             [
              0.7777777777777778,
              "#fb9f3a"
             ],
             [
              0.8888888888888888,
              "#fdca26"
             ],
             [
              1,
              "#f0f921"
             ]
            ],
            "type": "histogram2dcontour"
           }
          ],
          "mesh3d": [
           {
            "colorbar": {
             "outlinewidth": 0,
             "ticks": ""
            },
            "type": "mesh3d"
           }
          ],
          "parcoords": [
           {
            "line": {
             "colorbar": {
              "outlinewidth": 0,
              "ticks": ""
             }
            },
            "type": "parcoords"
           }
          ],
          "pie": [
           {
            "automargin": true,
            "type": "pie"
           }
          ],
          "scatter": [
           {
            "fillpattern": {
             "fillmode": "overlay",
             "size": 10,
             "solidity": 0.2
            },
            "type": "scatter"
           }
          ],
          "scatter3d": [
           {
            "line": {
             "colorbar": {
              "outlinewidth": 0,
              "ticks": ""
             }
            },
            "marker": {
             "colorbar": {
              "outlinewidth": 0,
              "ticks": ""
             }
            },
            "type": "scatter3d"
           }
          ],
          "scattercarpet": [
           {
            "marker": {
             "colorbar": {
              "outlinewidth": 0,
              "ticks": ""
             }
            },
            "type": "scattercarpet"
           }
          ],
          "scattergeo": [
           {
            "marker": {
             "colorbar": {
              "outlinewidth": 0,
              "ticks": ""
             }
            },
            "type": "scattergeo"
           }
          ],
          "scattergl": [
           {
            "marker": {
             "colorbar": {
              "outlinewidth": 0,
              "ticks": ""
             }
            },
            "type": "scattergl"
           }
          ],
          "scattermap": [
           {
            "marker": {
             "colorbar": {
              "outlinewidth": 0,
              "ticks": ""
             }
            },
            "type": "scattermap"
           }
          ],
          "scattermapbox": [
           {
            "marker": {
             "colorbar": {
              "outlinewidth": 0,
              "ticks": ""
             }
            },
            "type": "scattermapbox"
           }
          ],
          "scatterpolar": [
           {
            "marker": {
             "colorbar": {
              "outlinewidth": 0,
              "ticks": ""
             }
            },
            "type": "scatterpolar"
           }
          ],
          "scatterpolargl": [
           {
            "marker": {
             "colorbar": {
              "outlinewidth": 0,
              "ticks": ""
             }
            },
            "type": "scatterpolargl"
           }
          ],
          "scatterternary": [
           {
            "marker": {
             "colorbar": {
              "outlinewidth": 0,
              "ticks": ""
             }
            },
            "type": "scatterternary"
           }
          ],
          "surface": [
           {
            "colorbar": {
             "outlinewidth": 0,
             "ticks": ""
            },
            "colorscale": [
             [
              0,
              "#0d0887"
             ],
             [
              0.1111111111111111,
              "#46039f"
             ],
             [
              0.2222222222222222,
              "#7201a8"
             ],
             [
              0.3333333333333333,
              "#9c179e"
             ],
             [
              0.4444444444444444,
              "#bd3786"
             ],
             [
              0.5555555555555556,
              "#d8576b"
             ],
             [
              0.6666666666666666,
              "#ed7953"
             ],
             [
              0.7777777777777778,
              "#fb9f3a"
             ],
             [
              0.8888888888888888,
              "#fdca26"
             ],
             [
              1,
              "#f0f921"
             ]
            ],
            "type": "surface"
           }
          ],
          "table": [
           {
            "cells": {
             "fill": {
              "color": "#EBF0F8"
             },
             "line": {
              "color": "white"
             }
            },
            "header": {
             "fill": {
              "color": "#C8D4E3"
             },
             "line": {
              "color": "white"
             }
            },
            "type": "table"
           }
          ]
         },
         "layout": {
          "annotationdefaults": {
           "arrowcolor": "#2a3f5f",
           "arrowhead": 0,
           "arrowwidth": 1
          },
          "autotypenumbers": "strict",
          "coloraxis": {
           "colorbar": {
            "outlinewidth": 0,
            "ticks": ""
           }
          },
          "colorscale": {
           "diverging": [
            [
             0,
             "#8e0152"
            ],
            [
             0.1,
             "#c51b7d"
            ],
            [
             0.2,
             "#de77ae"
            ],
            [
             0.3,
             "#f1b6da"
            ],
            [
             0.4,
             "#fde0ef"
            ],
            [
             0.5,
             "#f7f7f7"
            ],
            [
             0.6,
             "#e6f5d0"
            ],
            [
             0.7,
             "#b8e186"
            ],
            [
             0.8,
             "#7fbc41"
            ],
            [
             0.9,
             "#4d9221"
            ],
            [
             1,
             "#276419"
            ]
           ],
           "sequential": [
            [
             0,
             "#0d0887"
            ],
            [
             0.1111111111111111,
             "#46039f"
            ],
            [
             0.2222222222222222,
             "#7201a8"
            ],
            [
             0.3333333333333333,
             "#9c179e"
            ],
            [
             0.4444444444444444,
             "#bd3786"
            ],
            [
             0.5555555555555556,
             "#d8576b"
            ],
            [
             0.6666666666666666,
             "#ed7953"
            ],
            [
             0.7777777777777778,
             "#fb9f3a"
            ],
            [
             0.8888888888888888,
             "#fdca26"
            ],
            [
             1,
             "#f0f921"
            ]
           ],
           "sequentialminus": [
            [
             0,
             "#0d0887"
            ],
            [
             0.1111111111111111,
             "#46039f"
            ],
            [
             0.2222222222222222,
             "#7201a8"
            ],
            [
             0.3333333333333333,
             "#9c179e"
            ],
            [
             0.4444444444444444,
             "#bd3786"
            ],
            [
             0.5555555555555556,
             "#d8576b"
            ],
            [
             0.6666666666666666,
             "#ed7953"
            ],
            [
             0.7777777777777778,
             "#fb9f3a"
            ],
            [
             0.8888888888888888,
             "#fdca26"
            ],
            [
             1,
             "#f0f921"
            ]
           ]
          },
          "colorway": [
           "#636efa",
           "#EF553B",
           "#00cc96",
           "#ab63fa",
           "#FFA15A",
           "#19d3f3",
           "#FF6692",
           "#B6E880",
           "#FF97FF",
           "#FECB52"
          ],
          "font": {
           "color": "#2a3f5f"
          },
          "geo": {
           "bgcolor": "white",
           "lakecolor": "white",
           "landcolor": "#E5ECF6",
           "showlakes": true,
           "showland": true,
           "subunitcolor": "white"
          },
          "hoverlabel": {
           "align": "left"
          },
          "hovermode": "closest",
          "mapbox": {
           "style": "light"
          },
          "paper_bgcolor": "white",
          "plot_bgcolor": "#E5ECF6",
          "polar": {
           "angularaxis": {
            "gridcolor": "white",
            "linecolor": "white",
            "ticks": ""
           },
           "bgcolor": "#E5ECF6",
           "radialaxis": {
            "gridcolor": "white",
            "linecolor": "white",
            "ticks": ""
           }
          },
          "scene": {
           "xaxis": {
            "backgroundcolor": "#E5ECF6",
            "gridcolor": "white",
            "gridwidth": 2,
            "linecolor": "white",
            "showbackground": true,
            "ticks": "",
            "zerolinecolor": "white"
           },
           "yaxis": {
            "backgroundcolor": "#E5ECF6",
            "gridcolor": "white",
            "gridwidth": 2,
            "linecolor": "white",
            "showbackground": true,
            "ticks": "",
            "zerolinecolor": "white"
           },
           "zaxis": {
            "backgroundcolor": "#E5ECF6",
            "gridcolor": "white",
            "gridwidth": 2,
            "linecolor": "white",
            "showbackground": true,
            "ticks": "",
            "zerolinecolor": "white"
           }
          },
          "shapedefaults": {
           "line": {
            "color": "#2a3f5f"
           }
          },
          "ternary": {
           "aaxis": {
            "gridcolor": "white",
            "linecolor": "white",
            "ticks": ""
           },
           "baxis": {
            "gridcolor": "white",
            "linecolor": "white",
            "ticks": ""
           },
           "bgcolor": "#E5ECF6",
           "caxis": {
            "gridcolor": "white",
            "linecolor": "white",
            "ticks": ""
           }
          },
          "title": {
           "x": 0.05
          },
          "xaxis": {
           "automargin": true,
           "gridcolor": "white",
           "linecolor": "white",
           "ticks": "",
           "title": {
            "standoff": 15
           },
           "zerolinecolor": "white",
           "zerolinewidth": 2
          },
          "yaxis": {
           "automargin": true,
           "gridcolor": "white",
           "linecolor": "white",
           "ticks": "",
           "title": {
            "standoff": 15
           },
           "zerolinecolor": "white",
           "zerolinewidth": 2
          }
         }
        },
        "title": {
         "text": "Average Outage Duration by CLIMATE CATEGORY"
        },
        "xaxis": {
         "anchor": "y",
         "domain": [
          0,
          1
         ],
         "title": {
          "text": "Climate Category"
         }
        },
        "yaxis": {
         "anchor": "x",
         "domain": [
          0,
          1
         ],
         "title": {
          "text": "Average Outage Duration (hours)"
         }
        }
       }
      }
     },
     "metadata": {},
     "output_type": "display_data"
    },
    {
     "data": {
      "application/vnd.plotly.v1+json": {
       "config": {
        "plotlyServerURL": "https://plot.ly"
       },
       "data": [
        {
         "coloraxis": "coloraxis",
         "hovertemplate": "Climate Category: %{x}<br>Cause Category: %{y}<br>Outage Count: %{z}<extra></extra>",
         "name": "0",
         "type": "heatmap",
         "x": [
          "cold",
          "normal",
          "warm"
         ],
         "xaxis": "x",
         "y": [
          "equipment failure",
          "fuel supply emergency",
          "intentional attack",
          "islanding",
          "public appeal",
          "severe weather",
          "system operability disruption"
         ],
         "yaxis": "y",
         "z": {
          "bdata": "EQAcAAoAEgARAAMAdQDhAD0ADwARAAwAFgAiAA0A7gBgAZoAJAA5AB4A",
          "dtype": "i2",
          "shape": "7, 3"
         }
        }
       ],
       "layout": {
        "coloraxis": {
         "colorbar": {
          "title": {
           "text": "Outage Count"
          }
         },
         "colorscale": [
          [
           0,
           "#0d0887"
          ],
          [
           0.1111111111111111,
           "#46039f"
          ],
          [
           0.2222222222222222,
           "#7201a8"
          ],
          [
           0.3333333333333333,
           "#9c179e"
          ],
          [
           0.4444444444444444,
           "#bd3786"
          ],
          [
           0.5555555555555556,
           "#d8576b"
          ],
          [
           0.6666666666666666,
           "#ed7953"
          ],
          [
           0.7777777777777778,
           "#fb9f3a"
          ],
          [
           0.8888888888888888,
           "#fdca26"
          ],
          [
           1,
           "#f0f921"
          ]
         ]
        },
        "template": {
         "data": {
          "bar": [
           {
            "error_x": {
             "color": "#2a3f5f"
            },
            "error_y": {
             "color": "#2a3f5f"
            },
            "marker": {
             "line": {
              "color": "#E5ECF6",
              "width": 0.5
             },
             "pattern": {
              "fillmode": "overlay",
              "size": 10,
              "solidity": 0.2
             }
            },
            "type": "bar"
           }
          ],
          "barpolar": [
           {
            "marker": {
             "line": {
              "color": "#E5ECF6",
              "width": 0.5
             },
             "pattern": {
              "fillmode": "overlay",
              "size": 10,
              "solidity": 0.2
             }
            },
            "type": "barpolar"
           }
          ],
          "carpet": [
           {
            "aaxis": {
             "endlinecolor": "#2a3f5f",
             "gridcolor": "white",
             "linecolor": "white",
             "minorgridcolor": "white",
             "startlinecolor": "#2a3f5f"
            },
            "baxis": {
             "endlinecolor": "#2a3f5f",
             "gridcolor": "white",
             "linecolor": "white",
             "minorgridcolor": "white",
             "startlinecolor": "#2a3f5f"
            },
            "type": "carpet"
           }
          ],
          "choropleth": [
           {
            "colorbar": {
             "outlinewidth": 0,
             "ticks": ""
            },
            "type": "choropleth"
           }
          ],
          "contour": [
           {
            "colorbar": {
             "outlinewidth": 0,
             "ticks": ""
            },
            "colorscale": [
             [
              0,
              "#0d0887"
             ],
             [
              0.1111111111111111,
              "#46039f"
             ],
             [
              0.2222222222222222,
              "#7201a8"
             ],
             [
              0.3333333333333333,
              "#9c179e"
             ],
             [
              0.4444444444444444,
              "#bd3786"
             ],
             [
              0.5555555555555556,
              "#d8576b"
             ],
             [
              0.6666666666666666,
              "#ed7953"
             ],
             [
              0.7777777777777778,
              "#fb9f3a"
             ],
             [
              0.8888888888888888,
              "#fdca26"
             ],
             [
              1,
              "#f0f921"
             ]
            ],
            "type": "contour"
           }
          ],
          "contourcarpet": [
           {
            "colorbar": {
             "outlinewidth": 0,
             "ticks": ""
            },
            "type": "contourcarpet"
           }
          ],
          "heatmap": [
           {
            "colorbar": {
             "outlinewidth": 0,
             "ticks": ""
            },
            "colorscale": [
             [
              0,
              "#0d0887"
             ],
             [
              0.1111111111111111,
              "#46039f"
             ],
             [
              0.2222222222222222,
              "#7201a8"
             ],
             [
              0.3333333333333333,
              "#9c179e"
             ],
             [
              0.4444444444444444,
              "#bd3786"
             ],
             [
              0.5555555555555556,
              "#d8576b"
             ],
             [
              0.6666666666666666,
              "#ed7953"
             ],
             [
              0.7777777777777778,
              "#fb9f3a"
             ],
             [
              0.8888888888888888,
              "#fdca26"
             ],
             [
              1,
              "#f0f921"
             ]
            ],
            "type": "heatmap"
           }
          ],
          "histogram": [
           {
            "marker": {
             "pattern": {
              "fillmode": "overlay",
              "size": 10,
              "solidity": 0.2
             }
            },
            "type": "histogram"
           }
          ],
          "histogram2d": [
           {
            "colorbar": {
             "outlinewidth": 0,
             "ticks": ""
            },
            "colorscale": [
             [
              0,
              "#0d0887"
             ],
             [
              0.1111111111111111,
              "#46039f"
             ],
             [
              0.2222222222222222,
              "#7201a8"
             ],
             [
              0.3333333333333333,
              "#9c179e"
             ],
             [
              0.4444444444444444,
              "#bd3786"
             ],
             [
              0.5555555555555556,
              "#d8576b"
             ],
             [
              0.6666666666666666,
              "#ed7953"
             ],
             [
              0.7777777777777778,
              "#fb9f3a"
             ],
             [
              0.8888888888888888,
              "#fdca26"
             ],
             [
              1,
              "#f0f921"
             ]
            ],
            "type": "histogram2d"
           }
          ],
          "histogram2dcontour": [
           {
            "colorbar": {
             "outlinewidth": 0,
             "ticks": ""
            },
            "colorscale": [
             [
              0,
              "#0d0887"
             ],
             [
              0.1111111111111111,
              "#46039f"
             ],
             [
              0.2222222222222222,
              "#7201a8"
             ],
             [
              0.3333333333333333,
              "#9c179e"
             ],
             [
              0.4444444444444444,
              "#bd3786"
             ],
             [
              0.5555555555555556,
              "#d8576b"
             ],
             [
              0.6666666666666666,
              "#ed7953"
             ],
             [
              0.7777777777777778,
              "#fb9f3a"
             ],
             [
              0.8888888888888888,
              "#fdca26"
             ],
             [
              1,
              "#f0f921"
             ]
            ],
            "type": "histogram2dcontour"
           }
          ],
          "mesh3d": [
           {
            "colorbar": {
             "outlinewidth": 0,
             "ticks": ""
            },
            "type": "mesh3d"
           }
          ],
          "parcoords": [
           {
            "line": {
             "colorbar": {
              "outlinewidth": 0,
              "ticks": ""
             }
            },
            "type": "parcoords"
           }
          ],
          "pie": [
           {
            "automargin": true,
            "type": "pie"
           }
          ],
          "scatter": [
           {
            "fillpattern": {
             "fillmode": "overlay",
             "size": 10,
             "solidity": 0.2
            },
            "type": "scatter"
           }
          ],
          "scatter3d": [
           {
            "line": {
             "colorbar": {
              "outlinewidth": 0,
              "ticks": ""
             }
            },
            "marker": {
             "colorbar": {
              "outlinewidth": 0,
              "ticks": ""
             }
            },
            "type": "scatter3d"
           }
          ],
          "scattercarpet": [
           {
            "marker": {
             "colorbar": {
              "outlinewidth": 0,
              "ticks": ""
             }
            },
            "type": "scattercarpet"
           }
          ],
          "scattergeo": [
           {
            "marker": {
             "colorbar": {
              "outlinewidth": 0,
              "ticks": ""
             }
            },
            "type": "scattergeo"
           }
          ],
          "scattergl": [
           {
            "marker": {
             "colorbar": {
              "outlinewidth": 0,
              "ticks": ""
             }
            },
            "type": "scattergl"
           }
          ],
          "scattermap": [
           {
            "marker": {
             "colorbar": {
              "outlinewidth": 0,
              "ticks": ""
             }
            },
            "type": "scattermap"
           }
          ],
          "scattermapbox": [
           {
            "marker": {
             "colorbar": {
              "outlinewidth": 0,
              "ticks": ""
             }
            },
            "type": "scattermapbox"
           }
          ],
          "scatterpolar": [
           {
            "marker": {
             "colorbar": {
              "outlinewidth": 0,
              "ticks": ""
             }
            },
            "type": "scatterpolar"
           }
          ],
          "scatterpolargl": [
           {
            "marker": {
             "colorbar": {
              "outlinewidth": 0,
              "ticks": ""
             }
            },
            "type": "scatterpolargl"
           }
          ],
          "scatterternary": [
           {
            "marker": {
             "colorbar": {
              "outlinewidth": 0,
              "ticks": ""
             }
            },
            "type": "scatterternary"
           }
          ],
          "surface": [
           {
            "colorbar": {
             "outlinewidth": 0,
             "ticks": ""
            },
            "colorscale": [
             [
              0,
              "#0d0887"
             ],
             [
              0.1111111111111111,
              "#46039f"
             ],
             [
              0.2222222222222222,
              "#7201a8"
             ],
             [
              0.3333333333333333,
              "#9c179e"
             ],
             [
              0.4444444444444444,
              "#bd3786"
             ],
             [
              0.5555555555555556,
              "#d8576b"
             ],
             [
              0.6666666666666666,
              "#ed7953"
             ],
             [
              0.7777777777777778,
              "#fb9f3a"
             ],
             [
              0.8888888888888888,
              "#fdca26"
             ],
             [
              1,
              "#f0f921"
             ]
            ],
            "type": "surface"
           }
          ],
          "table": [
           {
            "cells": {
             "fill": {
              "color": "#EBF0F8"
             },
             "line": {
              "color": "white"
             }
            },
            "header": {
             "fill": {
              "color": "#C8D4E3"
             },
             "line": {
              "color": "white"
             }
            },
            "type": "table"
           }
          ]
         },
         "layout": {
          "annotationdefaults": {
           "arrowcolor": "#2a3f5f",
           "arrowhead": 0,
           "arrowwidth": 1
          },
          "autotypenumbers": "strict",
          "coloraxis": {
           "colorbar": {
            "outlinewidth": 0,
            "ticks": ""
           }
          },
          "colorscale": {
           "diverging": [
            [
             0,
             "#8e0152"
            ],
            [
             0.1,
             "#c51b7d"
            ],
            [
             0.2,
             "#de77ae"
            ],
            [
             0.3,
             "#f1b6da"
            ],
            [
             0.4,
             "#fde0ef"
            ],
            [
             0.5,
             "#f7f7f7"
            ],
            [
             0.6,
             "#e6f5d0"
            ],
            [
             0.7,
             "#b8e186"
            ],
            [
             0.8,
             "#7fbc41"
            ],
            [
             0.9,
             "#4d9221"
            ],
            [
             1,
             "#276419"
            ]
           ],
           "sequential": [
            [
             0,
             "#0d0887"
            ],
            [
             0.1111111111111111,
             "#46039f"
            ],
            [
             0.2222222222222222,
             "#7201a8"
            ],
            [
             0.3333333333333333,
             "#9c179e"
            ],
            [
             0.4444444444444444,
             "#bd3786"
            ],
            [
             0.5555555555555556,
             "#d8576b"
            ],
            [
             0.6666666666666666,
             "#ed7953"
            ],
            [
             0.7777777777777778,
             "#fb9f3a"
            ],
            [
             0.8888888888888888,
             "#fdca26"
            ],
            [
             1,
             "#f0f921"
            ]
           ],
           "sequentialminus": [
            [
             0,
             "#0d0887"
            ],
            [
             0.1111111111111111,
             "#46039f"
            ],
            [
             0.2222222222222222,
             "#7201a8"
            ],
            [
             0.3333333333333333,
             "#9c179e"
            ],
            [
             0.4444444444444444,
             "#bd3786"
            ],
            [
             0.5555555555555556,
             "#d8576b"
            ],
            [
             0.6666666666666666,
             "#ed7953"
            ],
            [
             0.7777777777777778,
             "#fb9f3a"
            ],
            [
             0.8888888888888888,
             "#fdca26"
            ],
            [
             1,
             "#f0f921"
            ]
           ]
          },
          "colorway": [
           "#636efa",
           "#EF553B",
           "#00cc96",
           "#ab63fa",
           "#FFA15A",
           "#19d3f3",
           "#FF6692",
           "#B6E880",
           "#FF97FF",
           "#FECB52"
          ],
          "font": {
           "color": "#2a3f5f"
          },
          "geo": {
           "bgcolor": "white",
           "lakecolor": "white",
           "landcolor": "#E5ECF6",
           "showlakes": true,
           "showland": true,
           "subunitcolor": "white"
          },
          "hoverlabel": {
           "align": "left"
          },
          "hovermode": "closest",
          "mapbox": {
           "style": "light"
          },
          "paper_bgcolor": "white",
          "plot_bgcolor": "#E5ECF6",
          "polar": {
           "angularaxis": {
            "gridcolor": "white",
            "linecolor": "white",
            "ticks": ""
           },
           "bgcolor": "#E5ECF6",
           "radialaxis": {
            "gridcolor": "white",
            "linecolor": "white",
            "ticks": ""
           }
          },
          "scene": {
           "xaxis": {
            "backgroundcolor": "#E5ECF6",
            "gridcolor": "white",
            "gridwidth": 2,
            "linecolor": "white",
            "showbackground": true,
            "ticks": "",
            "zerolinecolor": "white"
           },
           "yaxis": {
            "backgroundcolor": "#E5ECF6",
            "gridcolor": "white",
            "gridwidth": 2,
            "linecolor": "white",
            "showbackground": true,
            "ticks": "",
            "zerolinecolor": "white"
           },
           "zaxis": {
            "backgroundcolor": "#E5ECF6",
            "gridcolor": "white",
            "gridwidth": 2,
            "linecolor": "white",
            "showbackground": true,
            "ticks": "",
            "zerolinecolor": "white"
           }
          },
          "shapedefaults": {
           "line": {
            "color": "#2a3f5f"
           }
          },
          "ternary": {
           "aaxis": {
            "gridcolor": "white",
            "linecolor": "white",
            "ticks": ""
           },
           "baxis": {
            "gridcolor": "white",
            "linecolor": "white",
            "ticks": ""
           },
           "bgcolor": "#E5ECF6",
           "caxis": {
            "gridcolor": "white",
            "linecolor": "white",
            "ticks": ""
           }
          },
          "title": {
           "x": 0.05
          },
          "xaxis": {
           "automargin": true,
           "gridcolor": "white",
           "linecolor": "white",
           "ticks": "",
           "title": {
            "standoff": 15
           },
           "zerolinecolor": "white",
           "zerolinewidth": 2
          },
          "yaxis": {
           "automargin": true,
           "gridcolor": "white",
           "linecolor": "white",
           "ticks": "",
           "title": {
            "standoff": 15
           },
           "zerolinecolor": "white",
           "zerolinewidth": 2
          }
         }
        },
        "title": {
         "text": "Outage Count by CAUSE CATEGORY and CLIMATE CATEGORY"
        },
        "xaxis": {
         "anchor": "y",
         "constrain": "domain",
         "domain": [
          0,
          1
         ],
         "scaleanchor": "y",
         "title": {
          "text": "Climate Category"
         }
        },
        "yaxis": {
         "anchor": "x",
         "autorange": "reversed",
         "constrain": "domain",
         "domain": [
          0,
          1
         ],
         "title": {
          "text": "Cause Category"
         }
        }
       }
      }
     },
     "metadata": {},
     "output_type": "display_data"
    },
    {
     "data": {
      "application/vnd.plotly.v1+json": {
       "config": {
        "plotlyServerURL": "https://plot.ly"
       },
       "data": [
        {
         "hovertemplate": "State=%{x}<br>Maximum Anomaly Level=%{y}<extra></extra>",
         "legendgroup": "",
         "marker": {
          "color": "#636efa",
          "pattern": {
           "shape": ""
          }
         },
         "name": "",
         "orientation": "v",
         "showlegend": false,
         "textposition": "auto",
         "type": "bar",
         "x": [
          "Alabama",
          "Alaska",
          "Arizona",
          "Arkansas",
          "California",
          "Colorado",
          "Connecticut",
          "Delaware",
          "District of Columbia",
          "Florida",
          "Georgia",
          "Hawaii",
          "Idaho",
          "Illinois",
          "Indiana",
          "Iowa",
          "Kansas",
          "Kentucky",
          "Louisiana",
          "Maine",
          "Maryland",
          "Massachusetts",
          "Michigan",
          "Minnesota",
          "Mississippi",
          "Missouri",
          "Montana",
          "Nebraska",
          "Nevada",
          "New Hampshire",
          "New Jersey",
          "New Mexico",
          "New York",
          "North Carolina",
          "North Dakota",
          "Ohio",
          "Oklahoma",
          "Oregon",
          "Pennsylvania",
          "South Carolina",
          "South Dakota",
          "Tennessee",
          "Texas",
          "Utah",
          "Vermont",
          "Virginia",
          "Washington",
          "West Virginia",
          "Wisconsin",
          "Wyoming"
         ],
         "xaxis": "x",
         "y": {
          "bdata": "ux6F61G4rr8AAAAAAAD4f48kSZIkSZK/OLTIdr6fur/fyWp5YwSjv7oehetRuK4/oPRJn/RJz789CtejcD3Kvz0K16NwPdq/QxvotIFOez+Uk5OTk5OzP7YehetRuK4/ExERERERoT8DnTbQaQPNv42fFtv4adG/NDMzMzMzy78AAAAAAADoP37gB37gB96/SOF6FK5Hsb+1YwXCSDvWv5Z7GmG5p8G/VVVVVVVVxb/V77klTv2+vwOdNtBpA82/NDMzMzMzsz8RGBgYGBiYP1VVVVVVVdW/AAAAAAAAwL8d1EEd1EHNP0Id1EEd1NG/BcSm0pBzv780MzMzMzPbv40qt5bFur+/1DVd0zVdw7/NzMzMzMzsv6R6D0Wq98C/7+7u7u7u0j8XeqEXeqHHP58mGTT+acK/ZmZmZmZm4L8AAAAAAADgPxESEhISEpK/EQRBEARBoL8+EL8D8TugvxzHcRzHccy/9Emf9Emf1L8gdFTgi6uvv5mZmZmZmck/R+F6FK5H0b+ZmZmZmZnZvw==",
          "dtype": "f8"
         },
         "yaxis": "y"
        }
       ],
       "layout": {
        "barmode": "relative",
        "legend": {
         "tracegroupgap": 0
        },
        "template": {
         "data": {
          "bar": [
           {
            "error_x": {
             "color": "#2a3f5f"
            },
            "error_y": {
             "color": "#2a3f5f"
            },
            "marker": {
             "line": {
              "color": "#E5ECF6",
              "width": 0.5
             },
             "pattern": {
              "fillmode": "overlay",
              "size": 10,
              "solidity": 0.2
             }
            },
            "type": "bar"
           }
          ],
          "barpolar": [
           {
            "marker": {
             "line": {
              "color": "#E5ECF6",
              "width": 0.5
             },
             "pattern": {
              "fillmode": "overlay",
              "size": 10,
              "solidity": 0.2
             }
            },
            "type": "barpolar"
           }
          ],
          "carpet": [
           {
            "aaxis": {
             "endlinecolor": "#2a3f5f",
             "gridcolor": "white",
             "linecolor": "white",
             "minorgridcolor": "white",
             "startlinecolor": "#2a3f5f"
            },
            "baxis": {
             "endlinecolor": "#2a3f5f",
             "gridcolor": "white",
             "linecolor": "white",
             "minorgridcolor": "white",
             "startlinecolor": "#2a3f5f"
            },
            "type": "carpet"
           }
          ],
          "choropleth": [
           {
            "colorbar": {
             "outlinewidth": 0,
             "ticks": ""
            },
            "type": "choropleth"
           }
          ],
          "contour": [
           {
            "colorbar": {
             "outlinewidth": 0,
             "ticks": ""
            },
            "colorscale": [
             [
              0,
              "#0d0887"
             ],
             [
              0.1111111111111111,
              "#46039f"
             ],
             [
              0.2222222222222222,
              "#7201a8"
             ],
             [
              0.3333333333333333,
              "#9c179e"
             ],
             [
              0.4444444444444444,
              "#bd3786"
             ],
             [
              0.5555555555555556,
              "#d8576b"
             ],
             [
              0.6666666666666666,
              "#ed7953"
             ],
             [
              0.7777777777777778,
              "#fb9f3a"
             ],
             [
              0.8888888888888888,
              "#fdca26"
             ],
             [
              1,
              "#f0f921"
             ]
            ],
            "type": "contour"
           }
          ],
          "contourcarpet": [
           {
            "colorbar": {
             "outlinewidth": 0,
             "ticks": ""
            },
            "type": "contourcarpet"
           }
          ],
          "heatmap": [
           {
            "colorbar": {
             "outlinewidth": 0,
             "ticks": ""
            },
            "colorscale": [
             [
              0,
              "#0d0887"
             ],
             [
              0.1111111111111111,
              "#46039f"
             ],
             [
              0.2222222222222222,
              "#7201a8"
             ],
             [
              0.3333333333333333,
              "#9c179e"
             ],
             [
              0.4444444444444444,
              "#bd3786"
             ],
             [
              0.5555555555555556,
              "#d8576b"
             ],
             [
              0.6666666666666666,
              "#ed7953"
             ],
             [
              0.7777777777777778,
              "#fb9f3a"
             ],
             [
              0.8888888888888888,
              "#fdca26"
             ],
             [
              1,
              "#f0f921"
             ]
            ],
            "type": "heatmap"
           }
          ],
          "histogram": [
           {
            "marker": {
             "pattern": {
              "fillmode": "overlay",
              "size": 10,
              "solidity": 0.2
             }
            },
            "type": "histogram"
           }
          ],
          "histogram2d": [
           {
            "colorbar": {
             "outlinewidth": 0,
             "ticks": ""
            },
            "colorscale": [
             [
              0,
              "#0d0887"
             ],
             [
              0.1111111111111111,
              "#46039f"
             ],
             [
              0.2222222222222222,
              "#7201a8"
             ],
             [
              0.3333333333333333,
              "#9c179e"
             ],
             [
              0.4444444444444444,
              "#bd3786"
             ],
             [
              0.5555555555555556,
              "#d8576b"
             ],
             [
              0.6666666666666666,
              "#ed7953"
             ],
             [
              0.7777777777777778,
              "#fb9f3a"
             ],
             [
              0.8888888888888888,
              "#fdca26"
             ],
             [
              1,
              "#f0f921"
             ]
            ],
            "type": "histogram2d"
           }
          ],
          "histogram2dcontour": [
           {
            "colorbar": {
             "outlinewidth": 0,
             "ticks": ""
            },
            "colorscale": [
             [
              0,
              "#0d0887"
             ],
             [
              0.1111111111111111,
              "#46039f"
             ],
             [
              0.2222222222222222,
              "#7201a8"
             ],
             [
              0.3333333333333333,
              "#9c179e"
             ],
             [
              0.4444444444444444,
              "#bd3786"
             ],
             [
              0.5555555555555556,
              "#d8576b"
             ],
             [
              0.6666666666666666,
              "#ed7953"
             ],
             [
              0.7777777777777778,
              "#fb9f3a"
             ],
             [
              0.8888888888888888,
              "#fdca26"
             ],
             [
              1,
              "#f0f921"
             ]
            ],
            "type": "histogram2dcontour"
           }
          ],
          "mesh3d": [
           {
            "colorbar": {
             "outlinewidth": 0,
             "ticks": ""
            },
            "type": "mesh3d"
           }
          ],
          "parcoords": [
           {
            "line": {
             "colorbar": {
              "outlinewidth": 0,
              "ticks": ""
             }
            },
            "type": "parcoords"
           }
          ],
          "pie": [
           {
            "automargin": true,
            "type": "pie"
           }
          ],
          "scatter": [
           {
            "fillpattern": {
             "fillmode": "overlay",
             "size": 10,
             "solidity": 0.2
            },
            "type": "scatter"
           }
          ],
          "scatter3d": [
           {
            "line": {
             "colorbar": {
              "outlinewidth": 0,
              "ticks": ""
             }
            },
            "marker": {
             "colorbar": {
              "outlinewidth": 0,
              "ticks": ""
             }
            },
            "type": "scatter3d"
           }
          ],
          "scattercarpet": [
           {
            "marker": {
             "colorbar": {
              "outlinewidth": 0,
              "ticks": ""
             }
            },
            "type": "scattercarpet"
           }
          ],
          "scattergeo": [
           {
            "marker": {
             "colorbar": {
              "outlinewidth": 0,
              "ticks": ""
             }
            },
            "type": "scattergeo"
           }
          ],
          "scattergl": [
           {
            "marker": {
             "colorbar": {
              "outlinewidth": 0,
              "ticks": ""
             }
            },
            "type": "scattergl"
           }
          ],
          "scattermap": [
           {
            "marker": {
             "colorbar": {
              "outlinewidth": 0,
              "ticks": ""
             }
            },
            "type": "scattermap"
           }
          ],
          "scattermapbox": [
           {
            "marker": {
             "colorbar": {
              "outlinewidth": 0,
              "ticks": ""
             }
            },
            "type": "scattermapbox"
           }
          ],
          "scatterpolar": [
           {
            "marker": {
             "colorbar": {
              "outlinewidth": 0,
              "ticks": ""
             }
            },
            "type": "scatterpolar"
           }
          ],
          "scatterpolargl": [
           {
            "marker": {
             "colorbar": {
              "outlinewidth": 0,
              "ticks": ""
             }
            },
            "type": "scatterpolargl"
           }
          ],
          "scatterternary": [
           {
            "marker": {
             "colorbar": {
              "outlinewidth": 0,
              "ticks": ""
             }
            },
            "type": "scatterternary"
           }
          ],
          "surface": [
           {
            "colorbar": {
             "outlinewidth": 0,
             "ticks": ""
            },
            "colorscale": [
             [
              0,
              "#0d0887"
             ],
             [
              0.1111111111111111,
              "#46039f"
             ],
             [
              0.2222222222222222,
              "#7201a8"
             ],
             [
              0.3333333333333333,
              "#9c179e"
             ],
             [
              0.4444444444444444,
              "#bd3786"
             ],
             [
              0.5555555555555556,
              "#d8576b"
             ],
             [
              0.6666666666666666,
              "#ed7953"
             ],
             [
              0.7777777777777778,
              "#fb9f3a"
             ],
             [
              0.8888888888888888,
              "#fdca26"
             ],
             [
              1,
              "#f0f921"
             ]
            ],
            "type": "surface"
           }
          ],
          "table": [
           {
            "cells": {
             "fill": {
              "color": "#EBF0F8"
             },
             "line": {
              "color": "white"
             }
            },
            "header": {
             "fill": {
              "color": "#C8D4E3"
             },
             "line": {
              "color": "white"
             }
            },
            "type": "table"
           }
          ]
         },
         "layout": {
          "annotationdefaults": {
           "arrowcolor": "#2a3f5f",
           "arrowhead": 0,
           "arrowwidth": 1
          },
          "autotypenumbers": "strict",
          "coloraxis": {
           "colorbar": {
            "outlinewidth": 0,
            "ticks": ""
           }
          },
          "colorscale": {
           "diverging": [
            [
             0,
             "#8e0152"
            ],
            [
             0.1,
             "#c51b7d"
            ],
            [
             0.2,
             "#de77ae"
            ],
            [
             0.3,
             "#f1b6da"
            ],
            [
             0.4,
             "#fde0ef"
            ],
            [
             0.5,
             "#f7f7f7"
            ],
            [
             0.6,
             "#e6f5d0"
            ],
            [
             0.7,
             "#b8e186"
            ],
            [
             0.8,
             "#7fbc41"
            ],
            [
             0.9,
             "#4d9221"
            ],
            [
             1,
             "#276419"
            ]
           ],
           "sequential": [
            [
             0,
             "#0d0887"
            ],
            [
             0.1111111111111111,
             "#46039f"
            ],
            [
             0.2222222222222222,
             "#7201a8"
            ],
            [
             0.3333333333333333,
             "#9c179e"
            ],
            [
             0.4444444444444444,
             "#bd3786"
            ],
            [
             0.5555555555555556,
             "#d8576b"
            ],
            [
             0.6666666666666666,
             "#ed7953"
            ],
            [
             0.7777777777777778,
             "#fb9f3a"
            ],
            [
             0.8888888888888888,
             "#fdca26"
            ],
            [
             1,
             "#f0f921"
            ]
           ],
           "sequentialminus": [
            [
             0,
             "#0d0887"
            ],
            [
             0.1111111111111111,
             "#46039f"
            ],
            [
             0.2222222222222222,
             "#7201a8"
            ],
            [
             0.3333333333333333,
             "#9c179e"
            ],
            [
             0.4444444444444444,
             "#bd3786"
            ],
            [
             0.5555555555555556,
             "#d8576b"
            ],
            [
             0.6666666666666666,
             "#ed7953"
            ],
            [
             0.7777777777777778,
             "#fb9f3a"
            ],
            [
             0.8888888888888888,
             "#fdca26"
            ],
            [
             1,
             "#f0f921"
            ]
           ]
          },
          "colorway": [
           "#636efa",
           "#EF553B",
           "#00cc96",
           "#ab63fa",
           "#FFA15A",
           "#19d3f3",
           "#FF6692",
           "#B6E880",
           "#FF97FF",
           "#FECB52"
          ],
          "font": {
           "color": "#2a3f5f"
          },
          "geo": {
           "bgcolor": "white",
           "lakecolor": "white",
           "landcolor": "#E5ECF6",
           "showlakes": true,
           "showland": true,
           "subunitcolor": "white"
          },
          "hoverlabel": {
           "align": "left"
          },
          "hovermode": "closest",
          "mapbox": {
           "style": "light"
          },
          "paper_bgcolor": "white",
          "plot_bgcolor": "#E5ECF6",
          "polar": {
           "angularaxis": {
            "gridcolor": "white",
            "linecolor": "white",
            "ticks": ""
           },
           "bgcolor": "#E5ECF6",
           "radialaxis": {
            "gridcolor": "white",
            "linecolor": "white",
            "ticks": ""
           }
          },
          "scene": {
           "xaxis": {
            "backgroundcolor": "#E5ECF6",
            "gridcolor": "white",
            "gridwidth": 2,
            "linecolor": "white",
            "showbackground": true,
            "ticks": "",
            "zerolinecolor": "white"
           },
           "yaxis": {
            "backgroundcolor": "#E5ECF6",
            "gridcolor": "white",
            "gridwidth": 2,
            "linecolor": "white",
            "showbackground": true,
            "ticks": "",
            "zerolinecolor": "white"
           },
           "zaxis": {
            "backgroundcolor": "#E5ECF6",
            "gridcolor": "white",
            "gridwidth": 2,
            "linecolor": "white",
            "showbackground": true,
            "ticks": "",
            "zerolinecolor": "white"
           }
          },
          "shapedefaults": {
           "line": {
            "color": "#2a3f5f"
           }
          },
          "ternary": {
           "aaxis": {
            "gridcolor": "white",
            "linecolor": "white",
            "ticks": ""
           },
           "baxis": {
            "gridcolor": "white",
            "linecolor": "white",
            "ticks": ""
           },
           "bgcolor": "#E5ECF6",
           "caxis": {
            "gridcolor": "white",
            "linecolor": "white",
            "ticks": ""
           }
          },
          "title": {
           "x": 0.05
          },
          "xaxis": {
           "automargin": true,
           "gridcolor": "white",
           "linecolor": "white",
           "ticks": "",
           "title": {
            "standoff": 15
           },
           "zerolinecolor": "white",
           "zerolinewidth": 2
          },
          "yaxis": {
           "automargin": true,
           "gridcolor": "white",
           "linecolor": "white",
           "ticks": "",
           "title": {
            "standoff": 15
           },
           "zerolinecolor": "white",
           "zerolinewidth": 2
          }
         }
        },
        "title": {
         "text": "Maximum Anomaly Level by STATE"
        },
        "xaxis": {
         "anchor": "y",
         "domain": [
          0,
          1
         ],
         "title": {
          "text": "State"
         }
        },
        "yaxis": {
         "anchor": "x",
         "domain": [
          0,
          1
         ],
         "title": {
          "text": "Maximum Anomaly Level"
         }
        }
       }
      }
     },
     "metadata": {},
     "output_type": "display_data"
    },
    {
     "data": {
      "application/vnd.plotly.v1+json": {
       "config": {
        "plotlyServerURL": "https://plot.ly"
       },
       "data": [
        {
         "hovertemplate": "ANOMALY.LEVEL=%{x}<br>OUTAGE.DURATION=%{y}<extra></extra>",
         "legendgroup": "",
         "marker": {
          "color": "#636efa",
          "symbol": "circle"
         },
         "mode": "markers",
         "name": "",
         "showlegend": false,
         "type": "scattergl",
         "x": {
          "bdata": "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",
          "dtype": "f8"
         },
         "xaxis": "x",
         "y": {
          "bdata": "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",
          "dtype": "f8"
         },
         "yaxis": "y"
        }
       ],
       "layout": {
        "legend": {
         "tracegroupgap": 0
        },
        "margin": {
         "t": 60
        },
        "template": {
         "data": {
          "bar": [
           {
            "error_x": {
             "color": "#2a3f5f"
            },
            "error_y": {
             "color": "#2a3f5f"
            },
            "marker": {
             "line": {
              "color": "#E5ECF6",
              "width": 0.5
             },
             "pattern": {
              "fillmode": "overlay",
              "size": 10,
              "solidity": 0.2
             }
            },
            "type": "bar"
           }
          ],
          "barpolar": [
           {
            "marker": {
             "line": {
              "color": "#E5ECF6",
              "width": 0.5
             },
             "pattern": {
              "fillmode": "overlay",
              "size": 10,
              "solidity": 0.2
             }
            },
            "type": "barpolar"
           }
          ],
          "carpet": [
           {
            "aaxis": {
             "endlinecolor": "#2a3f5f",
             "gridcolor": "white",
             "linecolor": "white",
             "minorgridcolor": "white",
             "startlinecolor": "#2a3f5f"
            },
            "baxis": {
             "endlinecolor": "#2a3f5f",
             "gridcolor": "white",
             "linecolor": "white",
             "minorgridcolor": "white",
             "startlinecolor": "#2a3f5f"
            },
            "type": "carpet"
           }
          ],
          "choropleth": [
           {
            "colorbar": {
             "outlinewidth": 0,
             "ticks": ""
            },
            "type": "choropleth"
           }
          ],
          "contour": [
           {
            "colorbar": {
             "outlinewidth": 0,
             "ticks": ""
            },
            "colorscale": [
             [
              0,
              "#0d0887"
             ],
             [
              0.1111111111111111,
              "#46039f"
             ],
             [
              0.2222222222222222,
              "#7201a8"
             ],
             [
              0.3333333333333333,
              "#9c179e"
             ],
             [
              0.4444444444444444,
              "#bd3786"
             ],
             [
              0.5555555555555556,
              "#d8576b"
             ],
             [
              0.6666666666666666,
              "#ed7953"
             ],
             [
              0.7777777777777778,
              "#fb9f3a"
             ],
             [
              0.8888888888888888,
              "#fdca26"
             ],
             [
              1,
              "#f0f921"
             ]
            ],
            "type": "contour"
           }
          ],
          "contourcarpet": [
           {
            "colorbar": {
             "outlinewidth": 0,
             "ticks": ""
            },
            "type": "contourcarpet"
           }
          ],
          "heatmap": [
           {
            "colorbar": {
             "outlinewidth": 0,
             "ticks": ""
            },
            "colorscale": [
             [
              0,
              "#0d0887"
             ],
             [
              0.1111111111111111,
              "#46039f"
             ],
             [
              0.2222222222222222,
              "#7201a8"
             ],
             [
              0.3333333333333333,
              "#9c179e"
             ],
             [
              0.4444444444444444,
              "#bd3786"
             ],
             [
              0.5555555555555556,
              "#d8576b"
             ],
             [
              0.6666666666666666,
              "#ed7953"
             ],
             [
              0.7777777777777778,
              "#fb9f3a"
             ],
             [
              0.8888888888888888,
              "#fdca26"
             ],
             [
              1,
              "#f0f921"
             ]
            ],
            "type": "heatmap"
           }
          ],
          "histogram": [
           {
            "marker": {
             "pattern": {
              "fillmode": "overlay",
              "size": 10,
              "solidity": 0.2
             }
            },
            "type": "histogram"
           }
          ],
          "histogram2d": [
           {
            "colorbar": {
             "outlinewidth": 0,
             "ticks": ""
            },
            "colorscale": [
             [
              0,
              "#0d0887"
             ],
             [
              0.1111111111111111,
              "#46039f"
             ],
             [
              0.2222222222222222,
              "#7201a8"
             ],
             [
              0.3333333333333333,
              "#9c179e"
             ],
             [
              0.4444444444444444,
              "#bd3786"
             ],
             [
              0.5555555555555556,
              "#d8576b"
             ],
             [
              0.6666666666666666,
              "#ed7953"
             ],
             [
              0.7777777777777778,
              "#fb9f3a"
             ],
             [
              0.8888888888888888,
              "#fdca26"
             ],
             [
              1,
              "#f0f921"
             ]
            ],
            "type": "histogram2d"
           }
          ],
          "histogram2dcontour": [
           {
            "colorbar": {
             "outlinewidth": 0,
             "ticks": ""
            },
            "colorscale": [
             [
              0,
              "#0d0887"
             ],
             [
              0.1111111111111111,
              "#46039f"
             ],
             [
              0.2222222222222222,
              "#7201a8"
             ],
             [
              0.3333333333333333,
              "#9c179e"
             ],
             [
              0.4444444444444444,
              "#bd3786"
             ],
             [
              0.5555555555555556,
              "#d8576b"
             ],
             [
              0.6666666666666666,
              "#ed7953"
             ],
             [
              0.7777777777777778,
              "#fb9f3a"
             ],
             [
              0.8888888888888888,
              "#fdca26"
             ],
             [
              1,
              "#f0f921"
             ]
            ],
            "type": "histogram2dcontour"
           }
          ],
          "mesh3d": [
           {
            "colorbar": {
             "outlinewidth": 0,
             "ticks": ""
            },
            "type": "mesh3d"
           }
          ],
          "parcoords": [
           {
            "line": {
             "colorbar": {
              "outlinewidth": 0,
              "ticks": ""
             }
            },
            "type": "parcoords"
           }
          ],
          "pie": [
           {
            "automargin": true,
            "type": "pie"
           }
          ],
          "scatter": [
           {
            "fillpattern": {
             "fillmode": "overlay",
             "size": 10,
             "solidity": 0.2
            },
            "type": "scatter"
           }
          ],
          "scatter3d": [
           {
            "line": {
             "colorbar": {
              "outlinewidth": 0,
              "ticks": ""
             }
            },
            "marker": {
             "colorbar": {
              "outlinewidth": 0,
              "ticks": ""
             }
            },
            "type": "scatter3d"
           }
          ],
          "scattercarpet": [
           {
            "marker": {
             "colorbar": {
              "outlinewidth": 0,
              "ticks": ""
             }
            },
            "type": "scattercarpet"
           }
          ],
          "scattergeo": [
           {
            "marker": {
             "colorbar": {
              "outlinewidth": 0,
              "ticks": ""
             }
            },
            "type": "scattergeo"
           }
          ],
          "scattergl": [
           {
            "marker": {
             "colorbar": {
              "outlinewidth": 0,
              "ticks": ""
             }
            },
            "type": "scattergl"
           }
          ],
          "scattermap": [
           {
            "marker": {
             "colorbar": {
              "outlinewidth": 0,
              "ticks": ""
             }
            },
            "type": "scattermap"
           }
          ],
          "scattermapbox": [
           {
            "marker": {
             "colorbar": {
              "outlinewidth": 0,
              "ticks": ""
             }
            },
            "type": "scattermapbox"
           }
          ],
          "scatterpolar": [
           {
            "marker": {
             "colorbar": {
              "outlinewidth": 0,
              "ticks": ""
             }
            },
            "type": "scatterpolar"
           }
          ],
          "scatterpolargl": [
           {
            "marker": {
             "colorbar": {
              "outlinewidth": 0,
              "ticks": ""
             }
            },
            "type": "scatterpolargl"
           }
          ],
          "scatterternary": [
           {
            "marker": {
             "colorbar": {
              "outlinewidth": 0,
              "ticks": ""
             }
            },
            "type": "scatterternary"
           }
          ],
          "surface": [
           {
            "colorbar": {
             "outlinewidth": 0,
             "ticks": ""
            },
            "colorscale": [
             [
              0,
              "#0d0887"
             ],
             [
              0.1111111111111111,
              "#46039f"
             ],
             [
              0.2222222222222222,
              "#7201a8"
             ],
             [
              0.3333333333333333,
              "#9c179e"
             ],
             [
              0.4444444444444444,
              "#bd3786"
             ],
             [
              0.5555555555555556,
              "#d8576b"
             ],
             [
              0.6666666666666666,
              "#ed7953"
             ],
             [
              0.7777777777777778,
              "#fb9f3a"
             ],
             [
              0.8888888888888888,
              "#fdca26"
             ],
             [
              1,
              "#f0f921"
             ]
            ],
            "type": "surface"
           }
          ],
          "table": [
           {
            "cells": {
             "fill": {
              "color": "#EBF0F8"
             },
             "line": {
              "color": "white"
             }
            },
            "header": {
             "fill": {
              "color": "#C8D4E3"
             },
             "line": {
              "color": "white"
             }
            },
            "type": "table"
           }
          ]
         },
         "layout": {
          "annotationdefaults": {
           "arrowcolor": "#2a3f5f",
           "arrowhead": 0,
           "arrowwidth": 1
          },
          "autotypenumbers": "strict",
          "coloraxis": {
           "colorbar": {
            "outlinewidth": 0,
            "ticks": ""
           }
          },
          "colorscale": {
           "diverging": [
            [
             0,
             "#8e0152"
            ],
            [
             0.1,
             "#c51b7d"
            ],
            [
             0.2,
             "#de77ae"
            ],
            [
             0.3,
             "#f1b6da"
            ],
            [
             0.4,
             "#fde0ef"
            ],
            [
             0.5,
             "#f7f7f7"
            ],
            [
             0.6,
             "#e6f5d0"
            ],
            [
             0.7,
             "#b8e186"
            ],
            [
             0.8,
             "#7fbc41"
            ],
            [
             0.9,
             "#4d9221"
            ],
            [
             1,
             "#276419"
            ]
           ],
           "sequential": [
            [
             0,
             "#0d0887"
            ],
            [
             0.1111111111111111,
             "#46039f"
            ],
            [
             0.2222222222222222,
             "#7201a8"
            ],
            [
             0.3333333333333333,
             "#9c179e"
            ],
            [
             0.4444444444444444,
             "#bd3786"
            ],
            [
             0.5555555555555556,
             "#d8576b"
            ],
            [
             0.6666666666666666,
             "#ed7953"
            ],
            [
             0.7777777777777778,
             "#fb9f3a"
            ],
            [
             0.8888888888888888,
             "#fdca26"
            ],
            [
             1,
             "#f0f921"
            ]
           ],
           "sequentialminus": [
            [
             0,
             "#0d0887"
            ],
            [
             0.1111111111111111,
             "#46039f"
            ],
            [
             0.2222222222222222,
             "#7201a8"
            ],
            [
             0.3333333333333333,
             "#9c179e"
            ],
            [
             0.4444444444444444,
             "#bd3786"
            ],
            [
             0.5555555555555556,
             "#d8576b"
            ],
            [
             0.6666666666666666,
             "#ed7953"
            ],
            [
             0.7777777777777778,
             "#fb9f3a"
            ],
            [
             0.8888888888888888,
             "#fdca26"
            ],
            [
             1,
             "#f0f921"
            ]
           ]
          },
          "colorway": [
           "#636efa",
           "#EF553B",
           "#00cc96",
           "#ab63fa",
           "#FFA15A",
           "#19d3f3",
           "#FF6692",
           "#B6E880",
           "#FF97FF",
           "#FECB52"
          ],
          "font": {
           "color": "#2a3f5f"
          },
          "geo": {
           "bgcolor": "white",
           "lakecolor": "white",
           "landcolor": "#E5ECF6",
           "showlakes": true,
           "showland": true,
           "subunitcolor": "white"
          },
          "hoverlabel": {
           "align": "left"
          },
          "hovermode": "closest",
          "mapbox": {
           "style": "light"
          },
          "paper_bgcolor": "white",
          "plot_bgcolor": "#E5ECF6",
          "polar": {
           "angularaxis": {
            "gridcolor": "white",
            "linecolor": "white",
            "ticks": ""
           },
           "bgcolor": "#E5ECF6",
           "radialaxis": {
            "gridcolor": "white",
            "linecolor": "white",
            "ticks": ""
           }
          },
          "scene": {
           "xaxis": {
            "backgroundcolor": "#E5ECF6",
            "gridcolor": "white",
            "gridwidth": 2,
            "linecolor": "white",
            "showbackground": true,
            "ticks": "",
            "zerolinecolor": "white"
           },
           "yaxis": {
            "backgroundcolor": "#E5ECF6",
            "gridcolor": "white",
            "gridwidth": 2,
            "linecolor": "white",
            "showbackground": true,
            "ticks": "",
            "zerolinecolor": "white"
           },
           "zaxis": {
            "backgroundcolor": "#E5ECF6",
            "gridcolor": "white",
            "gridwidth": 2,
            "linecolor": "white",
            "showbackground": true,
            "ticks": "",
            "zerolinecolor": "white"
           }
          },
          "shapedefaults": {
           "line": {
            "color": "#2a3f5f"
           }
          },
          "ternary": {
           "aaxis": {
            "gridcolor": "white",
            "linecolor": "white",
            "ticks": ""
           },
           "baxis": {
            "gridcolor": "white",
            "linecolor": "white",
            "ticks": ""
           },
           "bgcolor": "#E5ECF6",
           "caxis": {
            "gridcolor": "white",
            "linecolor": "white",
            "ticks": ""
           }
          },
          "title": {
           "x": 0.05
          },
          "xaxis": {
           "automargin": true,
           "gridcolor": "white",
           "linecolor": "white",
           "ticks": "",
           "title": {
            "standoff": 15
           },
           "zerolinecolor": "white",
           "zerolinewidth": 2
          },
          "yaxis": {
           "automargin": true,
           "gridcolor": "white",
           "linecolor": "white",
           "ticks": "",
           "title": {
            "standoff": 15
           },
           "zerolinecolor": "white",
           "zerolinewidth": 2
          }
         }
        },
        "xaxis": {
         "anchor": "y",
         "domain": [
          0,
          1
         ],
         "title": {
          "text": "ANOMALY.LEVEL"
         }
        },
        "yaxis": {
         "anchor": "x",
         "domain": [
          0,
          1
         ],
         "title": {
          "text": "OUTAGE.DURATION"
         }
        }
       }
      }
     },
     "metadata": {},
     "output_type": "display_data"
    }
   ],
   "source": [
    "fig1 = px.scatter(outage, x='POPULATION', y='OUTAGE.DURATION')\n",
    "fig2 = px.scatter(outage, x='ANOMALY.LEVEL', y='OUTAGE.DURATION',title='Scatter Plot: ANOMALYLLYRL vs. OUTAGE DURATION',\n",
    "                  labels={'ANOMALY.LEVEL': 'Anomaly Level', 'OUTAGE.DURATION': 'Outage Duration (hours)'})\n",
    "fig3 = px.box(outage, x='CAUSE.CATEGORY', y='OUTAGE.DURATION',\n",
    "              title='Box Plot: OUTAGE DURATION by CAUSE CATEGORY',\n",
    "              labels={'CAUSE.CATEGORY': 'Cause Category', 'OUTAGE.DURATION': 'Outage Duration (hours)'})\n",
    "fig4 = px.histogram(outage, x='ANOMALY.LEVEL', color='CLIMATE.CATEGORY', barmode='overlay',\n",
    "                    title='Conditional Distribution: ANOMALYLLYRL by CLIMATE CATEGORY',\n",
    "                    labels={'ANOMALY.LEVEL': 'Anomaly Level', 'count': 'Frequency'})\n",
    "climate_avg_duration = outage.groupby('CLIMATE.CATEGORY')['OUTAGE.DURATION'].mean().reset_index()\n",
    "fig5 = px.bar(climate_avg_duration, x='CLIMATE.CATEGORY', y='OUTAGE.DURATION',\n",
    "               title='Average Outage Duration by CLIMATE CATEGORY',\n",
    "               \n",
    "               labels={'CLIMATE.CATEGORY': 'Climate Category', 'OUTAGE.DURATION': 'Average Outage Duration (hours)'})\n",
    "\n",
    "\n",
    "\n",
    "\n",
    "# Heatmap: Outage Count by CAUSE CATEGORY and CLIMATE CATEGORY\n",
    "pivot_table = pd.pivot_table(outage, values='OUTAGE.DURATION', index='CAUSE.CATEGORY', columns='CLIMATE.CATEGORY', aggfunc='count')\n",
    "fig6 = px.imshow(pivot_table, labels=dict(x=\"Climate Category\", y=\"Cause Category\", color=\"Outage Count\"),\n",
    "                 title='Outage Count by CAUSE CATEGORY and CLIMATE CATEGORY')\n",
    "\n",
    "\n",
    "# Bar plot: Maximum Anomaly Level by STATE\n",
    "state_max_anomaly = outage.groupby('U.S._STATE')['ANOMALY.LEVEL'].mean().reset_index()\n",
    "fig7 = px.bar(state_max_anomaly, x='U.S._STATE', y='ANOMALY.LEVEL',\n",
    "              title='Maximum Anomaly Level by STATE',\n",
    "              labels={'U.S._STATE': 'State', 'ANOMALY.LEVEL': 'Maximum Anomaly Level'})\n",
    "fig8 = px.scatter(outage, x='ANOMALY.LEVEL', y='OUTAGE.DURATION')\n",
    "fig1.show()\n",
    "fig2.show()\n",
    "fig3.show()\n",
    "fig4.show()\n",
    "fig5.show()\n",
    "fig6.show()\n",
    "fig7.show()\n",
    "fig8.show()\n"
   ]
  },
  {
   "cell_type": "markdown",
   "metadata": {},
   "source": [
    "## Step 3: Assessment of Missingness"
   ]
  },
  {
   "cell_type": "code",
   "execution_count": null,
   "metadata": {},
   "outputs": [],
   "source": [
    "def permutation_test(df, group_col, missing_col, n_permutations=1000):\n",
    "    observed_diff = df.groupby(group_col)[missing_col].mean().diff().abs().sum()\n",
    "    perm_diffs = []\n",
    "    for _ in range(n_permutations):\n",
    "        df_perm = df.copy()\n",
    "        df_perm[missing_col] = np.random.permutation(df_perm[missing_col])\n",
    "        perm_diff = df_perm.groupby(group_col)[missing_col].mean().diff().abs().sum()\n",
    "        perm_diffs.append(perm_diff)\n",
    "    p_value = (np.array(perm_diffs) >= observed_diff).mean()\n",
    "    return p_value"
   ]
  },
  {
   "cell_type": "code",
   "execution_count": 37,
   "metadata": {},
   "outputs": [
    {
     "data": {
      "text/plain": [
       "np.float64(0.565)"
      ]
     },
     "execution_count": 37,
     "metadata": {},
     "output_type": "execute_result"
    }
   ],
   "source": [
    "permutation_test(outage, 'CUSTOMERS.AFFECTED', 'DEMAND.LOSS.MW', n_permutations=1000)"
   ]
  },
  {
   "cell_type": "code",
   "execution_count": 24,
   "metadata": {
    "ExecuteTime": {
     "end_time": "2019-10-31T23:36:28.662099Z",
     "start_time": "2019-10-31T23:36:28.660016Z"
    }
   },
   "outputs": [
    {
     "data": {
      "text/plain": [
       "np.float64(0.001)"
      ]
     },
     "execution_count": 24,
     "metadata": {},
     "output_type": "execute_result"
    }
   ],
   "source": [
    "outage['CAUSE CATEGORY DI_MISSING'] = outage['CAUSE.CATEGORY.DETAIL'].isna().astype(int)\n",
    "observed = outage.groupby('CLIMATE.CATEGORY')['CAUSE CATEGORY DI_MISSING'].mean()\n",
    "p_value = permutation_test(outage, 'CLIMATE.CATEGORY', 'CAUSE CATEGORY DI_MISSING')\n",
    "p_value"
   ]
  },
  {
   "cell_type": "markdown",
   "metadata": {},
   "source": [
    "After doing the permutation test on climate category and cause category missingness, the pval came out to be 0.001  \n",
    "Since pval<0.05, this means missingness is very likely to be dependent on climate category. Additonally, this means cause missingness is Missing at Random (MAR)"
   ]
  },
  {
   "cell_type": "markdown",
   "metadata": {},
   "source": [
    "## Step 4: Hypothesis Testing"
   ]
  },
  {
   "cell_type": "markdown",
   "metadata": {},
   "source": [
    "##### We want to test if outage duration is a factor for economic loss.  \n",
    "Null Hypothesis: Outage duration has no effect on economic loss. The mean economic loss is the same for short and long outages.  \n",
    "Alternative Hypothesis: Outage duration affects ECONOMIC.LOSS. The mean economic loss is higher for long outages compared to short outages.  \n",
    "Test Statistic: difference in mean for economic loss. "
   ]
  },
  {
   "cell_type": "markdown",
   "metadata": {},
   "source": [
    "compute economic loss"
   ]
  },
  {
   "cell_type": "code",
   "execution_count": 25,
   "metadata": {},
   "outputs": [
    {
     "data": {
      "text/html": [
       "<div>\n",
       "<style scoped>\n",
       "    .dataframe tbody tr th:only-of-type {\n",
       "        vertical-align: middle;\n",
       "    }\n",
       "\n",
       "    .dataframe tbody tr th {\n",
       "        vertical-align: top;\n",
       "    }\n",
       "\n",
       "    .dataframe thead th {\n",
       "        text-align: right;\n",
       "    }\n",
       "</style>\n",
       "<table border=\"1\" class=\"dataframe\">\n",
       "  <thead>\n",
       "    <tr style=\"text-align: right;\">\n",
       "      <th></th>\n",
       "      <th>U.S._STATE</th>\n",
       "      <th>POSTAL.CODE</th>\n",
       "      <th>NERC.REGION</th>\n",
       "      <th>CLIMATE.REGION</th>\n",
       "      <th>ANOMALY.LEVEL</th>\n",
       "      <th>CLIMATE.CATEGORY</th>\n",
       "      <th>CAUSE.CATEGORY</th>\n",
       "      <th>CAUSE.CATEGORY.DETAIL</th>\n",
       "      <th>HURRICANE.NAMES</th>\n",
       "      <th>OUTAGE.DURATION</th>\n",
       "      <th>DEMAND.LOSS.MW</th>\n",
       "      <th>CUSTOMERS.AFFECTED</th>\n",
       "      <th>RES.PRICE</th>\n",
       "      <th>COM.PRICE</th>\n",
       "      <th>IND.PRICE</th>\n",
       "      <th>TOTAL.PRICE</th>\n",
       "      <th>POPULATION</th>\n",
       "      <th>OUTAGE_START</th>\n",
       "      <th>OUTAGE_END</th>\n",
       "      <th>CAUSE CATEGORY DI_MISSING</th>\n",
       "    </tr>\n",
       "  </thead>\n",
       "  <tbody>\n",
       "    <tr>\n",
       "      <th>0</th>\n",
       "      <td>Minnesota</td>\n",
       "      <td>MN</td>\n",
       "      <td>MRO</td>\n",
       "      <td>East North Central</td>\n",
       "      <td>-0.3</td>\n",
       "      <td>normal</td>\n",
       "      <td>severe weather</td>\n",
       "      <td>NaN</td>\n",
       "      <td>NaN</td>\n",
       "      <td>3060.0</td>\n",
       "      <td>NaN</td>\n",
       "      <td>70000.0</td>\n",
       "      <td>11.60</td>\n",
       "      <td>9.18</td>\n",
       "      <td>6.81</td>\n",
       "      <td>9.28</td>\n",
       "      <td>5348119</td>\n",
       "      <td>2011-07-01 17:00:00</td>\n",
       "      <td>2011-07-03 20:00:00</td>\n",
       "      <td>1</td>\n",
       "    </tr>\n",
       "    <tr>\n",
       "      <th>1</th>\n",
       "      <td>Minnesota</td>\n",
       "      <td>MN</td>\n",
       "      <td>MRO</td>\n",
       "      <td>East North Central</td>\n",
       "      <td>-0.1</td>\n",
       "      <td>normal</td>\n",
       "      <td>intentional attack</td>\n",
       "      <td>vandalism</td>\n",
       "      <td>NaN</td>\n",
       "      <td>1.0</td>\n",
       "      <td>NaN</td>\n",
       "      <td>NaN</td>\n",
       "      <td>12.12</td>\n",
       "      <td>9.71</td>\n",
       "      <td>6.49</td>\n",
       "      <td>9.28</td>\n",
       "      <td>5457125</td>\n",
       "      <td>2014-05-11 18:38:00</td>\n",
       "      <td>2014-05-11 18:39:00</td>\n",
       "      <td>0</td>\n",
       "    </tr>\n",
       "    <tr>\n",
       "      <th>2</th>\n",
       "      <td>Minnesota</td>\n",
       "      <td>MN</td>\n",
       "      <td>MRO</td>\n",
       "      <td>East North Central</td>\n",
       "      <td>-1.5</td>\n",
       "      <td>cold</td>\n",
       "      <td>severe weather</td>\n",
       "      <td>heavy wind</td>\n",
       "      <td>NaN</td>\n",
       "      <td>3000.0</td>\n",
       "      <td>NaN</td>\n",
       "      <td>70000.0</td>\n",
       "      <td>10.87</td>\n",
       "      <td>8.19</td>\n",
       "      <td>6.07</td>\n",
       "      <td>8.15</td>\n",
       "      <td>5310903</td>\n",
       "      <td>2010-10-26 20:00:00</td>\n",
       "      <td>2010-10-28 22:00:00</td>\n",
       "      <td>0</td>\n",
       "    </tr>\n",
       "    <tr>\n",
       "      <th>3</th>\n",
       "      <td>Minnesota</td>\n",
       "      <td>MN</td>\n",
       "      <td>MRO</td>\n",
       "      <td>East North Central</td>\n",
       "      <td>-0.1</td>\n",
       "      <td>normal</td>\n",
       "      <td>severe weather</td>\n",
       "      <td>thunderstorm</td>\n",
       "      <td>NaN</td>\n",
       "      <td>2550.0</td>\n",
       "      <td>NaN</td>\n",
       "      <td>68200.0</td>\n",
       "      <td>11.79</td>\n",
       "      <td>9.25</td>\n",
       "      <td>6.71</td>\n",
       "      <td>9.19</td>\n",
       "      <td>5380443</td>\n",
       "      <td>2012-06-19 04:30:00</td>\n",
       "      <td>2012-06-20 23:00:00</td>\n",
       "      <td>0</td>\n",
       "    </tr>\n",
       "    <tr>\n",
       "      <th>4</th>\n",
       "      <td>Minnesota</td>\n",
       "      <td>MN</td>\n",
       "      <td>MRO</td>\n",
       "      <td>East North Central</td>\n",
       "      <td>1.2</td>\n",
       "      <td>warm</td>\n",
       "      <td>severe weather</td>\n",
       "      <td>NaN</td>\n",
       "      <td>NaN</td>\n",
       "      <td>1740.0</td>\n",
       "      <td>250.0</td>\n",
       "      <td>250000.0</td>\n",
       "      <td>13.07</td>\n",
       "      <td>10.16</td>\n",
       "      <td>7.74</td>\n",
       "      <td>10.43</td>\n",
       "      <td>5489594</td>\n",
       "      <td>2015-07-18 02:00:00</td>\n",
       "      <td>2015-07-19 07:00:00</td>\n",
       "      <td>1</td>\n",
       "    </tr>\n",
       "    <tr>\n",
       "      <th>...</th>\n",
       "      <td>...</td>\n",
       "      <td>...</td>\n",
       "      <td>...</td>\n",
       "      <td>...</td>\n",
       "      <td>...</td>\n",
       "      <td>...</td>\n",
       "      <td>...</td>\n",
       "      <td>...</td>\n",
       "      <td>...</td>\n",
       "      <td>...</td>\n",
       "      <td>...</td>\n",
       "      <td>...</td>\n",
       "      <td>...</td>\n",
       "      <td>...</td>\n",
       "      <td>...</td>\n",
       "      <td>...</td>\n",
       "      <td>...</td>\n",
       "      <td>...</td>\n",
       "      <td>...</td>\n",
       "      <td>...</td>\n",
       "    </tr>\n",
       "    <tr>\n",
       "      <th>1529</th>\n",
       "      <td>North Dakota</td>\n",
       "      <td>ND</td>\n",
       "      <td>MRO</td>\n",
       "      <td>West North Central</td>\n",
       "      <td>-0.9</td>\n",
       "      <td>cold</td>\n",
       "      <td>public appeal</td>\n",
       "      <td>NaN</td>\n",
       "      <td>NaN</td>\n",
       "      <td>720.0</td>\n",
       "      <td>155.0</td>\n",
       "      <td>34500.0</td>\n",
       "      <td>8.41</td>\n",
       "      <td>7.80</td>\n",
       "      <td>6.20</td>\n",
       "      <td>7.56</td>\n",
       "      <td>685326</td>\n",
       "      <td>2011-12-06 08:00:00</td>\n",
       "      <td>2011-12-06 20:00:00</td>\n",
       "      <td>1</td>\n",
       "    </tr>\n",
       "    <tr>\n",
       "      <th>1530</th>\n",
       "      <td>North Dakota</td>\n",
       "      <td>ND</td>\n",
       "      <td>MRO</td>\n",
       "      <td>West North Central</td>\n",
       "      <td>NaN</td>\n",
       "      <td>NaN</td>\n",
       "      <td>fuel supply emergency</td>\n",
       "      <td>Coal</td>\n",
       "      <td>NaN</td>\n",
       "      <td>NaN</td>\n",
       "      <td>1650.0</td>\n",
       "      <td>NaN</td>\n",
       "      <td>NaN</td>\n",
       "      <td>NaN</td>\n",
       "      <td>NaN</td>\n",
       "      <td>NaN</td>\n",
       "      <td>649422</td>\n",
       "      <td>NaT</td>\n",
       "      <td>NaT</td>\n",
       "      <td>0</td>\n",
       "    </tr>\n",
       "    <tr>\n",
       "      <th>1531</th>\n",
       "      <td>South Dakota</td>\n",
       "      <td>SD</td>\n",
       "      <td>RFC</td>\n",
       "      <td>West North Central</td>\n",
       "      <td>0.5</td>\n",
       "      <td>warm</td>\n",
       "      <td>islanding</td>\n",
       "      <td>NaN</td>\n",
       "      <td>NaN</td>\n",
       "      <td>59.0</td>\n",
       "      <td>84.0</td>\n",
       "      <td>NaN</td>\n",
       "      <td>9.25</td>\n",
       "      <td>7.47</td>\n",
       "      <td>5.53</td>\n",
       "      <td>7.67</td>\n",
       "      <td>807067</td>\n",
       "      <td>2009-08-29 22:54:00</td>\n",
       "      <td>2009-08-29 23:53:00</td>\n",
       "      <td>1</td>\n",
       "    </tr>\n",
       "    <tr>\n",
       "      <th>1532</th>\n",
       "      <td>South Dakota</td>\n",
       "      <td>SD</td>\n",
       "      <td>MRO</td>\n",
       "      <td>West North Central</td>\n",
       "      <td>0.5</td>\n",
       "      <td>warm</td>\n",
       "      <td>islanding</td>\n",
       "      <td>NaN</td>\n",
       "      <td>NaN</td>\n",
       "      <td>181.0</td>\n",
       "      <td>373.0</td>\n",
       "      <td>NaN</td>\n",
       "      <td>9.25</td>\n",
       "      <td>7.47</td>\n",
       "      <td>5.53</td>\n",
       "      <td>7.67</td>\n",
       "      <td>807067</td>\n",
       "      <td>2009-08-29 11:00:00</td>\n",
       "      <td>2009-08-29 14:01:00</td>\n",
       "      <td>1</td>\n",
       "    </tr>\n",
       "    <tr>\n",
       "      <th>1533</th>\n",
       "      <td>Alaska</td>\n",
       "      <td>AK</td>\n",
       "      <td>ASCC</td>\n",
       "      <td>NaN</td>\n",
       "      <td>NaN</td>\n",
       "      <td>NaN</td>\n",
       "      <td>equipment failure</td>\n",
       "      <td>failure</td>\n",
       "      <td>NaN</td>\n",
       "      <td>NaN</td>\n",
       "      <td>35.0</td>\n",
       "      <td>14273.0</td>\n",
       "      <td>NaN</td>\n",
       "      <td>NaN</td>\n",
       "      <td>NaN</td>\n",
       "      <td>NaN</td>\n",
       "      <td>627963</td>\n",
       "      <td>NaT</td>\n",
       "      <td>NaT</td>\n",
       "      <td>0</td>\n",
       "    </tr>\n",
       "  </tbody>\n",
       "</table>\n",
       "<p>1534 rows × 20 columns</p>\n",
       "</div>"
      ],
      "text/plain": [
       "        U.S._STATE POSTAL.CODE NERC.REGION      CLIMATE.REGION  ANOMALY.LEVEL  \\\n",
       "0        Minnesota          MN         MRO  East North Central           -0.3   \n",
       "1        Minnesota          MN         MRO  East North Central           -0.1   \n",
       "2        Minnesota          MN         MRO  East North Central           -1.5   \n",
       "3        Minnesota          MN         MRO  East North Central           -0.1   \n",
       "4        Minnesota          MN         MRO  East North Central            1.2   \n",
       "...            ...         ...         ...                 ...            ...   \n",
       "1529  North Dakota          ND         MRO  West North Central           -0.9   \n",
       "1530  North Dakota          ND         MRO  West North Central            NaN   \n",
       "1531  South Dakota          SD         RFC  West North Central            0.5   \n",
       "1532  South Dakota          SD         MRO  West North Central            0.5   \n",
       "1533        Alaska          AK        ASCC                 NaN            NaN   \n",
       "\n",
       "     CLIMATE.CATEGORY         CAUSE.CATEGORY CAUSE.CATEGORY.DETAIL  \\\n",
       "0              normal         severe weather                   NaN   \n",
       "1              normal     intentional attack             vandalism   \n",
       "2                cold         severe weather            heavy wind   \n",
       "3              normal         severe weather          thunderstorm   \n",
       "4                warm         severe weather                   NaN   \n",
       "...               ...                    ...                   ...   \n",
       "1529             cold          public appeal                   NaN   \n",
       "1530              NaN  fuel supply emergency                  Coal   \n",
       "1531             warm              islanding                   NaN   \n",
       "1532             warm              islanding                   NaN   \n",
       "1533              NaN      equipment failure               failure   \n",
       "\n",
       "     HURRICANE.NAMES  OUTAGE.DURATION  DEMAND.LOSS.MW  CUSTOMERS.AFFECTED  \\\n",
       "0                NaN           3060.0             NaN             70000.0   \n",
       "1                NaN              1.0             NaN                 NaN   \n",
       "2                NaN           3000.0             NaN             70000.0   \n",
       "3                NaN           2550.0             NaN             68200.0   \n",
       "4                NaN           1740.0           250.0            250000.0   \n",
       "...              ...              ...             ...                 ...   \n",
       "1529             NaN            720.0           155.0             34500.0   \n",
       "1530             NaN              NaN          1650.0                 NaN   \n",
       "1531             NaN             59.0            84.0                 NaN   \n",
       "1532             NaN            181.0           373.0                 NaN   \n",
       "1533             NaN              NaN            35.0             14273.0   \n",
       "\n",
       "      RES.PRICE  COM.PRICE  IND.PRICE  TOTAL.PRICE  POPULATION  \\\n",
       "0         11.60       9.18       6.81         9.28     5348119   \n",
       "1         12.12       9.71       6.49         9.28     5457125   \n",
       "2         10.87       8.19       6.07         8.15     5310903   \n",
       "3         11.79       9.25       6.71         9.19     5380443   \n",
       "4         13.07      10.16       7.74        10.43     5489594   \n",
       "...         ...        ...        ...          ...         ...   \n",
       "1529       8.41       7.80       6.20         7.56      685326   \n",
       "1530        NaN        NaN        NaN          NaN      649422   \n",
       "1531       9.25       7.47       5.53         7.67      807067   \n",
       "1532       9.25       7.47       5.53         7.67      807067   \n",
       "1533        NaN        NaN        NaN          NaN      627963   \n",
       "\n",
       "            OUTAGE_START          OUTAGE_END  CAUSE CATEGORY DI_MISSING  \n",
       "0    2011-07-01 17:00:00 2011-07-03 20:00:00                          1  \n",
       "1    2014-05-11 18:38:00 2014-05-11 18:39:00                          0  \n",
       "2    2010-10-26 20:00:00 2010-10-28 22:00:00                          0  \n",
       "3    2012-06-19 04:30:00 2012-06-20 23:00:00                          0  \n",
       "4    2015-07-18 02:00:00 2015-07-19 07:00:00                          1  \n",
       "...                  ...                 ...                        ...  \n",
       "1529 2011-12-06 08:00:00 2011-12-06 20:00:00                          1  \n",
       "1530                 NaT                 NaT                          0  \n",
       "1531 2009-08-29 22:54:00 2009-08-29 23:53:00                          1  \n",
       "1532 2009-08-29 11:00:00 2009-08-29 14:01:00                          1  \n",
       "1533                 NaT                 NaT                          0  \n",
       "\n",
       "[1534 rows x 20 columns]"
      ]
     },
     "execution_count": 25,
     "metadata": {},
     "output_type": "execute_result"
    }
   ],
   "source": [
    "outage"
   ]
  },
  {
   "cell_type": "code",
   "execution_count": null,
   "metadata": {},
   "outputs": [],
   "source": [
    "def test_missingness(df, target_column):\n",
    "    \"\"\"\n",
    "    Tests whether missing values in the target_column are MCAR or MAR.\n",
    "    \n",
    "    Parameters:\n",
    "        df (pd.DataFrame): The input DataFrame.\n",
    "        target_column (str): The column to test for missingness.\n",
    "    \n",
    "    Returns:\n",
    "        str: \"MCAR\" if missing values are completely at random, or\n",
    "             a list of columns that are associated with the missingness of the target column (MAR).\n",
    "    \"\"\"\n",
    "    # Create a binary column indicating if the value is missing in the target column\n",
    "    df_c=df.copy()\n",
    "\n",
    "    df_c['missing_indicator'] = df_c[target_column].isnull().astype(int)\n",
    "    \n",
    "    related_columns = []\n",
    "    \n",
    "    # Test association between missingness and other columns using heuristics\n",
    "    for col in df.columns:\n",
    "        if col != target_column and col != 'missing_indicator':\n",
    "            # Drop rows where both columns are missing\n",
    "            subset = df_c[[col, 'missing_indicator']].dropna()\n",
    "            \n",
    "            # Check if the column is numeric or categorical\n",
    "            if pd.api.types.is_numeric_dtype(df_c[col]):\n",
    "                # Compare means for rows with and without missing values\n",
    "                with_missing = subset[subset['missing_indicator'] == 1][col]\n",
    "                without_missing = subset[subset['missing_indicator'] == 0][col]\n",
    "                \n",
    "                # If the means differ significantly, consider it related\n",
    "                mean_diff = abs(with_missing.mean() - without_missing.mean())\n",
    "                threshold = 0.1 * without_missing.mean()  # 10% threshold\n",
    "                if mean_diff > threshold:\n",
    "                    related_columns.append(col)\n",
    "            else:\n",
    "                # For categorical columns, compare proportions\n",
    "                with_missing_counts = subset[subset['missing_indicator'] == 1][col].value_counts(normalize=True)\n",
    "                without_missing_counts = subset[subset['missing_indicator'] == 0][col].value_counts(normalize=True)\n",
    "                \n",
    "                # If proportions differ significantly, consider it related\n",
    "                proportion_diff = (with_missing_counts - without_missing_counts).abs().sum()\n",
    "                if proportion_diff > 0.1:  # Arbitrary threshold for significant difference\n",
    "                    related_columns.append(col)\n",
    "    \n",
    "    \n",
    "    # Return result\n",
    "    if len(related_columns) == 0:\n",
    "        return \"MCAR\"\n",
    "    else:\n",
    "        return related_columns"
   ]
  },
  {
   "cell_type": "code",
   "execution_count": null,
   "metadata": {},
   "outputs": [],
   "source": [
    "def probabilistic_imputation(df, target_column, related_columns):\n",
    "    \"\"\"\n",
    "    Imputes missing values in the target column using probabilistic imputation \n",
    "    based on related columns.\n",
    "    \n",
    "    Parameters:\n",
    "        df (pd.DataFrame): The input DataFrame.\n",
    "        target_column (str): The column with missing values to impute.\n",
    "        related_columns (list): List of columns related to the target column's missingness.\n",
    "    \n",
    "    Returns:\n",
    "        pd.DataFrame: The DataFrame with the missing values in the target column imputed.\n",
    "    \"\"\"\n",
    "    # Ensure related_columns is a list\n",
    "    if isinstance(related_columns, str) and related_columns == \"MCAR\":\n",
    "        raise ValueError(\"Missingness is MCAR. Use simpler imputation methods like mean/median.\")\n",
    "    \n",
    "    # Ensure the target column and related columns exist in the DataFrame\n",
    "    if target_column not in df.columns or any(col not in df.columns for col in related_columns):\n",
    "        raise ValueError(\"Target column or related columns are not present in the DataFrame.\")\n",
    "    \n",
    "    # Verify that all columns are numeric\n",
    "    if not pd.api.types.is_numeric_dtype(df[target_column]):\n",
    "        raise TypeError(f\"Target column '{target_column}' must be numeric.\")\n",
    "    for col in related_columns:\n",
    "        if not pd.api.types.is_numeric_dtype(df[col]):\n",
    "            raise TypeError(f\"Related column '{col}' must be numeric.\")\n",
    "    \n",
    "    # Split data into rows with and without missing values in the target column\n",
    "    train_data = df[df[target_column].notnull()]\n",
    "    test_data = df[df[target_column].isnull()]\n",
    "    \n",
    "    # Fit a simple linear regression model manually using NumPy\n",
    "    X_train = train_data[related_columns].values  # Independent variables for training\n",
    "    y_train = train_data[target_column].values    # Target variable for training\n",
    "    \n",
    "    # Add a bias term to X_train (intercept)\n",
    "    X_train = np.hstack([np.ones((X_train.shape[0], 1)), X_train])\n",
    "    \n",
    "    # Compute regression coefficients using ordinary least squares\n",
    "    coefficients = np.linalg.inv(X_train.T @ X_train) @ X_train.T @ y_train\n",
    "    \n",
    "    # Prepare test data (independent variables)\n",
    "    X_test = test_data[related_columns].values\n",
    "    X_test = np.hstack([np.ones((X_test.shape[0], 1)), X_test])  # Add bias term\n",
    "    \n",
    "    # Predict missing values\n",
    "    predicted_values = X_test @ coefficients\n",
    "    \n",
    "    # Add stochastic noise based on the standard deviation of training residuals\n",
    "    residuals = y_train - (X_train @ coefficients)\n",
    "    noise_std = np.std(residuals)\n",
    "    stochastic_noise = np.random.normal(0, noise_std, size=len(predicted_values))\n",
    "    \n",
    "    predicted_values += stochastic_noise\n",
    "    \n",
    "    # Replace missing values in the target column with predictions\n",
    "    df.loc[df[target_column].isnull(), target_column] = predicted_values\n",
    "    \n",
    "    return df"
   ]
  },
  {
   "cell_type": "code",
   "execution_count": 50,
   "metadata": {},
   "outputs": [
    {
     "data": {
      "text/plain": [
       "['U.S._STATE',\n",
       " 'POSTAL.CODE',\n",
       " 'NERC.REGION',\n",
       " 'CLIMATE.REGION',\n",
       " 'ANOMALY.LEVEL',\n",
       " 'CAUSE.CATEGORY',\n",
       " 'CAUSE.CATEGORY.DETAIL',\n",
       " 'HURRICANE.NAMES',\n",
       " 'CUSTOMERS.AFFECTED',\n",
       " 'POPULATION']"
      ]
     },
     "execution_count": 50,
     "metadata": {},
     "output_type": "execute_result"
    }
   ],
   "source": [
    "test_missingness(outage, 'DEMAND.LOSS.MW')"
   ]
  },
  {
   "cell_type": "code",
   "execution_count": 53,
   "metadata": {},
   "outputs": [
    {
     "ename": "TypeError",
     "evalue": "can't multiply sequence by non-int of type 'float'",
     "output_type": "error",
     "traceback": [
      "\u001b[0;31m---------------------------------------------------------------------------\u001b[0m",
      "\u001b[0;31mTypeError\u001b[0m                                 Traceback (most recent call last)",
      "Cell \u001b[0;32mIn[53], line 1\u001b[0m\n\u001b[0;32m----> 1\u001b[0m \u001b[43mprobabilistic_imputation\u001b[49m\u001b[43m(\u001b[49m\u001b[43moutage\u001b[49m\u001b[43m,\u001b[49m\u001b[43m \u001b[49m\u001b[38;5;124;43m'\u001b[39;49m\u001b[38;5;124;43mDEMAND.LOSS.MW\u001b[39;49m\u001b[38;5;124;43m'\u001b[39;49m\u001b[43m,\u001b[49m\u001b[43m \u001b[49m\u001b[43m[\u001b[49m\u001b[38;5;124;43m'\u001b[39;49m\u001b[38;5;124;43mU.S._STATE\u001b[39;49m\u001b[38;5;124;43m'\u001b[39;49m\u001b[43m,\u001b[49m\n\u001b[1;32m      2\u001b[0m \u001b[43m \u001b[49m\u001b[38;5;124;43m'\u001b[39;49m\u001b[38;5;124;43mPOSTAL.CODE\u001b[39;49m\u001b[38;5;124;43m'\u001b[39;49m\u001b[43m,\u001b[49m\n\u001b[1;32m      3\u001b[0m \u001b[43m \u001b[49m\u001b[38;5;124;43m'\u001b[39;49m\u001b[38;5;124;43mNERC.REGION\u001b[39;49m\u001b[38;5;124;43m'\u001b[39;49m\u001b[43m,\u001b[49m\n\u001b[1;32m      4\u001b[0m \u001b[43m \u001b[49m\u001b[38;5;124;43m'\u001b[39;49m\u001b[38;5;124;43mCLIMATE.REGION\u001b[39;49m\u001b[38;5;124;43m'\u001b[39;49m\u001b[43m,\u001b[49m\n\u001b[1;32m      5\u001b[0m \u001b[43m \u001b[49m\u001b[38;5;124;43m'\u001b[39;49m\u001b[38;5;124;43mANOMALY.LEVEL\u001b[39;49m\u001b[38;5;124;43m'\u001b[39;49m\u001b[43m,\u001b[49m\n\u001b[1;32m      6\u001b[0m \u001b[43m \u001b[49m\u001b[38;5;124;43m'\u001b[39;49m\u001b[38;5;124;43mCAUSE.CATEGORY\u001b[39;49m\u001b[38;5;124;43m'\u001b[39;49m\u001b[43m,\u001b[49m\n\u001b[1;32m      7\u001b[0m \u001b[43m \u001b[49m\u001b[38;5;124;43m'\u001b[39;49m\u001b[38;5;124;43mCAUSE.CATEGORY.DETAIL\u001b[39;49m\u001b[38;5;124;43m'\u001b[39;49m\u001b[43m,\u001b[49m\n\u001b[1;32m      8\u001b[0m \u001b[43m \u001b[49m\u001b[38;5;124;43m'\u001b[39;49m\u001b[38;5;124;43mHURRICANE.NAMES\u001b[39;49m\u001b[38;5;124;43m'\u001b[39;49m\u001b[43m,\u001b[49m\n\u001b[1;32m      9\u001b[0m \u001b[43m \u001b[49m\u001b[38;5;124;43m'\u001b[39;49m\u001b[38;5;124;43mCUSTOMERS.AFFECTED\u001b[39;49m\u001b[38;5;124;43m'\u001b[39;49m\u001b[43m,\u001b[49m\n\u001b[1;32m     10\u001b[0m \u001b[43m \u001b[49m\u001b[38;5;124;43m'\u001b[39;49m\u001b[38;5;124;43mPOPULATION\u001b[39;49m\u001b[38;5;124;43m'\u001b[39;49m\u001b[43m]\u001b[49m\u001b[43m)\u001b[49m\n",
      "Cell \u001b[0;32mIn[51], line 27\u001b[0m, in \u001b[0;36mprobabilistic_imputation\u001b[0;34m(df, target_column, related_columns)\u001b[0m\n\u001b[1;32m     24\u001b[0m X_train \u001b[38;5;241m=\u001b[39m np\u001b[38;5;241m.\u001b[39mhstack([np\u001b[38;5;241m.\u001b[39mones((X_train\u001b[38;5;241m.\u001b[39mshape[\u001b[38;5;241m0\u001b[39m], \u001b[38;5;241m1\u001b[39m)), X_train])\n\u001b[1;32m     26\u001b[0m \u001b[38;5;66;03m# Compute regression coefficients using ordinary least squares\u001b[39;00m\n\u001b[0;32m---> 27\u001b[0m coefficients \u001b[38;5;241m=\u001b[39m np\u001b[38;5;241m.\u001b[39mlinalg\u001b[38;5;241m.\u001b[39minv(\u001b[43mX_train\u001b[49m\u001b[38;5;241;43m.\u001b[39;49m\u001b[43mT\u001b[49m\u001b[43m \u001b[49m\u001b[38;5;241;43m@\u001b[39;49m\u001b[43m \u001b[49m\u001b[43mX_train\u001b[49m) \u001b[38;5;241m@\u001b[39m X_train\u001b[38;5;241m.\u001b[39mT \u001b[38;5;241m@\u001b[39m y_train\n\u001b[1;32m     29\u001b[0m \u001b[38;5;66;03m# Prepare test data (independent variables)\u001b[39;00m\n\u001b[1;32m     30\u001b[0m X_test \u001b[38;5;241m=\u001b[39m test_data[related_columns]\u001b[38;5;241m.\u001b[39mvalues\n",
      "\u001b[0;31mTypeError\u001b[0m: can't multiply sequence by non-int of type 'float'"
     ]
    }
   ],
   "source": [
    "probabilistic_imputation(outage, 'DEMAND.LOSS.MW', ['U.S._STATE',\n",
    " 'POSTAL.CODE',\n",
    " 'NERC.REGION',\n",
    " 'CLIMATE.REGION',\n",
    " 'ANOMALY.LEVEL',\n",
    " 'CAUSE.CATEGORY',\n",
    " 'CAUSE.CATEGORY.DETAIL',\n",
    " 'HURRICANE.NAMES',\n",
    " 'CUSTOMERS.AFFECTED',\n",
    " 'POPULATION'])"
   ]
  },
  {
   "cell_type": "code",
   "execution_count": 26,
   "metadata": {},
   "outputs": [],
   "source": [
    "outage['ENERGY.LOSS.MWH'] = outage['DEMAND.LOSS.MW'] * outage['OUTAGE.DURATION']\n",
    "\n",
    "# Step 3: Convert electricity price to dollars/MWh\n",
    "outage['TOTAL.PRICE.DOLLARS.MWH'] = outage['TOTAL.PRICE'] / 100 * 1000  # Convert cents/kWh to dollars/MWh\n",
    "\n",
    "# Step 4: Calculate economic loss\n",
    "outage['ECONOMIC.LOSS'] = outage['ENERGY.LOSS.MWH'] * outage['TOTAL.PRICE.DOLLARS.MWH']"
   ]
  },
  {
   "cell_type": "code",
   "execution_count": 27,
   "metadata": {},
   "outputs": [
    {
     "data": {
      "text/html": [
       "<div>\n",
       "<style scoped>\n",
       "    .dataframe tbody tr th:only-of-type {\n",
       "        vertical-align: middle;\n",
       "    }\n",
       "\n",
       "    .dataframe tbody tr th {\n",
       "        vertical-align: top;\n",
       "    }\n",
       "\n",
       "    .dataframe thead th {\n",
       "        text-align: right;\n",
       "    }\n",
       "</style>\n",
       "<table border=\"1\" class=\"dataframe\">\n",
       "  <thead>\n",
       "    <tr style=\"text-align: right;\">\n",
       "      <th></th>\n",
       "      <th>U.S._STATE</th>\n",
       "      <th>POSTAL.CODE</th>\n",
       "      <th>NERC.REGION</th>\n",
       "      <th>CLIMATE.REGION</th>\n",
       "      <th>ANOMALY.LEVEL</th>\n",
       "      <th>CLIMATE.CATEGORY</th>\n",
       "      <th>CAUSE.CATEGORY</th>\n",
       "      <th>CAUSE.CATEGORY.DETAIL</th>\n",
       "      <th>HURRICANE.NAMES</th>\n",
       "      <th>OUTAGE.DURATION</th>\n",
       "      <th>DEMAND.LOSS.MW</th>\n",
       "      <th>CUSTOMERS.AFFECTED</th>\n",
       "      <th>RES.PRICE</th>\n",
       "      <th>COM.PRICE</th>\n",
       "      <th>IND.PRICE</th>\n",
       "      <th>TOTAL.PRICE</th>\n",
       "      <th>POPULATION</th>\n",
       "      <th>OUTAGE_START</th>\n",
       "      <th>OUTAGE_END</th>\n",
       "      <th>CAUSE CATEGORY DI_MISSING</th>\n",
       "      <th>ENERGY.LOSS.MWH</th>\n",
       "      <th>TOTAL.PRICE.DOLLARS.MWH</th>\n",
       "      <th>ECONOMIC.LOSS</th>\n",
       "    </tr>\n",
       "  </thead>\n",
       "  <tbody>\n",
       "    <tr>\n",
       "      <th>0</th>\n",
       "      <td>Minnesota</td>\n",
       "      <td>MN</td>\n",
       "      <td>MRO</td>\n",
       "      <td>East North Central</td>\n",
       "      <td>-0.3</td>\n",
       "      <td>normal</td>\n",
       "      <td>severe weather</td>\n",
       "      <td>NaN</td>\n",
       "      <td>NaN</td>\n",
       "      <td>3060.0</td>\n",
       "      <td>NaN</td>\n",
       "      <td>70000.0</td>\n",
       "      <td>11.60</td>\n",
       "      <td>9.18</td>\n",
       "      <td>6.81</td>\n",
       "      <td>9.28</td>\n",
       "      <td>5348119</td>\n",
       "      <td>2011-07-01 17:00:00</td>\n",
       "      <td>2011-07-03 20:00:00</td>\n",
       "      <td>1</td>\n",
       "      <td>NaN</td>\n",
       "      <td>92.8</td>\n",
       "      <td>NaN</td>\n",
       "    </tr>\n",
       "    <tr>\n",
       "      <th>1</th>\n",
       "      <td>Minnesota</td>\n",
       "      <td>MN</td>\n",
       "      <td>MRO</td>\n",
       "      <td>East North Central</td>\n",
       "      <td>-0.1</td>\n",
       "      <td>normal</td>\n",
       "      <td>intentional attack</td>\n",
       "      <td>vandalism</td>\n",
       "      <td>NaN</td>\n",
       "      <td>1.0</td>\n",
       "      <td>NaN</td>\n",
       "      <td>NaN</td>\n",
       "      <td>12.12</td>\n",
       "      <td>9.71</td>\n",
       "      <td>6.49</td>\n",
       "      <td>9.28</td>\n",
       "      <td>5457125</td>\n",
       "      <td>2014-05-11 18:38:00</td>\n",
       "      <td>2014-05-11 18:39:00</td>\n",
       "      <td>0</td>\n",
       "      <td>NaN</td>\n",
       "      <td>92.8</td>\n",
       "      <td>NaN</td>\n",
       "    </tr>\n",
       "    <tr>\n",
       "      <th>2</th>\n",
       "      <td>Minnesota</td>\n",
       "      <td>MN</td>\n",
       "      <td>MRO</td>\n",
       "      <td>East North Central</td>\n",
       "      <td>-1.5</td>\n",
       "      <td>cold</td>\n",
       "      <td>severe weather</td>\n",
       "      <td>heavy wind</td>\n",
       "      <td>NaN</td>\n",
       "      <td>3000.0</td>\n",
       "      <td>NaN</td>\n",
       "      <td>70000.0</td>\n",
       "      <td>10.87</td>\n",
       "      <td>8.19</td>\n",
       "      <td>6.07</td>\n",
       "      <td>8.15</td>\n",
       "      <td>5310903</td>\n",
       "      <td>2010-10-26 20:00:00</td>\n",
       "      <td>2010-10-28 22:00:00</td>\n",
       "      <td>0</td>\n",
       "      <td>NaN</td>\n",
       "      <td>81.5</td>\n",
       "      <td>NaN</td>\n",
       "    </tr>\n",
       "    <tr>\n",
       "      <th>3</th>\n",
       "      <td>Minnesota</td>\n",
       "      <td>MN</td>\n",
       "      <td>MRO</td>\n",
       "      <td>East North Central</td>\n",
       "      <td>-0.1</td>\n",
       "      <td>normal</td>\n",
       "      <td>severe weather</td>\n",
       "      <td>thunderstorm</td>\n",
       "      <td>NaN</td>\n",
       "      <td>2550.0</td>\n",
       "      <td>NaN</td>\n",
       "      <td>68200.0</td>\n",
       "      <td>11.79</td>\n",
       "      <td>9.25</td>\n",
       "      <td>6.71</td>\n",
       "      <td>9.19</td>\n",
       "      <td>5380443</td>\n",
       "      <td>2012-06-19 04:30:00</td>\n",
       "      <td>2012-06-20 23:00:00</td>\n",
       "      <td>0</td>\n",
       "      <td>NaN</td>\n",
       "      <td>91.9</td>\n",
       "      <td>NaN</td>\n",
       "    </tr>\n",
       "    <tr>\n",
       "      <th>4</th>\n",
       "      <td>Minnesota</td>\n",
       "      <td>MN</td>\n",
       "      <td>MRO</td>\n",
       "      <td>East North Central</td>\n",
       "      <td>1.2</td>\n",
       "      <td>warm</td>\n",
       "      <td>severe weather</td>\n",
       "      <td>NaN</td>\n",
       "      <td>NaN</td>\n",
       "      <td>1740.0</td>\n",
       "      <td>250.0</td>\n",
       "      <td>250000.0</td>\n",
       "      <td>13.07</td>\n",
       "      <td>10.16</td>\n",
       "      <td>7.74</td>\n",
       "      <td>10.43</td>\n",
       "      <td>5489594</td>\n",
       "      <td>2015-07-18 02:00:00</td>\n",
       "      <td>2015-07-19 07:00:00</td>\n",
       "      <td>1</td>\n",
       "      <td>435000.0</td>\n",
       "      <td>104.3</td>\n",
       "      <td>45370500.0</td>\n",
       "    </tr>\n",
       "    <tr>\n",
       "      <th>...</th>\n",
       "      <td>...</td>\n",
       "      <td>...</td>\n",
       "      <td>...</td>\n",
       "      <td>...</td>\n",
       "      <td>...</td>\n",
       "      <td>...</td>\n",
       "      <td>...</td>\n",
       "      <td>...</td>\n",
       "      <td>...</td>\n",
       "      <td>...</td>\n",
       "      <td>...</td>\n",
       "      <td>...</td>\n",
       "      <td>...</td>\n",
       "      <td>...</td>\n",
       "      <td>...</td>\n",
       "      <td>...</td>\n",
       "      <td>...</td>\n",
       "      <td>...</td>\n",
       "      <td>...</td>\n",
       "      <td>...</td>\n",
       "      <td>...</td>\n",
       "      <td>...</td>\n",
       "      <td>...</td>\n",
       "    </tr>\n",
       "    <tr>\n",
       "      <th>1529</th>\n",
       "      <td>North Dakota</td>\n",
       "      <td>ND</td>\n",
       "      <td>MRO</td>\n",
       "      <td>West North Central</td>\n",
       "      <td>-0.9</td>\n",
       "      <td>cold</td>\n",
       "      <td>public appeal</td>\n",
       "      <td>NaN</td>\n",
       "      <td>NaN</td>\n",
       "      <td>720.0</td>\n",
       "      <td>155.0</td>\n",
       "      <td>34500.0</td>\n",
       "      <td>8.41</td>\n",
       "      <td>7.80</td>\n",
       "      <td>6.20</td>\n",
       "      <td>7.56</td>\n",
       "      <td>685326</td>\n",
       "      <td>2011-12-06 08:00:00</td>\n",
       "      <td>2011-12-06 20:00:00</td>\n",
       "      <td>1</td>\n",
       "      <td>111600.0</td>\n",
       "      <td>75.6</td>\n",
       "      <td>8436960.0</td>\n",
       "    </tr>\n",
       "    <tr>\n",
       "      <th>1530</th>\n",
       "      <td>North Dakota</td>\n",
       "      <td>ND</td>\n",
       "      <td>MRO</td>\n",
       "      <td>West North Central</td>\n",
       "      <td>NaN</td>\n",
       "      <td>NaN</td>\n",
       "      <td>fuel supply emergency</td>\n",
       "      <td>Coal</td>\n",
       "      <td>NaN</td>\n",
       "      <td>NaN</td>\n",
       "      <td>1650.0</td>\n",
       "      <td>NaN</td>\n",
       "      <td>NaN</td>\n",
       "      <td>NaN</td>\n",
       "      <td>NaN</td>\n",
       "      <td>NaN</td>\n",
       "      <td>649422</td>\n",
       "      <td>NaT</td>\n",
       "      <td>NaT</td>\n",
       "      <td>0</td>\n",
       "      <td>NaN</td>\n",
       "      <td>NaN</td>\n",
       "      <td>NaN</td>\n",
       "    </tr>\n",
       "    <tr>\n",
       "      <th>1531</th>\n",
       "      <td>South Dakota</td>\n",
       "      <td>SD</td>\n",
       "      <td>RFC</td>\n",
       "      <td>West North Central</td>\n",
       "      <td>0.5</td>\n",
       "      <td>warm</td>\n",
       "      <td>islanding</td>\n",
       "      <td>NaN</td>\n",
       "      <td>NaN</td>\n",
       "      <td>59.0</td>\n",
       "      <td>84.0</td>\n",
       "      <td>NaN</td>\n",
       "      <td>9.25</td>\n",
       "      <td>7.47</td>\n",
       "      <td>5.53</td>\n",
       "      <td>7.67</td>\n",
       "      <td>807067</td>\n",
       "      <td>2009-08-29 22:54:00</td>\n",
       "      <td>2009-08-29 23:53:00</td>\n",
       "      <td>1</td>\n",
       "      <td>4956.0</td>\n",
       "      <td>76.7</td>\n",
       "      <td>380125.2</td>\n",
       "    </tr>\n",
       "    <tr>\n",
       "      <th>1532</th>\n",
       "      <td>South Dakota</td>\n",
       "      <td>SD</td>\n",
       "      <td>MRO</td>\n",
       "      <td>West North Central</td>\n",
       "      <td>0.5</td>\n",
       "      <td>warm</td>\n",
       "      <td>islanding</td>\n",
       "      <td>NaN</td>\n",
       "      <td>NaN</td>\n",
       "      <td>181.0</td>\n",
       "      <td>373.0</td>\n",
       "      <td>NaN</td>\n",
       "      <td>9.25</td>\n",
       "      <td>7.47</td>\n",
       "      <td>5.53</td>\n",
       "      <td>7.67</td>\n",
       "      <td>807067</td>\n",
       "      <td>2009-08-29 11:00:00</td>\n",
       "      <td>2009-08-29 14:01:00</td>\n",
       "      <td>1</td>\n",
       "      <td>67513.0</td>\n",
       "      <td>76.7</td>\n",
       "      <td>5178247.1</td>\n",
       "    </tr>\n",
       "    <tr>\n",
       "      <th>1533</th>\n",
       "      <td>Alaska</td>\n",
       "      <td>AK</td>\n",
       "      <td>ASCC</td>\n",
       "      <td>NaN</td>\n",
       "      <td>NaN</td>\n",
       "      <td>NaN</td>\n",
       "      <td>equipment failure</td>\n",
       "      <td>failure</td>\n",
       "      <td>NaN</td>\n",
       "      <td>NaN</td>\n",
       "      <td>35.0</td>\n",
       "      <td>14273.0</td>\n",
       "      <td>NaN</td>\n",
       "      <td>NaN</td>\n",
       "      <td>NaN</td>\n",
       "      <td>NaN</td>\n",
       "      <td>627963</td>\n",
       "      <td>NaT</td>\n",
       "      <td>NaT</td>\n",
       "      <td>0</td>\n",
       "      <td>NaN</td>\n",
       "      <td>NaN</td>\n",
       "      <td>NaN</td>\n",
       "    </tr>\n",
       "  </tbody>\n",
       "</table>\n",
       "<p>1534 rows × 23 columns</p>\n",
       "</div>"
      ],
      "text/plain": [
       "        U.S._STATE POSTAL.CODE NERC.REGION      CLIMATE.REGION  ANOMALY.LEVEL  \\\n",
       "0        Minnesota          MN         MRO  East North Central           -0.3   \n",
       "1        Minnesota          MN         MRO  East North Central           -0.1   \n",
       "2        Minnesota          MN         MRO  East North Central           -1.5   \n",
       "3        Minnesota          MN         MRO  East North Central           -0.1   \n",
       "4        Minnesota          MN         MRO  East North Central            1.2   \n",
       "...            ...         ...         ...                 ...            ...   \n",
       "1529  North Dakota          ND         MRO  West North Central           -0.9   \n",
       "1530  North Dakota          ND         MRO  West North Central            NaN   \n",
       "1531  South Dakota          SD         RFC  West North Central            0.5   \n",
       "1532  South Dakota          SD         MRO  West North Central            0.5   \n",
       "1533        Alaska          AK        ASCC                 NaN            NaN   \n",
       "\n",
       "     CLIMATE.CATEGORY         CAUSE.CATEGORY CAUSE.CATEGORY.DETAIL  \\\n",
       "0              normal         severe weather                   NaN   \n",
       "1              normal     intentional attack             vandalism   \n",
       "2                cold         severe weather            heavy wind   \n",
       "3              normal         severe weather          thunderstorm   \n",
       "4                warm         severe weather                   NaN   \n",
       "...               ...                    ...                   ...   \n",
       "1529             cold          public appeal                   NaN   \n",
       "1530              NaN  fuel supply emergency                  Coal   \n",
       "1531             warm              islanding                   NaN   \n",
       "1532             warm              islanding                   NaN   \n",
       "1533              NaN      equipment failure               failure   \n",
       "\n",
       "     HURRICANE.NAMES  OUTAGE.DURATION  DEMAND.LOSS.MW  CUSTOMERS.AFFECTED  \\\n",
       "0                NaN           3060.0             NaN             70000.0   \n",
       "1                NaN              1.0             NaN                 NaN   \n",
       "2                NaN           3000.0             NaN             70000.0   \n",
       "3                NaN           2550.0             NaN             68200.0   \n",
       "4                NaN           1740.0           250.0            250000.0   \n",
       "...              ...              ...             ...                 ...   \n",
       "1529             NaN            720.0           155.0             34500.0   \n",
       "1530             NaN              NaN          1650.0                 NaN   \n",
       "1531             NaN             59.0            84.0                 NaN   \n",
       "1532             NaN            181.0           373.0                 NaN   \n",
       "1533             NaN              NaN            35.0             14273.0   \n",
       "\n",
       "      RES.PRICE  COM.PRICE  IND.PRICE  TOTAL.PRICE  POPULATION  \\\n",
       "0         11.60       9.18       6.81         9.28     5348119   \n",
       "1         12.12       9.71       6.49         9.28     5457125   \n",
       "2         10.87       8.19       6.07         8.15     5310903   \n",
       "3         11.79       9.25       6.71         9.19     5380443   \n",
       "4         13.07      10.16       7.74        10.43     5489594   \n",
       "...         ...        ...        ...          ...         ...   \n",
       "1529       8.41       7.80       6.20         7.56      685326   \n",
       "1530        NaN        NaN        NaN          NaN      649422   \n",
       "1531       9.25       7.47       5.53         7.67      807067   \n",
       "1532       9.25       7.47       5.53         7.67      807067   \n",
       "1533        NaN        NaN        NaN          NaN      627963   \n",
       "\n",
       "            OUTAGE_START          OUTAGE_END  CAUSE CATEGORY DI_MISSING  \\\n",
       "0    2011-07-01 17:00:00 2011-07-03 20:00:00                          1   \n",
       "1    2014-05-11 18:38:00 2014-05-11 18:39:00                          0   \n",
       "2    2010-10-26 20:00:00 2010-10-28 22:00:00                          0   \n",
       "3    2012-06-19 04:30:00 2012-06-20 23:00:00                          0   \n",
       "4    2015-07-18 02:00:00 2015-07-19 07:00:00                          1   \n",
       "...                  ...                 ...                        ...   \n",
       "1529 2011-12-06 08:00:00 2011-12-06 20:00:00                          1   \n",
       "1530                 NaT                 NaT                          0   \n",
       "1531 2009-08-29 22:54:00 2009-08-29 23:53:00                          1   \n",
       "1532 2009-08-29 11:00:00 2009-08-29 14:01:00                          1   \n",
       "1533                 NaT                 NaT                          0   \n",
       "\n",
       "      ENERGY.LOSS.MWH  TOTAL.PRICE.DOLLARS.MWH  ECONOMIC.LOSS  \n",
       "0                 NaN                     92.8            NaN  \n",
       "1                 NaN                     92.8            NaN  \n",
       "2                 NaN                     81.5            NaN  \n",
       "3                 NaN                     91.9            NaN  \n",
       "4            435000.0                    104.3     45370500.0  \n",
       "...               ...                      ...            ...  \n",
       "1529         111600.0                     75.6      8436960.0  \n",
       "1530              NaN                      NaN            NaN  \n",
       "1531           4956.0                     76.7       380125.2  \n",
       "1532          67513.0                     76.7      5178247.1  \n",
       "1533              NaN                      NaN            NaN  \n",
       "\n",
       "[1534 rows x 23 columns]"
      ]
     },
     "execution_count": 27,
     "metadata": {},
     "output_type": "execute_result"
    }
   ],
   "source": [
    "outage"
   ]
  },
  {
   "cell_type": "code",
   "execution_count": 36,
   "metadata": {},
   "outputs": [
    {
     "data": {
      "text/html": [
       "<div>\n",
       "<style scoped>\n",
       "    .dataframe tbody tr th:only-of-type {\n",
       "        vertical-align: middle;\n",
       "    }\n",
       "\n",
       "    .dataframe tbody tr th {\n",
       "        vertical-align: top;\n",
       "    }\n",
       "\n",
       "    .dataframe thead th {\n",
       "        text-align: right;\n",
       "    }\n",
       "</style>\n",
       "<table border=\"1\" class=\"dataframe\">\n",
       "  <thead>\n",
       "    <tr style=\"text-align: right;\">\n",
       "      <th></th>\n",
       "      <th>U.S._STATE</th>\n",
       "      <th>POSTAL.CODE</th>\n",
       "      <th>NERC.REGION</th>\n",
       "      <th>CLIMATE.REGION</th>\n",
       "      <th>ANOMALY.LEVEL</th>\n",
       "      <th>CLIMATE.CATEGORY</th>\n",
       "      <th>CAUSE.CATEGORY</th>\n",
       "      <th>CAUSE.CATEGORY.DETAIL</th>\n",
       "      <th>HURRICANE.NAMES</th>\n",
       "      <th>OUTAGE.DURATION</th>\n",
       "      <th>DEMAND.LOSS.MW</th>\n",
       "      <th>CUSTOMERS.AFFECTED</th>\n",
       "      <th>RES.PRICE</th>\n",
       "      <th>COM.PRICE</th>\n",
       "      <th>IND.PRICE</th>\n",
       "      <th>TOTAL.PRICE</th>\n",
       "      <th>POPULATION</th>\n",
       "      <th>OUTAGE_START</th>\n",
       "      <th>OUTAGE_END</th>\n",
       "      <th>CAUSE CATEGORY DI_MISSING</th>\n",
       "      <th>ENERGY.LOSS.MWH</th>\n",
       "      <th>TOTAL.PRICE.DOLLARS.MWH</th>\n",
       "      <th>ECONOMIC.LOSS</th>\n",
       "    </tr>\n",
       "  </thead>\n",
       "  <tbody>\n",
       "    <tr>\n",
       "      <th>4</th>\n",
       "      <td>Minnesota</td>\n",
       "      <td>MN</td>\n",
       "      <td>MRO</td>\n",
       "      <td>East North Central</td>\n",
       "      <td>1.2</td>\n",
       "      <td>warm</td>\n",
       "      <td>severe weather</td>\n",
       "      <td>NaN</td>\n",
       "      <td>NaN</td>\n",
       "      <td>1740.0</td>\n",
       "      <td>250.0</td>\n",
       "      <td>250000.0</td>\n",
       "      <td>13.07</td>\n",
       "      <td>10.16</td>\n",
       "      <td>7.74</td>\n",
       "      <td>10.43</td>\n",
       "      <td>5489594</td>\n",
       "      <td>2015-07-18 02:00:00</td>\n",
       "      <td>2015-07-19 07:00:00</td>\n",
       "      <td>1</td>\n",
       "      <td>435000.0</td>\n",
       "      <td>104.3</td>\n",
       "      <td>45370500.0</td>\n",
       "    </tr>\n",
       "    <tr>\n",
       "      <th>7</th>\n",
       "      <td>Minnesota</td>\n",
       "      <td>MN</td>\n",
       "      <td>MRO</td>\n",
       "      <td>East North Central</td>\n",
       "      <td>0.2</td>\n",
       "      <td>normal</td>\n",
       "      <td>severe weather</td>\n",
       "      <td>thunderstorm</td>\n",
       "      <td>NaN</td>\n",
       "      <td>3960.0</td>\n",
       "      <td>75.0</td>\n",
       "      <td>300000.0</td>\n",
       "      <td>9.10</td>\n",
       "      <td>7.22</td>\n",
       "      <td>5.69</td>\n",
       "      <td>7.36</td>\n",
       "      <td>5119598</td>\n",
       "      <td>2005-06-08 04:00:00</td>\n",
       "      <td>2005-06-10 22:00:00</td>\n",
       "      <td>0</td>\n",
       "      <td>297000.0</td>\n",
       "      <td>73.6</td>\n",
       "      <td>21859200.0</td>\n",
       "    </tr>\n",
       "    <tr>\n",
       "      <th>8</th>\n",
       "      <td>Minnesota</td>\n",
       "      <td>MN</td>\n",
       "      <td>MRO</td>\n",
       "      <td>East North Central</td>\n",
       "      <td>0.6</td>\n",
       "      <td>warm</td>\n",
       "      <td>intentional attack</td>\n",
       "      <td>sabotage</td>\n",
       "      <td>NaN</td>\n",
       "      <td>155.0</td>\n",
       "      <td>20.0</td>\n",
       "      <td>5941.0</td>\n",
       "      <td>11.53</td>\n",
       "      <td>8.89</td>\n",
       "      <td>6.61</td>\n",
       "      <td>9.03</td>\n",
       "      <td>5489594</td>\n",
       "      <td>2015-03-16 07:31:00</td>\n",
       "      <td>2015-03-16 10:06:00</td>\n",
       "      <td>0</td>\n",
       "      <td>3100.0</td>\n",
       "      <td>90.3</td>\n",
       "      <td>279930.0</td>\n",
       "    </tr>\n",
       "    <tr>\n",
       "      <th>12</th>\n",
       "      <td>Minnesota</td>\n",
       "      <td>MN</td>\n",
       "      <td>MRO</td>\n",
       "      <td>East North Central</td>\n",
       "      <td>-0.3</td>\n",
       "      <td>normal</td>\n",
       "      <td>intentional attack</td>\n",
       "      <td>vandalism</td>\n",
       "      <td>NaN</td>\n",
       "      <td>0.0</td>\n",
       "      <td>0.0</td>\n",
       "      <td>0.0</td>\n",
       "      <td>11.60</td>\n",
       "      <td>9.18</td>\n",
       "      <td>6.81</td>\n",
       "      <td>9.28</td>\n",
       "      <td>5348119</td>\n",
       "      <td>2011-07-08 10:00:00</td>\n",
       "      <td>2011-07-08 10:00:00</td>\n",
       "      <td>0</td>\n",
       "      <td>0.0</td>\n",
       "      <td>92.8</td>\n",
       "      <td>0.0</td>\n",
       "    </tr>\n",
       "    <tr>\n",
       "      <th>13</th>\n",
       "      <td>Minnesota</td>\n",
       "      <td>MN</td>\n",
       "      <td>MRO</td>\n",
       "      <td>East North Central</td>\n",
       "      <td>-0.4</td>\n",
       "      <td>normal</td>\n",
       "      <td>intentional attack</td>\n",
       "      <td>vandalism</td>\n",
       "      <td>NaN</td>\n",
       "      <td>1322.0</td>\n",
       "      <td>0.0</td>\n",
       "      <td>0.0</td>\n",
       "      <td>11.23</td>\n",
       "      <td>8.91</td>\n",
       "      <td>6.46</td>\n",
       "      <td>8.70</td>\n",
       "      <td>5348119</td>\n",
       "      <td>2011-05-11 15:55:00</td>\n",
       "      <td>2011-05-12 13:57:00</td>\n",
       "      <td>0</td>\n",
       "      <td>0.0</td>\n",
       "      <td>87.0</td>\n",
       "      <td>0.0</td>\n",
       "    </tr>\n",
       "    <tr>\n",
       "      <th>...</th>\n",
       "      <td>...</td>\n",
       "      <td>...</td>\n",
       "      <td>...</td>\n",
       "      <td>...</td>\n",
       "      <td>...</td>\n",
       "      <td>...</td>\n",
       "      <td>...</td>\n",
       "      <td>...</td>\n",
       "      <td>...</td>\n",
       "      <td>...</td>\n",
       "      <td>...</td>\n",
       "      <td>...</td>\n",
       "      <td>...</td>\n",
       "      <td>...</td>\n",
       "      <td>...</td>\n",
       "      <td>...</td>\n",
       "      <td>...</td>\n",
       "      <td>...</td>\n",
       "      <td>...</td>\n",
       "      <td>...</td>\n",
       "      <td>...</td>\n",
       "      <td>...</td>\n",
       "      <td>...</td>\n",
       "    </tr>\n",
       "    <tr>\n",
       "      <th>1524</th>\n",
       "      <td>Idaho</td>\n",
       "      <td>ID</td>\n",
       "      <td>WECC</td>\n",
       "      <td>Northwest</td>\n",
       "      <td>-0.1</td>\n",
       "      <td>normal</td>\n",
       "      <td>public appeal</td>\n",
       "      <td>NaN</td>\n",
       "      <td>NaN</td>\n",
       "      <td>1548.0</td>\n",
       "      <td>0.0</td>\n",
       "      <td>0.0</td>\n",
       "      <td>6.31</td>\n",
       "      <td>5.17</td>\n",
       "      <td>4.24</td>\n",
       "      <td>4.94</td>\n",
       "      <td>1363380</td>\n",
       "      <td>2003-06-15 15:12:00</td>\n",
       "      <td>2003-06-16 17:00:00</td>\n",
       "      <td>1</td>\n",
       "      <td>0.0</td>\n",
       "      <td>49.4</td>\n",
       "      <td>0.0</td>\n",
       "    </tr>\n",
       "    <tr>\n",
       "      <th>1526</th>\n",
       "      <td>Idaho</td>\n",
       "      <td>ID</td>\n",
       "      <td>WECC</td>\n",
       "      <td>Northwest</td>\n",
       "      <td>1.6</td>\n",
       "      <td>warm</td>\n",
       "      <td>intentional attack</td>\n",
       "      <td>sabotage</td>\n",
       "      <td>NaN</td>\n",
       "      <td>0.0</td>\n",
       "      <td>0.0</td>\n",
       "      <td>0.0</td>\n",
       "      <td>9.80</td>\n",
       "      <td>7.66</td>\n",
       "      <td>5.98</td>\n",
       "      <td>8.05</td>\n",
       "      <td>1680026</td>\n",
       "      <td>2016-03-08 00:00:00</td>\n",
       "      <td>2016-03-08 00:00:00</td>\n",
       "      <td>0</td>\n",
       "      <td>0.0</td>\n",
       "      <td>80.5</td>\n",
       "      <td>0.0</td>\n",
       "    </tr>\n",
       "    <tr>\n",
       "      <th>1529</th>\n",
       "      <td>North Dakota</td>\n",
       "      <td>ND</td>\n",
       "      <td>MRO</td>\n",
       "      <td>West North Central</td>\n",
       "      <td>-0.9</td>\n",
       "      <td>cold</td>\n",
       "      <td>public appeal</td>\n",
       "      <td>NaN</td>\n",
       "      <td>NaN</td>\n",
       "      <td>720.0</td>\n",
       "      <td>155.0</td>\n",
       "      <td>34500.0</td>\n",
       "      <td>8.41</td>\n",
       "      <td>7.80</td>\n",
       "      <td>6.20</td>\n",
       "      <td>7.56</td>\n",
       "      <td>685326</td>\n",
       "      <td>2011-12-06 08:00:00</td>\n",
       "      <td>2011-12-06 20:00:00</td>\n",
       "      <td>1</td>\n",
       "      <td>111600.0</td>\n",
       "      <td>75.6</td>\n",
       "      <td>8436960.0</td>\n",
       "    </tr>\n",
       "    <tr>\n",
       "      <th>1531</th>\n",
       "      <td>South Dakota</td>\n",
       "      <td>SD</td>\n",
       "      <td>RFC</td>\n",
       "      <td>West North Central</td>\n",
       "      <td>0.5</td>\n",
       "      <td>warm</td>\n",
       "      <td>islanding</td>\n",
       "      <td>NaN</td>\n",
       "      <td>NaN</td>\n",
       "      <td>59.0</td>\n",
       "      <td>84.0</td>\n",
       "      <td>NaN</td>\n",
       "      <td>9.25</td>\n",
       "      <td>7.47</td>\n",
       "      <td>5.53</td>\n",
       "      <td>7.67</td>\n",
       "      <td>807067</td>\n",
       "      <td>2009-08-29 22:54:00</td>\n",
       "      <td>2009-08-29 23:53:00</td>\n",
       "      <td>1</td>\n",
       "      <td>4956.0</td>\n",
       "      <td>76.7</td>\n",
       "      <td>380125.2</td>\n",
       "    </tr>\n",
       "    <tr>\n",
       "      <th>1532</th>\n",
       "      <td>South Dakota</td>\n",
       "      <td>SD</td>\n",
       "      <td>MRO</td>\n",
       "      <td>West North Central</td>\n",
       "      <td>0.5</td>\n",
       "      <td>warm</td>\n",
       "      <td>islanding</td>\n",
       "      <td>NaN</td>\n",
       "      <td>NaN</td>\n",
       "      <td>181.0</td>\n",
       "      <td>373.0</td>\n",
       "      <td>NaN</td>\n",
       "      <td>9.25</td>\n",
       "      <td>7.47</td>\n",
       "      <td>5.53</td>\n",
       "      <td>7.67</td>\n",
       "      <td>807067</td>\n",
       "      <td>2009-08-29 11:00:00</td>\n",
       "      <td>2009-08-29 14:01:00</td>\n",
       "      <td>1</td>\n",
       "      <td>67513.0</td>\n",
       "      <td>76.7</td>\n",
       "      <td>5178247.1</td>\n",
       "    </tr>\n",
       "  </tbody>\n",
       "</table>\n",
       "<p>796 rows × 23 columns</p>\n",
       "</div>"
      ],
      "text/plain": [
       "        U.S._STATE POSTAL.CODE NERC.REGION      CLIMATE.REGION  ANOMALY.LEVEL  \\\n",
       "4        Minnesota          MN         MRO  East North Central            1.2   \n",
       "7        Minnesota          MN         MRO  East North Central            0.2   \n",
       "8        Minnesota          MN         MRO  East North Central            0.6   \n",
       "12       Minnesota          MN         MRO  East North Central           -0.3   \n",
       "13       Minnesota          MN         MRO  East North Central           -0.4   \n",
       "...            ...         ...         ...                 ...            ...   \n",
       "1524         Idaho          ID        WECC           Northwest           -0.1   \n",
       "1526         Idaho          ID        WECC           Northwest            1.6   \n",
       "1529  North Dakota          ND         MRO  West North Central           -0.9   \n",
       "1531  South Dakota          SD         RFC  West North Central            0.5   \n",
       "1532  South Dakota          SD         MRO  West North Central            0.5   \n",
       "\n",
       "     CLIMATE.CATEGORY      CAUSE.CATEGORY CAUSE.CATEGORY.DETAIL  \\\n",
       "4                warm      severe weather                   NaN   \n",
       "7              normal      severe weather          thunderstorm   \n",
       "8                warm  intentional attack              sabotage   \n",
       "12             normal  intentional attack             vandalism   \n",
       "13             normal  intentional attack             vandalism   \n",
       "...               ...                 ...                   ...   \n",
       "1524           normal       public appeal                   NaN   \n",
       "1526             warm  intentional attack              sabotage   \n",
       "1529             cold       public appeal                   NaN   \n",
       "1531             warm           islanding                   NaN   \n",
       "1532             warm           islanding                   NaN   \n",
       "\n",
       "     HURRICANE.NAMES  OUTAGE.DURATION  DEMAND.LOSS.MW  CUSTOMERS.AFFECTED  \\\n",
       "4                NaN           1740.0           250.0            250000.0   \n",
       "7                NaN           3960.0            75.0            300000.0   \n",
       "8                NaN            155.0            20.0              5941.0   \n",
       "12               NaN              0.0             0.0                 0.0   \n",
       "13               NaN           1322.0             0.0                 0.0   \n",
       "...              ...              ...             ...                 ...   \n",
       "1524             NaN           1548.0             0.0                 0.0   \n",
       "1526             NaN              0.0             0.0                 0.0   \n",
       "1529             NaN            720.0           155.0             34500.0   \n",
       "1531             NaN             59.0            84.0                 NaN   \n",
       "1532             NaN            181.0           373.0                 NaN   \n",
       "\n",
       "      RES.PRICE  COM.PRICE  IND.PRICE  TOTAL.PRICE  POPULATION  \\\n",
       "4         13.07      10.16       7.74        10.43     5489594   \n",
       "7          9.10       7.22       5.69         7.36     5119598   \n",
       "8         11.53       8.89       6.61         9.03     5489594   \n",
       "12        11.60       9.18       6.81         9.28     5348119   \n",
       "13        11.23       8.91       6.46         8.70     5348119   \n",
       "...         ...        ...        ...          ...         ...   \n",
       "1524       6.31       5.17       4.24         4.94     1363380   \n",
       "1526       9.80       7.66       5.98         8.05     1680026   \n",
       "1529       8.41       7.80       6.20         7.56      685326   \n",
       "1531       9.25       7.47       5.53         7.67      807067   \n",
       "1532       9.25       7.47       5.53         7.67      807067   \n",
       "\n",
       "            OUTAGE_START          OUTAGE_END  CAUSE CATEGORY DI_MISSING  \\\n",
       "4    2015-07-18 02:00:00 2015-07-19 07:00:00                          1   \n",
       "7    2005-06-08 04:00:00 2005-06-10 22:00:00                          0   \n",
       "8    2015-03-16 07:31:00 2015-03-16 10:06:00                          0   \n",
       "12   2011-07-08 10:00:00 2011-07-08 10:00:00                          0   \n",
       "13   2011-05-11 15:55:00 2011-05-12 13:57:00                          0   \n",
       "...                  ...                 ...                        ...   \n",
       "1524 2003-06-15 15:12:00 2003-06-16 17:00:00                          1   \n",
       "1526 2016-03-08 00:00:00 2016-03-08 00:00:00                          0   \n",
       "1529 2011-12-06 08:00:00 2011-12-06 20:00:00                          1   \n",
       "1531 2009-08-29 22:54:00 2009-08-29 23:53:00                          1   \n",
       "1532 2009-08-29 11:00:00 2009-08-29 14:01:00                          1   \n",
       "\n",
       "      ENERGY.LOSS.MWH  TOTAL.PRICE.DOLLARS.MWH  ECONOMIC.LOSS  \n",
       "4            435000.0                    104.3     45370500.0  \n",
       "7            297000.0                     73.6     21859200.0  \n",
       "8              3100.0                     90.3       279930.0  \n",
       "12                0.0                     92.8            0.0  \n",
       "13                0.0                     87.0            0.0  \n",
       "...               ...                      ...            ...  \n",
       "1524              0.0                     49.4            0.0  \n",
       "1526              0.0                     80.5            0.0  \n",
       "1529         111600.0                     75.6      8436960.0  \n",
       "1531           4956.0                     76.7       380125.2  \n",
       "1532          67513.0                     76.7      5178247.1  \n",
       "\n",
       "[796 rows x 23 columns]"
      ]
     },
     "execution_count": 36,
     "metadata": {},
     "output_type": "execute_result"
    }
   ],
   "source": [
    "outage[outage['ECONOMIC.LOSS'].notna()]"
   ]
  },
  {
   "cell_type": "markdown",
   "metadata": {},
   "source": [
    "now for hypothesis testing"
   ]
  },
  {
   "cell_type": "markdown",
   "metadata": {},
   "source": [
    "preperation"
   ]
  },
  {
   "cell_type": "code",
   "execution_count": 28,
   "metadata": {},
   "outputs": [],
   "source": [
    "outage_clean = outage.dropna(subset=['OUTAGE.DURATION', 'ECONOMIC.LOSS'])"
   ]
  },
  {
   "cell_type": "code",
   "execution_count": 29,
   "metadata": {},
   "outputs": [
    {
     "name": "stderr",
     "output_type": "stream",
     "text": [
      "/var/folders/s9/b35x2lvd0zl66546s25wwsjc0000gn/T/ipykernel_37700/563010878.py:6: SettingWithCopyWarning:\n",
      "\n",
      "\n",
      "A value is trying to be set on a copy of a slice from a DataFrame.\n",
      "Try using .loc[row_indexer,col_indexer] = value instead\n",
      "\n",
      "See the caveats in the documentation: https://pandas.pydata.org/pandas-docs/stable/user_guide/indexing.html#returning-a-view-versus-a-copy\n",
      "\n"
     ]
    }
   ],
   "source": [
    "# Drop rows with missing values in these columns\n",
    "outage_clean = outage.dropna(subset=['OUTAGE.DURATION', 'ECONOMIC.LOSS'])\n",
    "\n",
    "# Define \"short\" and \"long\" outages based on the median duration\n",
    "median_duration = outage_clean['OUTAGE.DURATION'].median()\n",
    "outage_clean['OUTAGE.TYPE'] = outage_clean['OUTAGE.DURATION'].apply(lambda x: 'Long' if x > median_duration else 'Short')"
   ]
  },
  {
   "cell_type": "markdown",
   "metadata": {},
   "source": [
    "testing  \n"
   ]
  },
  {
   "cell_type": "code",
   "execution_count": 30,
   "metadata": {},
   "outputs": [
    {
     "name": "stdout",
     "output_type": "stream",
     "text": [
      "Observed Difference: 344043144.2550251\n",
      "P-value: 0.0\n"
     ]
    }
   ],
   "source": [
    "# Observed difference in mean economic loss\n",
    "observed_diff = (outage_clean[outage_clean['OUTAGE.TYPE'] == 'Long']['ECONOMIC.LOSS'].mean() -\n",
    "                 outage_clean[outage_clean['OUTAGE.TYPE'] == 'Short']['ECONOMIC.LOSS'].mean())\n",
    "\n",
    "# Permutation test\n",
    "n_permutations = 1000\n",
    "perm_diffs = []\n",
    "for _ in range(n_permutations):\n",
    "    # Shuffle the OUTAGE TYPE labels\n",
    "    shuffled_labels = np.random.permutation(outage_clean['OUTAGE.TYPE'])\n",
    "    # Calculate the difference in means for the shuffled data\n",
    "    perm_diff = (outage_clean[shuffled_labels == 'Long']['ECONOMIC.LOSS'].mean() -\n",
    "                 outage_clean[shuffled_labels == 'Short']['ECONOMIC.LOSS'].mean())\n",
    "    perm_diffs.append(perm_diff)\n",
    "\n",
    "# Calculate the p-value\n",
    "p_value = (np.abs(np.array(perm_diffs)) >= np.abs(observed_diff)).mean()\n",
    "print(f\"Observed Difference: {observed_diff}\")\n",
    "print(f\"P-value: {p_value}\")"
   ]
  },
  {
   "cell_type": "code",
   "execution_count": 31,
   "metadata": {},
   "outputs": [
    {
     "data": {
      "application/vnd.plotly.v1+json": {
       "config": {
        "plotlyServerURL": "https://plot.ly"
       },
       "data": [
        {
         "alignmentgroup": "True",
         "hovertemplate": "Outage Duration=%{x}<br>Economic Loss=%{y}<extra></extra>",
         "legendgroup": "",
         "marker": {
          "color": "#636efa"
         },
         "name": "",
         "notched": false,
         "offsetgroup": "",
         "orientation": "v",
         "showlegend": false,
         "type": "box",
         "x": [
          "Long",
          "Long",
          "Short",
          "Short",
          "Long",
          "Short",
          "Short",
          "Long",
          "Long",
          "Short",
          "Long",
          "Long",
          "Long",
          "Short",
          "Short",
          "Short",
          "Long",
          "Short",
          "Long",
          "Long",
          "Long",
          "Short",
          "Long",
          "Long",
          "Long",
          "Short",
          "Long",
          "Long",
          "Long",
          "Long",
          "Long",
          "Long",
          "Long",
          "Long",
          "Long",
          "Long",
          "Long",
          "Long",
          "Long",
          "Long",
          "Long",
          "Long",
          "Long",
          "Long",
          "Long",
          "Long",
          "Long",
          "Long",
          "Long",
          "Long",
          "Long",
          "Long",
          "Long",
          "Long",
          "Short",
          "Long",
          "Long",
          "Long",
          "Long",
          "Long",
          "Long",
          "Long",
          "Long",
          "Long",
          "Long",
          "Long",
          "Long",
          "Long",
          "Long",
          "Long",
          "Long",
          "Long",
          "Long",
          "Long",
          "Short",
          "Short",
          "Long",
          "Long",
          "Short",
          "Long",
          "Short",
          "Long",
          "Short",
          "Short",
          "Long",
          "Long",
          "Long",
          "Short",
          "Short",
          "Long",
          "Short",
          "Long",
          "Long",
          "Short",
          "Short",
          "Long",
          "Short",
          "Long",
          "Long",
          "Short",
          "Short",
          "Long",
          "Long",
          "Long",
          "Long",
          "Short",
          "Short",
          "Long",
          "Short",
          "Long",
          "Long",
          "Short",
          "Long",
          "Short",
          "Long",
          "Long",
          "Short",
          "Short",
          "Long",
          "Short",
          "Short",
          "Long",
          "Short",
          "Long",
          "Long",
          "Long",
          "Long",
          "Long",
          "Short",
          "Short",
          "Long",
          "Long",
          "Long",
          "Long",
          "Long",
          "Short",
          "Short",
          "Long",
          "Short",
          "Short",
          "Short",
          "Short",
          "Short",
          "Long",
          "Short",
          "Short",
          "Long",
          "Long",
          "Long",
          "Short",
          "Short",
          "Short",
          "Long",
          "Short",
          "Short",
          "Long",
          "Long",
          "Short",
          "Long",
          "Short",
          "Short",
          "Long",
          "Short",
          "Long",
          "Long",
          "Long",
          "Long",
          "Short",
          "Long",
          "Long",
          "Long",
          "Long",
          "Short",
          "Short",
          "Short",
          "Long",
          "Long",
          "Long",
          "Short",
          "Short",
          "Long",
          "Short",
          "Short",
          "Long",
          "Long",
          "Long",
          "Short",
          "Short",
          "Short",
          "Short",
          "Short",
          "Long",
          "Short",
          "Short",
          "Long",
          "Long",
          "Short",
          "Short",
          "Long",
          "Long",
          "Long",
          "Long",
          "Short",
          "Short",
          "Long",
          "Long",
          "Long",
          "Long",
          "Short",
          "Short",
          "Short",
          "Short",
          "Short",
          "Short",
          "Short",
          "Long",
          "Long",
          "Long",
          "Long",
          "Long",
          "Short",
          "Short",
          "Short",
          "Long",
          "Short",
          "Long",
          "Short",
          "Long",
          "Long",
          "Short",
          "Short",
          "Short",
          "Short",
          "Long",
          "Short",
          "Long",
          "Short",
          "Long",
          "Long",
          "Long",
          "Short",
          "Short",
          "Long",
          "Long",
          "Long",
          "Long",
          "Long",
          "Long",
          "Short",
          "Short",
          "Long",
          "Short",
          "Long",
          "Long",
          "Short",
          "Long",
          "Short",
          "Long",
          "Long",
          "Short",
          "Long",
          "Short",
          "Long",
          "Long",
          "Long",
          "Long",
          "Short",
          "Long",
          "Long",
          "Long",
          "Short",
          "Short",
          "Short",
          "Short",
          "Short",
          "Short",
          "Short",
          "Short",
          "Short",
          "Short",
          "Long",
          "Short",
          "Short",
          "Short",
          "Short",
          "Short",
          "Short",
          "Long",
          "Short",
          "Short",
          "Short",
          "Long",
          "Long",
          "Short",
          "Short",
          "Short",
          "Long",
          "Long",
          "Long",
          "Long",
          "Long",
          "Long",
          "Long",
          "Short",
          "Long",
          "Long",
          "Short",
          "Long",
          "Long",
          "Short",
          "Short",
          "Short",
          "Long",
          "Long",
          "Short",
          "Short",
          "Short",
          "Short",
          "Short",
          "Long",
          "Long",
          "Long",
          "Short",
          "Long",
          "Long",
          "Short",
          "Short",
          "Long",
          "Long",
          "Long",
          "Long",
          "Short",
          "Long",
          "Short",
          "Short",
          "Long",
          "Short",
          "Short",
          "Long",
          "Long",
          "Long",
          "Short",
          "Long",
          "Short",
          "Long",
          "Short",
          "Long",
          "Short",
          "Short",
          "Short",
          "Short",
          "Long",
          "Long",
          "Long",
          "Short",
          "Long",
          "Long",
          "Long",
          "Long",
          "Short",
          "Short",
          "Short",
          "Short",
          "Short",
          "Short",
          "Short",
          "Long",
          "Short",
          "Short",
          "Short",
          "Long",
          "Short",
          "Long",
          "Long",
          "Long",
          "Short",
          "Long",
          "Long",
          "Long",
          "Long",
          "Short",
          "Short",
          "Short",
          "Short",
          "Short",
          "Short",
          "Short",
          "Short",
          "Short",
          "Short",
          "Short",
          "Short",
          "Short",
          "Short",
          "Short",
          "Short",
          "Short",
          "Short",
          "Short",
          "Short",
          "Short",
          "Short",
          "Short",
          "Long",
          "Long",
          "Long",
          "Long",
          "Long",
          "Short",
          "Short",
          "Long",
          "Long",
          "Long",
          "Long",
          "Short",
          "Long",
          "Long",
          "Long",
          "Long",
          "Long",
          "Short",
          "Long",
          "Short",
          "Long",
          "Short",
          "Long",
          "Long",
          "Long",
          "Long",
          "Short",
          "Long",
          "Short",
          "Short",
          "Long",
          "Long",
          "Long",
          "Long",
          "Long",
          "Short",
          "Long",
          "Long",
          "Long",
          "Long",
          "Long",
          "Long",
          "Short",
          "Short",
          "Long",
          "Long",
          "Long",
          "Long",
          "Short",
          "Short",
          "Short",
          "Long",
          "Long",
          "Long",
          "Short",
          "Long",
          "Long",
          "Short",
          "Short",
          "Short",
          "Long",
          "Short",
          "Long",
          "Long",
          "Short",
          "Long",
          "Short",
          "Long",
          "Long",
          "Short",
          "Long",
          "Long",
          "Long",
          "Short",
          "Long",
          "Short",
          "Long",
          "Short",
          "Short",
          "Long",
          "Short",
          "Long",
          "Short",
          "Long",
          "Long",
          "Long",
          "Long",
          "Long",
          "Long",
          "Long",
          "Long",
          "Long",
          "Short",
          "Long",
          "Short",
          "Short",
          "Short",
          "Long",
          "Long",
          "Short",
          "Short",
          "Long",
          "Short",
          "Short",
          "Long",
          "Long",
          "Short",
          "Short",
          "Short",
          "Short",
          "Short",
          "Long",
          "Long",
          "Long",
          "Short",
          "Short",
          "Long",
          "Short",
          "Short",
          "Short",
          "Short",
          "Long",
          "Short",
          "Long",
          "Short",
          "Short",
          "Short",
          "Long",
          "Short",
          "Short",
          "Short",
          "Short",
          "Short",
          "Short",
          "Short",
          "Short",
          "Long",
          "Short",
          "Short",
          "Short",
          "Short",
          "Short",
          "Long",
          "Long",
          "Short",
          "Long",
          "Long",
          "Long",
          "Long",
          "Short",
          "Short",
          "Long",
          "Long",
          "Short",
          "Long",
          "Long",
          "Short",
          "Short",
          "Short",
          "Long",
          "Short",
          "Long",
          "Short",
          "Short",
          "Short",
          "Long",
          "Short",
          "Short",
          "Long",
          "Long",
          "Short",
          "Short",
          "Long",
          "Short",
          "Short",
          "Short",
          "Short",
          "Short",
          "Short",
          "Long",
          "Short",
          "Short",
          "Short",
          "Short",
          "Short",
          "Long",
          "Long",
          "Short",
          "Short",
          "Long",
          "Long",
          "Long",
          "Long",
          "Short",
          "Short",
          "Short",
          "Short",
          "Short",
          "Short",
          "Short",
          "Long",
          "Short",
          "Long",
          "Long",
          "Short",
          "Short",
          "Short",
          "Short",
          "Short",
          "Long",
          "Short",
          "Short",
          "Short",
          "Long",
          "Short",
          "Short",
          "Short",
          "Short",
          "Short",
          "Long",
          "Long",
          "Long",
          "Long",
          "Long",
          "Long",
          "Long",
          "Short",
          "Long",
          "Long",
          "Long",
          "Short",
          "Short",
          "Short",
          "Short",
          "Long",
          "Short",
          "Long",
          "Long",
          "Short",
          "Short",
          "Short",
          "Long",
          "Long",
          "Long",
          "Long",
          "Long",
          "Long",
          "Short",
          "Long",
          "Long",
          "Long",
          "Short",
          "Short",
          "Short",
          "Short",
          "Short",
          "Long",
          "Short",
          "Short",
          "Short",
          "Short",
          "Long",
          "Short",
          "Short",
          "Short",
          "Long",
          "Long",
          "Short",
          "Long",
          "Short",
          "Short",
          "Long",
          "Long",
          "Long",
          "Long",
          "Long",
          "Long",
          "Long",
          "Long",
          "Long",
          "Short",
          "Long",
          "Short",
          "Short",
          "Long",
          "Long",
          "Short",
          "Short",
          "Short",
          "Long",
          "Short",
          "Short",
          "Short",
          "Short",
          "Short",
          "Short",
          "Short",
          "Short",
          "Short",
          "Short",
          "Short",
          "Short",
          "Long",
          "Long",
          "Long",
          "Long",
          "Long",
          "Long",
          "Long",
          "Long",
          "Short",
          "Long",
          "Short",
          "Long",
          "Long",
          "Long",
          "Short",
          "Long",
          "Short",
          "Short",
          "Short",
          "Short",
          "Short",
          "Long",
          "Short",
          "Short",
          "Long",
          "Long",
          "Short",
          "Short",
          "Short",
          "Long",
          "Short",
          "Long",
          "Short",
          "Short",
          "Short",
          "Short",
          "Short",
          "Short",
          "Long",
          "Short",
          "Short",
          "Long",
          "Short",
          "Long",
          "Short",
          "Short",
          "Short",
          "Long",
          "Short",
          "Long",
          "Long",
          "Short",
          "Short",
          "Short",
          "Short",
          "Short",
          "Short",
          "Short",
          "Short",
          "Short",
          "Long",
          "Short",
          "Long",
          "Short",
          "Short",
          "Short",
          "Long",
          "Short",
          "Long",
          "Short",
          "Short",
          "Short",
          "Short",
          "Short",
          "Long",
          "Long",
          "Short",
          "Long",
          "Long",
          "Short",
          "Long",
          "Short",
          "Long",
          "Short",
          "Short",
          "Short",
          "Long",
          "Short",
          "Long",
          "Short",
          "Short"
         ],
         "x0": " ",
         "xaxis": "x",
         "y": {
          "bdata": "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",
          "dtype": "f8"
         },
         "y0": " ",
         "yaxis": "y"
        }
       ],
       "layout": {
        "boxmode": "group",
        "legend": {
         "tracegroupgap": 0
        },
        "template": {
         "data": {
          "bar": [
           {
            "error_x": {
             "color": "#2a3f5f"
            },
            "error_y": {
             "color": "#2a3f5f"
            },
            "marker": {
             "line": {
              "color": "#E5ECF6",
              "width": 0.5
             },
             "pattern": {
              "fillmode": "overlay",
              "size": 10,
              "solidity": 0.2
             }
            },
            "type": "bar"
           }
          ],
          "barpolar": [
           {
            "marker": {
             "line": {
              "color": "#E5ECF6",
              "width": 0.5
             },
             "pattern": {
              "fillmode": "overlay",
              "size": 10,
              "solidity": 0.2
             }
            },
            "type": "barpolar"
           }
          ],
          "carpet": [
           {
            "aaxis": {
             "endlinecolor": "#2a3f5f",
             "gridcolor": "white",
             "linecolor": "white",
             "minorgridcolor": "white",
             "startlinecolor": "#2a3f5f"
            },
            "baxis": {
             "endlinecolor": "#2a3f5f",
             "gridcolor": "white",
             "linecolor": "white",
             "minorgridcolor": "white",
             "startlinecolor": "#2a3f5f"
            },
            "type": "carpet"
           }
          ],
          "choropleth": [
           {
            "colorbar": {
             "outlinewidth": 0,
             "ticks": ""
            },
            "type": "choropleth"
           }
          ],
          "contour": [
           {
            "colorbar": {
             "outlinewidth": 0,
             "ticks": ""
            },
            "colorscale": [
             [
              0,
              "#0d0887"
             ],
             [
              0.1111111111111111,
              "#46039f"
             ],
             [
              0.2222222222222222,
              "#7201a8"
             ],
             [
              0.3333333333333333,
              "#9c179e"
             ],
             [
              0.4444444444444444,
              "#bd3786"
             ],
             [
              0.5555555555555556,
              "#d8576b"
             ],
             [
              0.6666666666666666,
              "#ed7953"
             ],
             [
              0.7777777777777778,
              "#fb9f3a"
             ],
             [
              0.8888888888888888,
              "#fdca26"
             ],
             [
              1,
              "#f0f921"
             ]
            ],
            "type": "contour"
           }
          ],
          "contourcarpet": [
           {
            "colorbar": {
             "outlinewidth": 0,
             "ticks": ""
            },
            "type": "contourcarpet"
           }
          ],
          "heatmap": [
           {
            "colorbar": {
             "outlinewidth": 0,
             "ticks": ""
            },
            "colorscale": [
             [
              0,
              "#0d0887"
             ],
             [
              0.1111111111111111,
              "#46039f"
             ],
             [
              0.2222222222222222,
              "#7201a8"
             ],
             [
              0.3333333333333333,
              "#9c179e"
             ],
             [
              0.4444444444444444,
              "#bd3786"
             ],
             [
              0.5555555555555556,
              "#d8576b"
             ],
             [
              0.6666666666666666,
              "#ed7953"
             ],
             [
              0.7777777777777778,
              "#fb9f3a"
             ],
             [
              0.8888888888888888,
              "#fdca26"
             ],
             [
              1,
              "#f0f921"
             ]
            ],
            "type": "heatmap"
           }
          ],
          "histogram": [
           {
            "marker": {
             "pattern": {
              "fillmode": "overlay",
              "size": 10,
              "solidity": 0.2
             }
            },
            "type": "histogram"
           }
          ],
          "histogram2d": [
           {
            "colorbar": {
             "outlinewidth": 0,
             "ticks": ""
            },
            "colorscale": [
             [
              0,
              "#0d0887"
             ],
             [
              0.1111111111111111,
              "#46039f"
             ],
             [
              0.2222222222222222,
              "#7201a8"
             ],
             [
              0.3333333333333333,
              "#9c179e"
             ],
             [
              0.4444444444444444,
              "#bd3786"
             ],
             [
              0.5555555555555556,
              "#d8576b"
             ],
             [
              0.6666666666666666,
              "#ed7953"
             ],
             [
              0.7777777777777778,
              "#fb9f3a"
             ],
             [
              0.8888888888888888,
              "#fdca26"
             ],
             [
              1,
              "#f0f921"
             ]
            ],
            "type": "histogram2d"
           }
          ],
          "histogram2dcontour": [
           {
            "colorbar": {
             "outlinewidth": 0,
             "ticks": ""
            },
            "colorscale": [
             [
              0,
              "#0d0887"
             ],
             [
              0.1111111111111111,
              "#46039f"
             ],
             [
              0.2222222222222222,
              "#7201a8"
             ],
             [
              0.3333333333333333,
              "#9c179e"
             ],
             [
              0.4444444444444444,
              "#bd3786"
             ],
             [
              0.5555555555555556,
              "#d8576b"
             ],
             [
              0.6666666666666666,
              "#ed7953"
             ],
             [
              0.7777777777777778,
              "#fb9f3a"
             ],
             [
              0.8888888888888888,
              "#fdca26"
             ],
             [
              1,
              "#f0f921"
             ]
            ],
            "type": "histogram2dcontour"
           }
          ],
          "mesh3d": [
           {
            "colorbar": {
             "outlinewidth": 0,
             "ticks": ""
            },
            "type": "mesh3d"
           }
          ],
          "parcoords": [
           {
            "line": {
             "colorbar": {
              "outlinewidth": 0,
              "ticks": ""
             }
            },
            "type": "parcoords"
           }
          ],
          "pie": [
           {
            "automargin": true,
            "type": "pie"
           }
          ],
          "scatter": [
           {
            "fillpattern": {
             "fillmode": "overlay",
             "size": 10,
             "solidity": 0.2
            },
            "type": "scatter"
           }
          ],
          "scatter3d": [
           {
            "line": {
             "colorbar": {
              "outlinewidth": 0,
              "ticks": ""
             }
            },
            "marker": {
             "colorbar": {
              "outlinewidth": 0,
              "ticks": ""
             }
            },
            "type": "scatter3d"
           }
          ],
          "scattercarpet": [
           {
            "marker": {
             "colorbar": {
              "outlinewidth": 0,
              "ticks": ""
             }
            },
            "type": "scattercarpet"
           }
          ],
          "scattergeo": [
           {
            "marker": {
             "colorbar": {
              "outlinewidth": 0,
              "ticks": ""
             }
            },
            "type": "scattergeo"
           }
          ],
          "scattergl": [
           {
            "marker": {
             "colorbar": {
              "outlinewidth": 0,
              "ticks": ""
             }
            },
            "type": "scattergl"
           }
          ],
          "scattermap": [
           {
            "marker": {
             "colorbar": {
              "outlinewidth": 0,
              "ticks": ""
             }
            },
            "type": "scattermap"
           }
          ],
          "scattermapbox": [
           {
            "marker": {
             "colorbar": {
              "outlinewidth": 0,
              "ticks": ""
             }
            },
            "type": "scattermapbox"
           }
          ],
          "scatterpolar": [
           {
            "marker": {
             "colorbar": {
              "outlinewidth": 0,
              "ticks": ""
             }
            },
            "type": "scatterpolar"
           }
          ],
          "scatterpolargl": [
           {
            "marker": {
             "colorbar": {
              "outlinewidth": 0,
              "ticks": ""
             }
            },
            "type": "scatterpolargl"
           }
          ],
          "scatterternary": [
           {
            "marker": {
             "colorbar": {
              "outlinewidth": 0,
              "ticks": ""
             }
            },
            "type": "scatterternary"
           }
          ],
          "surface": [
           {
            "colorbar": {
             "outlinewidth": 0,
             "ticks": ""
            },
            "colorscale": [
             [
              0,
              "#0d0887"
             ],
             [
              0.1111111111111111,
              "#46039f"
             ],
             [
              0.2222222222222222,
              "#7201a8"
             ],
             [
              0.3333333333333333,
              "#9c179e"
             ],
             [
              0.4444444444444444,
              "#bd3786"
             ],
             [
              0.5555555555555556,
              "#d8576b"
             ],
             [
              0.6666666666666666,
              "#ed7953"
             ],
             [
              0.7777777777777778,
              "#fb9f3a"
             ],
             [
              0.8888888888888888,
              "#fdca26"
             ],
             [
              1,
              "#f0f921"
             ]
            ],
            "type": "surface"
           }
          ],
          "table": [
           {
            "cells": {
             "fill": {
              "color": "#EBF0F8"
             },
             "line": {
              "color": "white"
             }
            },
            "header": {
             "fill": {
              "color": "#C8D4E3"
             },
             "line": {
              "color": "white"
             }
            },
            "type": "table"
           }
          ]
         },
         "layout": {
          "annotationdefaults": {
           "arrowcolor": "#2a3f5f",
           "arrowhead": 0,
           "arrowwidth": 1
          },
          "autotypenumbers": "strict",
          "coloraxis": {
           "colorbar": {
            "outlinewidth": 0,
            "ticks": ""
           }
          },
          "colorscale": {
           "diverging": [
            [
             0,
             "#8e0152"
            ],
            [
             0.1,
             "#c51b7d"
            ],
            [
             0.2,
             "#de77ae"
            ],
            [
             0.3,
             "#f1b6da"
            ],
            [
             0.4,
             "#fde0ef"
            ],
            [
             0.5,
             "#f7f7f7"
            ],
            [
             0.6,
             "#e6f5d0"
            ],
            [
             0.7,
             "#b8e186"
            ],
            [
             0.8,
             "#7fbc41"
            ],
            [
             0.9,
             "#4d9221"
            ],
            [
             1,
             "#276419"
            ]
           ],
           "sequential": [
            [
             0,
             "#0d0887"
            ],
            [
             0.1111111111111111,
             "#46039f"
            ],
            [
             0.2222222222222222,
             "#7201a8"
            ],
            [
             0.3333333333333333,
             "#9c179e"
            ],
            [
             0.4444444444444444,
             "#bd3786"
            ],
            [
             0.5555555555555556,
             "#d8576b"
            ],
            [
             0.6666666666666666,
             "#ed7953"
            ],
            [
             0.7777777777777778,
             "#fb9f3a"
            ],
            [
             0.8888888888888888,
             "#fdca26"
            ],
            [
             1,
             "#f0f921"
            ]
           ],
           "sequentialminus": [
            [
             0,
             "#0d0887"
            ],
            [
             0.1111111111111111,
             "#46039f"
            ],
            [
             0.2222222222222222,
             "#7201a8"
            ],
            [
             0.3333333333333333,
             "#9c179e"
            ],
            [
             0.4444444444444444,
             "#bd3786"
            ],
            [
             0.5555555555555556,
             "#d8576b"
            ],
            [
             0.6666666666666666,
             "#ed7953"
            ],
            [
             0.7777777777777778,
             "#fb9f3a"
            ],
            [
             0.8888888888888888,
             "#fdca26"
            ],
            [
             1,
             "#f0f921"
            ]
           ]
          },
          "colorway": [
           "#636efa",
           "#EF553B",
           "#00cc96",
           "#ab63fa",
           "#FFA15A",
           "#19d3f3",
           "#FF6692",
           "#B6E880",
           "#FF97FF",
           "#FECB52"
          ],
          "font": {
           "color": "#2a3f5f"
          },
          "geo": {
           "bgcolor": "white",
           "lakecolor": "white",
           "landcolor": "#E5ECF6",
           "showlakes": true,
           "showland": true,
           "subunitcolor": "white"
          },
          "hoverlabel": {
           "align": "left"
          },
          "hovermode": "closest",
          "mapbox": {
           "style": "light"
          },
          "paper_bgcolor": "white",
          "plot_bgcolor": "#E5ECF6",
          "polar": {
           "angularaxis": {
            "gridcolor": "white",
            "linecolor": "white",
            "ticks": ""
           },
           "bgcolor": "#E5ECF6",
           "radialaxis": {
            "gridcolor": "white",
            "linecolor": "white",
            "ticks": ""
           }
          },
          "scene": {
           "xaxis": {
            "backgroundcolor": "#E5ECF6",
            "gridcolor": "white",
            "gridwidth": 2,
            "linecolor": "white",
            "showbackground": true,
            "ticks": "",
            "zerolinecolor": "white"
           },
           "yaxis": {
            "backgroundcolor": "#E5ECF6",
            "gridcolor": "white",
            "gridwidth": 2,
            "linecolor": "white",
            "showbackground": true,
            "ticks": "",
            "zerolinecolor": "white"
           },
           "zaxis": {
            "backgroundcolor": "#E5ECF6",
            "gridcolor": "white",
            "gridwidth": 2,
            "linecolor": "white",
            "showbackground": true,
            "ticks": "",
            "zerolinecolor": "white"
           }
          },
          "shapedefaults": {
           "line": {
            "color": "#2a3f5f"
           }
          },
          "ternary": {
           "aaxis": {
            "gridcolor": "white",
            "linecolor": "white",
            "ticks": ""
           },
           "baxis": {
            "gridcolor": "white",
            "linecolor": "white",
            "ticks": ""
           },
           "bgcolor": "#E5ECF6",
           "caxis": {
            "gridcolor": "white",
            "linecolor": "white",
            "ticks": ""
           }
          },
          "title": {
           "x": 0.05
          },
          "xaxis": {
           "automargin": true,
           "gridcolor": "white",
           "linecolor": "white",
           "ticks": "",
           "title": {
            "standoff": 15
           },
           "zerolinecolor": "white",
           "zerolinewidth": 2
          },
          "yaxis": {
           "automargin": true,
           "gridcolor": "white",
           "linecolor": "white",
           "ticks": "",
           "title": {
            "standoff": 15
           },
           "zerolinecolor": "white",
           "zerolinewidth": 2
          }
         }
        },
        "title": {
         "text": "Economic Loss by Outage Duration"
        },
        "xaxis": {
         "anchor": "y",
         "domain": [
          0,
          1
         ],
         "title": {
          "text": "Outage Duration"
         }
        },
        "yaxis": {
         "anchor": "x",
         "domain": [
          0,
          1
         ],
         "title": {
          "text": "Economic Loss"
         }
        }
       }
      }
     },
     "metadata": {},
     "output_type": "display_data"
    }
   ],
   "source": [
    "fig = px.box(outage_clean, x='OUTAGE.TYPE', y='ECONOMIC.LOSS',\n",
    "             title='Economic Loss by Outage Duration',\n",
    "             labels={'OUTAGE.TYPE': 'Outage Duration', 'ECONOMIC.LOSS': 'Economic Loss'})\n",
    "fig.show()"
   ]
  },
  {
   "cell_type": "markdown",
   "metadata": {},
   "source": [
    "## Step 5: Framing a Prediction Problem"
   ]
  },
  {
   "cell_type": "markdown",
   "metadata": {},
   "source": [
    "We want to predict economic loss. This will be a regression problem. "
   ]
  },
  {
   "cell_type": "code",
   "execution_count": 32,
   "metadata": {
    "ExecuteTime": {
     "end_time": "2019-10-31T23:36:28.657068Z",
     "start_time": "2019-10-31T23:36:28.654650Z"
    }
   },
   "outputs": [],
   "source": [
    "# TODO"
   ]
  },
  {
   "cell_type": "markdown",
   "metadata": {},
   "source": [
    "## Step 6: Baseline Model"
   ]
  },
  {
   "cell_type": "code",
   "execution_count": 33,
   "metadata": {
    "ExecuteTime": {
     "end_time": "2019-10-31T23:36:28.662099Z",
     "start_time": "2019-10-31T23:36:28.660016Z"
    }
   },
   "outputs": [],
   "source": [
    "# TODO"
   ]
  },
  {
   "cell_type": "markdown",
   "metadata": {},
   "source": [
    "## Step 7: Final Model"
   ]
  },
  {
   "cell_type": "code",
   "execution_count": 34,
   "metadata": {
    "ExecuteTime": {
     "end_time": "2019-10-31T23:36:28.662099Z",
     "start_time": "2019-10-31T23:36:28.660016Z"
    }
   },
   "outputs": [],
   "source": [
    "# TODO"
   ]
  },
  {
   "cell_type": "markdown",
   "metadata": {},
   "source": [
    "## Step 8: Fairness Analysis"
   ]
  },
  {
   "cell_type": "code",
   "execution_count": 35,
   "metadata": {
    "ExecuteTime": {
     "end_time": "2019-10-31T23:36:28.666489Z",
     "start_time": "2019-10-31T23:36:28.664381Z"
    }
   },
   "outputs": [],
   "source": [
    "# TODO"
   ]
  }
 ],
 "metadata": {
  "kernelspec": {
   "display_name": "dsc80",
   "language": "python",
   "name": "python3"
  },
  "language_info": {
   "codemirror_mode": {
    "name": "ipython",
    "version": 3
   },
   "file_extension": ".py",
   "mimetype": "text/x-python",
   "name": "python",
   "nbconvert_exporter": "python",
   "pygments_lexer": "ipython3",
   "version": "3.12.8"
  }
 },
 "nbformat": 4,
 "nbformat_minor": 2
}
